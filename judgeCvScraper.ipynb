{
 "cells": [
  {
   "cell_type": "code",
   "execution_count": 1,
   "id": "13196ee4",
   "metadata": {},
   "outputs": [],
   "source": [
    "import time\n",
    "\n",
    "from selenium import webdriver\n",
    "from selenium.webdriver.chrome.service import Service\n",
    "from selenium.webdriver.chrome.options import Options\n",
    "from webdriver_manager.chrome import ChromeDriverManager\n",
    "from selenium.webdriver.common.by import By\n",
    "import pandas as pd\n"
   ]
  },
  {
   "cell_type": "code",
   "execution_count": 2,
   "id": "1f64ee83",
   "metadata": {},
   "outputs": [
    {
     "name": "stderr",
     "output_type": "stream",
     "text": [
      "[WDM] - Downloading: 100%|████████████████████████████████████████████████████████| 6.30M/6.30M [00:00<00:00, 7.33MB/s]\n"
     ]
    }
   ],
   "source": [
    "#runner\n",
    "options = Options()\n",
    "options.add_experimental_option(\"detach\", True)\n",
    "\n",
    "driver = webdriver.Chrome(service=Service(ChromeDriverManager().install()),options=options)\n",
    "\n",
    "\n",
    "driver.get(\"https://judgescv.court.gov.il/\")\n"
   ]
  },
  {
   "cell_type": "code",
   "execution_count": 3,
   "id": "c7186e51",
   "metadata": {},
   "outputs": [],
   "source": [
    "#scroller\n"
   ]
  },
  {
   "cell_type": "code",
   "execution_count": 4,
   "id": "5db64e1d",
   "metadata": {},
   "outputs": [],
   "source": [
    "#page open now copy all href to list\n",
    "links1 = driver.find_elements(By.TAG_NAME,\"a\")\n",
    "\n",
    "\n",
    "urls=list()\n",
    "for link in links1:\n",
    "    urls.append(link.get_attribute(\"href\"))\n",
    "    \n",
    "    \n",
    "    \n"
   ]
  },
  {
   "cell_type": "code",
   "execution_count": 5,
   "id": "27dcb6d5",
   "metadata": {
    "scrolled": true
   },
   "outputs": [
    {
     "name": "stdout",
     "output_type": "stream",
     "text": [
      "876\n"
     ]
    }
   ],
   "source": [
    "print(len(urls))"
   ]
  },
  {
   "cell_type": "code",
   "execution_count": 12,
   "id": "a3b3c9a3",
   "metadata": {},
   "outputs": [],
   "source": [
    "#clean by scv in link\n",
    "clean_urls = list()\n",
    "for link in urls:\n",
    "    if \"scv\" in link and \"assets\" not in link and \"department\" not in link and \"Department\" not in link:\n",
    "        clean_urls.append(link)"
   ]
  },
  {
   "cell_type": "code",
   "execution_count": 19,
   "id": "f857b3f2",
   "metadata": {},
   "outputs": [
    {
     "name": "stdout",
     "output_type": "stream",
     "text": [
      "867\n"
     ]
    }
   ],
   "source": [
    "print(len(clean_urls))"
   ]
  },
  {
   "cell_type": "code",
   "execution_count": 20,
   "id": "3b3e5eeb",
   "metadata": {},
   "outputs": [],
   "source": [
    "clean= clean_urls[:-1]"
   ]
  },
  {
   "cell_type": "code",
   "execution_count": 21,
   "id": "c2ff8548",
   "metadata": {},
   "outputs": [
    {
     "data": {
      "text/plain": [
       "866"
      ]
     },
     "execution_count": 21,
     "metadata": {},
     "output_type": "execute_result"
    }
   ],
   "source": [
    "len(clean)"
   ]
  },
  {
   "cell_type": "code",
   "execution_count": 17,
   "id": "fd67f088",
   "metadata": {},
   "outputs": [],
   "source": [
    "#now for old judges - same play\n",
    "#page open now copy all href to list\n",
    "links2 = driver.find_elements(By.TAG_NAME,\"a\")\n",
    "\n",
    "\n",
    "urls2=list()\n",
    "for link in links2:\n",
    "    urls2.append(link.get_attribute(\"href\"))\n",
    "    \n",
    "    \n",
    "    \n",
    "\n"
   ]
  },
  {
   "cell_type": "code",
   "execution_count": 22,
   "id": "9459f4a2",
   "metadata": {},
   "outputs": [],
   "source": [
    "#should be 852\n",
    "#clean by scv in link\n",
    "clean_urls2 = list()\n",
    "for link in urls2:\n",
    "    if \"scv\" in link and \"assets\" not in link and \"department\" not in link and \"Department\" not in link:\n",
    "        clean_urls2.append(link)\n"
   ]
  },
  {
   "cell_type": "code",
   "execution_count": 23,
   "id": "b4bb171d",
   "metadata": {},
   "outputs": [
    {
     "data": {
      "text/plain": [
       "853"
      ]
     },
     "execution_count": 23,
     "metadata": {},
     "output_type": "execute_result"
    }
   ],
   "source": [
    "len(clean_urls2)"
   ]
  },
  {
   "cell_type": "code",
   "execution_count": 25,
   "id": "2e01aa5f",
   "metadata": {},
   "outputs": [],
   "source": [
    "clean_urls2 = clean_urls2[:-1]"
   ]
  },
  {
   "cell_type": "code",
   "execution_count": 27,
   "id": "74cbb1f9",
   "metadata": {},
   "outputs": [],
   "source": [
    "#new judges = clean , old = clean_urls2\n",
    "driver.get(clean[1])"
   ]
  },
  {
   "cell_type": "code",
   "execution_count": null,
   "id": "2d98b573",
   "metadata": {},
   "outputs": [],
   "source": [
    "<div _ngcontent-qin-5=\"\" class=\"lg-mb-30\">\n",
    "          <h1 _ngcontent-qin-5=\"\" class=\"h2  blue-txt reforma-medium\">השופטת  אוסילה אבו אסעד </h1>\n",
    "          <h3 _ngcontent-qin-5=\"\" class=\"description-txt blue-txt bold xs-mb-10\">أسيله أبو أسعد</h3>\n",
    "          <h3 _ngcontent-qin-5=\"\" class=\"description-txt blue-txt bold xs-mb-10\">OSAILA ABU ASSAD</h3>\n",
    "          \n",
    "          <h4 _ngcontent-qin-5=\"\" class=\"h4 txt dark-gray-txt bold\">שופטת בית משפט המחוזי נצרת</h4>\n",
    "          <!--template bindings={}-->\n",
    "       \n",
    "          <br _ngcontent-qin-5=\"\">\n",
    "          <ul _ngcontent-qin-5=\"\" class=\"list-unstyled margin-for-ul  xs-mb-25 lg-mb-30 \">\n",
    "            <!--template bindings={}--><li _ngcontent-qin-5=\"\" class=\"dark-gray-txt txt\">\n",
    "              נולדה בשנת 1973 בישראל.\n",
    "            </li><li _ngcontent-qin-5=\"\" class=\"dark-gray-txt txt\">\n",
    "              בשנת 1991 סיימה את לימודי התיכון בביה\"ס הבפטיסטי בנצרת.\n",
    "            </li><li _ngcontent-qin-5=\"\" class=\"dark-gray-txt txt\">\n",
    "              בשנת 1996 סיימה לימודי תואר ראשון במשפטים באוניברסיטה העברית בירושלים.\n",
    "            </li><li _ngcontent-qin-5=\"\" class=\"dark-gray-txt txt\">\n",
    "              בשנים 1996-1997 התמחתה במשרד עורכי-דין.\n",
    "            </li><li _ngcontent-qin-5=\"\" class=\"dark-gray-txt txt\">\n",
    "              במאי 1997 הוסמכה כעורכת-דין ומאז עסקה במקצוע.\n",
    "            </li><li _ngcontent-qin-5=\"\" class=\"dark-gray-txt txt\">\n",
    "              בנובמבר 2004 מונתה לכהונת רשמת/ראש הוצל\"פ של בתי משפט השלום במחוז הצפון.\n",
    "            </li><li _ngcontent-qin-5=\"\" class=\"dark-gray-txt txt\">\n",
    "              בינואר 2012 מונתה לכהונת שופטת בבתי משפט השלום במחוז הצפון.\n",
    "            </li><li _ngcontent-qin-5=\"\" class=\"dark-gray-txt txt\">\n",
    "              באוגוסט 2016 עברה לכהן בבית משפט השלום נצרת.\n",
    "            </li><li _ngcontent-qin-5=\"\" class=\"dark-gray-txt txt\">\n",
    "              במרץ 2022 מונה לכהונת שופטת בית משפט המחוזי נצרת\n",
    "            </li>\n",
    "          </ul>\n",
    "\n",
    "        </div>"
   ]
  },
  {
   "cell_type": "code",
   "execution_count": 34,
   "id": "4540faf9",
   "metadata": {},
   "outputs": [],
   "source": [
    "jjj = driver.find_elements(By.CLASS_NAME,\"lg-mb-30\")"
   ]
  },
  {
   "cell_type": "code",
   "execution_count": 38,
   "id": "9615c0e5",
   "metadata": {
    "scrolled": true
   },
   "outputs": [
    {
     "name": "stdout",
     "output_type": "stream",
     "text": [
      "[<selenium.webdriver.remote.webelement.WebElement (session=\"d99dec8d6844657366b20b014b2eb4f6\", element=\"EB118D4AF1595995326E12CEAC62D3A1_element_1983\")>, <selenium.webdriver.remote.webelement.WebElement (session=\"d99dec8d6844657366b20b014b2eb4f6\", element=\"EB118D4AF1595995326E12CEAC62D3A1_element_1938\")>, <selenium.webdriver.remote.webelement.WebElement (session=\"d99dec8d6844657366b20b014b2eb4f6\", element=\"EB118D4AF1595995326E12CEAC62D3A1_element_2013\")>]\n",
      "this is\n",
      "this isהשופטת אוסילה אבו אסעד\n",
      "أسيله أبو أسعد\n",
      "OSAILA ABU ASSAD\n",
      "שופטת בית משפט המחוזי נצרת\n",
      "\n",
      "נולדה בשנת 1973 בישראל.\n",
      "בשנת 1991 סיימה את לימודי התיכון בביה\"ס הבפטיסטי בנצרת.\n",
      "בשנת 1996 סיימה לימודי תואר ראשון במשפטים באוניברסיטה העברית בירושלים.\n",
      "בשנים 1996-1997 התמחתה במשרד עורכי-דין.\n",
      "במאי 1997 הוסמכה כעורכת-דין ומאז עסקה במקצוע.\n",
      "בנובמבר 2004 מונתה לכהונת רשמת/ראש הוצל\"פ של בתי משפט השלום במחוז הצפון.\n",
      "בינואר 2012 מונתה לכהונת שופטת בבתי משפט השלום במחוז הצפון.\n",
      "באוגוסט 2016 עברה לכהן בבית משפט השלום נצרת.\n",
      "במרץ 2022 מונה לכהונת שופטת בית משפט המחוזי נצרת\n",
      "this isנולדה בשנת 1973 בישראל.\n",
      "בשנת 1991 סיימה את לימודי התיכון בביה\"ס הבפטיסטי בנצרת.\n",
      "בשנת 1996 סיימה לימודי תואר ראשון במשפטים באוניברסיטה העברית בירושלים.\n",
      "בשנים 1996-1997 התמחתה במשרד עורכי-דין.\n",
      "במאי 1997 הוסמכה כעורכת-דין ומאז עסקה במקצוע.\n",
      "בנובמבר 2004 מונתה לכהונת רשמת/ראש הוצל\"פ של בתי משפט השלום במחוז הצפון.\n",
      "בינואר 2012 מונתה לכהונת שופטת בבתי משפט השלום במחוז הצפון.\n",
      "באוגוסט 2016 עברה לכהן בבית משפט השלום נצרת.\n",
      "במרץ 2022 מונה לכהונת שופטת בית משפט המחוזי נצרת\n"
     ]
    }
   ],
   "source": [
    "print(jjj)\n",
    "for i in jjj:\n",
    "    print(\"this is\"+i.text)"
   ]
  },
  {
   "cell_type": "code",
   "execution_count": 47,
   "id": "03b437a1",
   "metadata": {},
   "outputs": [],
   "source": [
    "juj_list=list()\n",
    "for i in range(len(clean)):\n",
    "    driver.get(clean[i])\n",
    "    time.sleep(2)\n",
    "    jjj = driver.find_elements(By.CLASS_NAME,\"lg-mb-30\")\n",
    "    judj = \"\"\n",
    "    for j in jjj:\n",
    "        judj=judj+\" \"+j.text\n",
    "    juj_list.append(judj)    \n",
    "    "
   ]
  },
  {
   "cell_type": "code",
   "execution_count": null,
   "id": "caf7850f",
   "metadata": {},
   "outputs": [],
   "source": []
  },
  {
   "cell_type": "code",
   "execution_count": 48,
   "id": "fc96642c",
   "metadata": {},
   "outputs": [
    {
     "data": {
      "text/plain": [
       "866"
      ]
     },
     "execution_count": 48,
     "metadata": {},
     "output_type": "execute_result"
    }
   ],
   "source": [
    "len(juj_list)"
   ]
  },
  {
   "cell_type": "code",
   "execution_count": 51,
   "id": "75909a0e",
   "metadata": {},
   "outputs": [],
   "source": [
    "add_list=list()\n",
    "for i in range(len(juj_list)):\n",
    "    if \"ה\" not in juj_list[i]:\n",
    "        add_list.append(i)"
   ]
  },
  {
   "cell_type": "code",
   "execution_count": 53,
   "id": "5f292abb",
   "metadata": {
    "scrolled": false
   },
   "outputs": [],
   "source": [
    "juj_list_reserve = juj_list"
   ]
  },
  {
   "cell_type": "code",
   "execution_count": 54,
   "id": "ee473045",
   "metadata": {},
   "outputs": [],
   "source": [
    "\n",
    "for i in add_list:\n",
    "    driver.get(clean[i])\n",
    "    time.sleep(5)\n",
    "    jjj = driver.find_elements(By.CLASS_NAME,\"lg-mb-30\")\n",
    "    judj = \"\"\n",
    "    for j in jjj:\n",
    "        judj=judj+\" \"+j.text\n",
    "    juj_list[i]=judj  "
   ]
  },
  {
   "cell_type": "code",
   "execution_count": 55,
   "id": "3a68603e",
   "metadata": {},
   "outputs": [],
   "source": [
    "for i in range(len(juj_list)):\n",
    "    if \"ה\" not in juj_list[i]:\n",
    "        print(i)"
   ]
  },
  {
   "cell_type": "code",
   "execution_count": 58,
   "id": "c95df82e",
   "metadata": {},
   "outputs": [],
   "source": [
    "df1 =pd.DataFrame(juj_list )"
   ]
  },
  {
   "cell_type": "code",
   "execution_count": 62,
   "id": "71769375",
   "metadata": {},
   "outputs": [],
   "source": [
    "df1.to_csv(\"currJudge.csv\",index=False)"
   ]
  },
  {
   "cell_type": "code",
   "execution_count": null,
   "id": "4f866d73",
   "metadata": {},
   "outputs": [],
   "source": [
    "#now for old"
   ]
  },
  {
   "cell_type": "code",
   "execution_count": 63,
   "id": "c81f0b28",
   "metadata": {},
   "outputs": [],
   "source": [
    "juj_list2=list()\n",
    "for i in range(len(clean_urls2)):\n",
    "    driver.get(clean_urls2[i])\n",
    "    #time.sleep(2)\n",
    "    jjj = driver.find_elements(By.CLASS_NAME,\"lg-mb-30\")\n",
    "    judj = \"\"\n",
    "    for j in jjj:\n",
    "        judj=judj+\" \"+j.text\n",
    "    juj_list2.append(judj)  "
   ]
  },
  {
   "cell_type": "code",
   "execution_count": 64,
   "id": "388419c3",
   "metadata": {},
   "outputs": [],
   "source": [
    "add_list2=list()\n",
    "for i in range(len(juj_list2)):\n",
    "    if \"ה\" not in juj_list2[i]:\n",
    "        add_list2.append(i)"
   ]
  },
  {
   "cell_type": "code",
   "execution_count": 65,
   "id": "a2df77c7",
   "metadata": {},
   "outputs": [
    {
     "data": {
      "text/plain": [
       "92"
      ]
     },
     "execution_count": 65,
     "metadata": {},
     "output_type": "execute_result"
    }
   ],
   "source": [
    "len(add_list2)"
   ]
  },
  {
   "cell_type": "code",
   "execution_count": 66,
   "id": "acdd18fe",
   "metadata": {},
   "outputs": [],
   "source": [
    "for i in add_list2:\n",
    "    driver.get(clean_urls2[i])\n",
    "    time.sleep(4)\n",
    "    jjj = driver.find_elements(By.CLASS_NAME,\"lg-mb-30\")\n",
    "    judj = \"\"\n",
    "    for j in jjj:\n",
    "        judj=judj+\" \"+j.text\n",
    "    juj_list2[i]=judj "
   ]
  },
  {
   "cell_type": "code",
   "execution_count": 67,
   "id": "2de5216b",
   "metadata": {},
   "outputs": [],
   "source": [
    "add_list2=list()\n",
    "for i in range(len(juj_list2)):\n",
    "    if \"ה\" not in juj_list2[i]:\n",
    "        add_list2.append(i)"
   ]
  },
  {
   "cell_type": "code",
   "execution_count": 68,
   "id": "04c9403d",
   "metadata": {},
   "outputs": [
    {
     "data": {
      "text/plain": [
       "0"
      ]
     },
     "execution_count": 68,
     "metadata": {},
     "output_type": "execute_result"
    }
   ],
   "source": [
    "len(add_list2)"
   ]
  },
  {
   "cell_type": "code",
   "execution_count": 69,
   "id": "3d1c575b",
   "metadata": {},
   "outputs": [],
   "source": [
    "#tofile \n",
    "df2 =pd.DataFrame(juj_list2 )\n",
    "df2.to_csv(\"dimosJudge.csv\",index=False)\n"
   ]
  },
  {
   "cell_type": "code",
   "execution_count": null,
   "id": "1531508d",
   "metadata": {},
   "outputs": [],
   "source": [
    "#check we didnt miss:\n",
    "#for i in len juj_list\n",
    "#if \"ה\" not in juj_list[i]\n",
    "#print(i)\n",
    "\n",
    "\n"
   ]
  },
  {
   "cell_type": "code",
   "execution_count": 70,
   "id": "2d31d27f",
   "metadata": {},
   "outputs": [
    {
     "data": {
      "text/html": [
       "<div>\n",
       "<style scoped>\n",
       "    .dataframe tbody tr th:only-of-type {\n",
       "        vertical-align: middle;\n",
       "    }\n",
       "\n",
       "    .dataframe tbody tr th {\n",
       "        vertical-align: top;\n",
       "    }\n",
       "\n",
       "    .dataframe thead th {\n",
       "        text-align: right;\n",
       "    }\n",
       "</style>\n",
       "<table border=\"1\" class=\"dataframe\">\n",
       "  <thead>\n",
       "    <tr style=\"text-align: right;\">\n",
       "      <th></th>\n",
       "      <th>0</th>\n",
       "    </tr>\n",
       "  </thead>\n",
       "  <tbody>\n",
       "    <tr>\n",
       "      <th>0</th>\n",
       "      <td>השופטת מלכה אביב\\nMALKA AVIV\\nשופטת בית משפט...</td>\n",
       "    </tr>\n",
       "    <tr>\n",
       "      <th>1</th>\n",
       "      <td>השופטת דליה אבי-גיא\\nDELIA AVI-GUY\\nסגנית נש...</td>\n",
       "    </tr>\n",
       "    <tr>\n",
       "      <th>2</th>\n",
       "      <td>השופטת רות אבידע\\nRUTH AVIDA\\nשופטת בכירה בי...</td>\n",
       "    </tr>\n",
       "    <tr>\n",
       "      <th>3</th>\n",
       "      <td>השופט יצחק אבינל ז\"ל\\nשופט של בית משפט שלום ...</td>\n",
       "    </tr>\n",
       "    <tr>\n",
       "      <th>4</th>\n",
       "      <td>נולדה בישראל.\\nבשנת 1967 סיימה את לימודיה ה...</td>\n",
       "    </tr>\n",
       "    <tr>\n",
       "      <th>...</th>\n",
       "      <td>...</td>\n",
       "    </tr>\n",
       "    <tr>\n",
       "      <th>847</th>\n",
       "      <td>השופט צבי שרצקי\\nZVI SHERATZKY\\nשופט בכיר בי...</td>\n",
       "    </tr>\n",
       "    <tr>\n",
       "      <th>848</th>\n",
       "      <td>השופט בן ציון שרשבסקי ז\"ל\\nשופט בית המשפט הע...</td>\n",
       "    </tr>\n",
       "    <tr>\n",
       "      <th>849</th>\n",
       "      <td>השופט אברהם ששון ז\"ל\\nשופט של בימ\"ש שלום אשד...</td>\n",
       "    </tr>\n",
       "    <tr>\n",
       "      <th>850</th>\n",
       "      <td>השופט שלמה תוסיה כהן ז\"ל\\nשופט של בימ\"ש מחוז...</td>\n",
       "    </tr>\n",
       "    <tr>\n",
       "      <th>851</th>\n",
       "      <td>השופט ארי תיבון ז\"ל\\nARI TIBBON\\nשופט בית הד...</td>\n",
       "    </tr>\n",
       "  </tbody>\n",
       "</table>\n",
       "<p>852 rows × 1 columns</p>\n",
       "</div>"
      ],
      "text/plain": [
       "                                                     0\n",
       "0      השופטת מלכה אביב\\nMALKA AVIV\\nשופטת בית משפט...\n",
       "1      השופטת דליה אבי-גיא\\nDELIA AVI-GUY\\nסגנית נש...\n",
       "2      השופטת רות אבידע\\nRUTH AVIDA\\nשופטת בכירה בי...\n",
       "3      השופט יצחק אבינל ז\"ל\\nשופט של בית משפט שלום ...\n",
       "4       נולדה בישראל.\\nבשנת 1967 סיימה את לימודיה ה...\n",
       "..                                                 ...\n",
       "847    השופט צבי שרצקי\\nZVI SHERATZKY\\nשופט בכיר בי...\n",
       "848    השופט בן ציון שרשבסקי ז\"ל\\nשופט בית המשפט הע...\n",
       "849    השופט אברהם ששון ז\"ל\\nשופט של בימ\"ש שלום אשד...\n",
       "850    השופט שלמה תוסיה כהן ז\"ל\\nשופט של בימ\"ש מחוז...\n",
       "851    השופט ארי תיבון ז\"ל\\nARI TIBBON\\nשופט בית הד...\n",
       "\n",
       "[852 rows x 1 columns]"
      ]
     },
     "execution_count": 70,
     "metadata": {},
     "output_type": "execute_result"
    }
   ],
   "source": [
    "df2"
   ]
  }
 ],
 "metadata": {
  "kernelspec": {
   "display_name": "Python 3 (ipykernel)",
   "language": "python",
   "name": "python3"
  },
  "language_info": {
   "codemirror_mode": {
    "name": "ipython",
    "version": 3
   },
   "file_extension": ".py",
   "mimetype": "text/x-python",
   "name": "python",
   "nbconvert_exporter": "python",
   "pygments_lexer": "ipython3",
   "version": "3.9.6"
  }
 },
 "nbformat": 4,
 "nbformat_minor": 5
}

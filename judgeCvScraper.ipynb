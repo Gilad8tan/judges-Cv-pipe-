{
 "cells": [
  {
   "cell_type": "code",
   "execution_count": 1,
   "id": "13196ee4",
   "metadata": {},
   "outputs": [],
   "source": [
    "import time\n",
    "\n",
    "from selenium import webdriver\n",
    "from selenium.webdriver.chrome.service import Service\n",
    "from selenium.webdriver.chrome.options import Options\n",
    "from webdriver_manager.chrome import ChromeDriverManager\n",
    "from selenium.webdriver.common.by import By\n",
    "import pandas as pd\n"
   ]
  },
  {
   "cell_type": "code",
   "execution_count": 2,
   "id": "1f64ee83",
   "metadata": {},
   "outputs": [
    {
     "name": "stderr",
     "output_type": "stream",
     "text": [
      "[WDM] - Downloading: 100%|████████████████████████████████████████████████████████| 6.30M/6.30M [00:00<00:00, 7.33MB/s]\n"
     ]
    }
   ],
   "source": [
    "#runner\n",
    "options = Options()\n",
    "options.add_experimental_option(\"detach\", True)\n",
    "\n",
    "driver = webdriver.Chrome(service=Service(ChromeDriverManager().install()),options=options)\n",
    "\n",
    "\n",
    "driver.get(\"https://judgescv.court.gov.il/\")\n"
   ]
  },
  {
   "cell_type": "code",
   "execution_count": 3,
   "id": "c7186e51",
   "metadata": {},
   "outputs": [],
   "source": [
    "#scroller\n"
   ]
  },
  {
   "cell_type": "code",
   "execution_count": 4,
   "id": "5db64e1d",
   "metadata": {},
   "outputs": [],
   "source": [
    "#page open now copy all href to list\n",
    "links1 = driver.find_elements(By.TAG_NAME,\"a\")\n",
    "\n",
    "\n",
    "urls=list()\n",
    "for link in links1:\n",
    "    urls.append(link.get_attribute(\"href\"))\n",
    "    \n",
    "    \n",
    "    \n"
   ]
  },
  {
   "cell_type": "code",
   "execution_count": 5,
   "id": "27dcb6d5",
   "metadata": {
    "scrolled": true
   },
   "outputs": [
    {
     "name": "stdout",
     "output_type": "stream",
     "text": [
      "876\n"
     ]
    }
   ],
   "source": [
    "print(len(urls))"
   ]
  },
  {
   "cell_type": "code",
   "execution_count": 12,
   "id": "a3b3c9a3",
   "metadata": {},
   "outputs": [],
   "source": [
    "#clean by scv in link\n",
    "clean_urls = list()\n",
    "for link in urls:\n",
    "    if \"scv\" in link and \"assets\" not in link and \"department\" not in link and \"Department\" not in link:\n",
    "        clean_urls.append(link)"
   ]
  },
  {
   "cell_type": "code",
   "execution_count": 19,
   "id": "f857b3f2",
   "metadata": {},
   "outputs": [
    {
     "name": "stdout",
     "output_type": "stream",
     "text": [
      "867\n"
     ]
    }
   ],
   "source": [
    "print(len(clean_urls))"
   ]
  },
  {
   "cell_type": "code",
   "execution_count": 14,
   "id": "346aae12",
   "metadata": {
    "scrolled": true
   },
   "outputs": [
    {
     "name": "stdout",
     "output_type": "stream",
     "text": [
      "['https://judgescv.court.gov.il/938984ba-645e-e811-8105-0050568a6817%D7%9E%D7%90%D7%99%D7%94-%D7%90%D7%91-%D7%92%D7%A0%D7%99%D7%9D-%D7%95%D7%99%D7%99%D7%A0%D7%A9%D7%98%D7%99%D7%99%D7%9F', 'https://judgescv.court.gov.il/1f8884ba-645e-e811-8105-0050568a6817%D7%90%D7%95%D7%A1%D7%99%D7%9C%D7%94-%D7%90%D7%91%D7%95-%D7%90%D7%A1%D7%A2%D7%93', 'https://judgescv.court.gov.il/6d8b84ba-645e-e811-8105-0050568a6817%D7%A0%D7%A1%D7%A8-%D7%90%D7%91%D7%95-%D7%98%D7%94%D7%94', 'https://judgescv.court.gov.il/038884ba-645e-e811-8105-0050568a6817%D7%9B%D7%90%D7%9E%D7%9C-%D7%90%D7%91%D7%95-%D7%A7%D7%90%D7%A2%D7%95%D7%93', 'https://judgescv.court.gov.il/1d8884ba-645e-e811-8105-0050568a6817%D7%94%D7%99%D7%A9%D7%90%D7%9D-%D7%90%D7%91%D7%95-%D7%A9%D7%97%D7%90%D7%93%D7%94', 'https://judgescv.court.gov.il/a58b84ba-645e-e811-8105-0050568a6817%D7%90%D7%97%D7%9E%D7%93-%D7%90%D7%91%D7%95-%D7%A4%D7%A8%D7%99%D7%97%D7%94', 'https://judgescv.court.gov.il/e7d09525-53db-e811-810e-0050568a574c%D7%A2%D7%A8%D7%9F-%D7%90%D7%91%D7%99%D7%98%D7%9C', 'https://judgescv.court.gov.il/e18c84ba-645e-e811-8105-0050568a6817%D7%A9%D7%90%D7%95%D7%9C-%D7%90%D7%91%D7%99%D7%A0%D7%95%D7%A8', 'https://judgescv.court.gov.il/b18784ba-645e-e811-8105-0050568a6817%D7%A2%D7%99%D7%A0%D7%AA-%D7%90%D7%91%D7%9E%D7%9F-%D7%9E%D7%95%D7%9C%D7%A8', 'https://judgescv.court.gov.il/0f8984ba-645e-e811-8105-0050568a6817%D7%92%D7%99%D7%90-%D7%90%D7%91%D7%A0%D7%95%D7%9F', 'https://judgescv.court.gov.il/698c84ba-645e-e811-8105-0050568a6817%D7%90%D7%9C%D7%99-%D7%90%D7%91%D7%A8%D7%91%D7%A0%D7%90%D7%9C', 'https://judgescv.court.gov.il/be5c677b-056f-e911-8116-0050568a574c%D7%90%D7%91%D7%99%D7%A2%D7%93-%D7%90%D7%91%D7%A8%D7%92%D7%99%D7%9C', 'https://judgescv.court.gov.il/a58c84ba-645e-e811-8105-0050568a6817%D7%99%D7%95%D7%A0%D7%AA%D7%9F-%D7%90%D7%91%D7%A8%D7%94%D7%9D', 'https://judgescv.court.gov.il/578d84ba-645e-e811-8105-0050568a6817%D7%90%D7%99%D7%99%D7%9C-%D7%A9%D7%9C%D7%95%D7%9D-%D7%90%D7%91%D7%A8%D7%94%D7%9E%D7%99', 'https://judgescv.court.gov.il/f98684ba-645e-e811-8105-0050568a6817%D7%AA%D7%9E%D7%A8-%D7%90%D7%91%D7%A8%D7%94%D7%9E%D7%99', 'https://judgescv.court.gov.il/838c84ba-645e-e811-8105-0050568a6817%D7%9E%D7%99%D7%9B%D7%9C-%D7%90%D7%92%D7%9E%D7%95%D7%9F-%D7%92%D7%95%D7%A0%D7%9F', 'https://judgescv.court.gov.il/f2fb7606-ed4f-eb11-8125-0050568a574c%D7%92%D7%99%D7%9C-%D7%90%D7%93%D7%9C%D7%9E%D7%9F', 'https://judgescv.court.gov.il/af8d84ba-645e-e811-8105-0050568a6817%D7%9C%D7%99%D7%90%D7%95%D7%A8%D7%94-%D7%90%D7%93%D7%9C%D7%A9%D7%98%D7%99%D7%99%D7%9F', 'https://judgescv.court.gov.il/038d84ba-645e-e811-8105-0050568a6817%D7%90%D7%95%D7%A8-%D7%90%D7%93%D7%9D', 'https://judgescv.court.gov.il/018a84ba-645e-e811-8105-0050568a6817%D7%90%D7%AA%D7%99-%D7%94%D7%92%D7%A8-%D7%90%D7%93%D7%A8%D7%99', 'https://judgescv.court.gov.il/5b8d84ba-645e-e811-8105-0050568a6817%D7%A0%D7%A2%D7%9E%D7%9F-%D7%90%D7%93%D7%A8%D7%99%D7%A1', 'https://judgescv.court.gov.il/83b164a4-42ce-ec11-a979-005056ad7925%D7%A1%D7%91%D7%99%D7%9F-%D7%90%D7%95%D7%97%D7%A0%D7%94', 'https://judgescv.court.gov.il/4d8784ba-645e-e811-8105-0050568a6817%D7%99%D7%A4%D7%A2%D7%AA-%D7%90%D7%95%D7%A0%D7%92%D7%A8-%D7%91%D7%99%D7%98%D7%95%D7%9F', 'https://judgescv.court.gov.il/ab8784ba-645e-e811-8105-0050568a6817%D7%98%D7%9C-%D7%90%D7%95%D7%A1%D7%98%D7%A4%D7%9C%D7%93-%D7%A0%D7%90%D7%95%D7%99', 'https://judgescv.court.gov.il/fb8684ba-645e-e811-8105-0050568a6817%D7%90%D7%9C%D7%95%D7%9F-%D7%90%D7%95%D7%A4%D7%99%D7%A8', 'https://judgescv.court.gov.il/898984ba-645e-e811-8105-0050568a6817%D7%A8%D7%95%D7%A0%D7%99%D7%AA-%D7%90%D7%95%D7%A4%D7%99%D7%A8', 'https://judgescv.court.gov.il/398884ba-645e-e811-8105-0050568a6817%D7%A1%D7%92%D7%9C%D7%99%D7%AA-%D7%90%D7%95%D7%A4%D7%A7', 'https://judgescv.court.gov.il/7f8784ba-645e-e811-8105-0050568a6817%D7%97%D7%A0%D7%94-%D7%90%D7%95%D7%A4%D7%A7-%D7%92%D7%A0%D7%93%D7%9C%D7%A8', 'https://judgescv.court.gov.il/c78784ba-645e-e811-8105-0050568a6817%D7%90%D7%A4%D7%A8%D7%AA-%D7%90%D7%95%D7%A8--%D7%90%D7%9C%D7%99%D7%90%D7%A1-', 'https://judgescv.court.gov.il/878984ba-645e-e811-8105-0050568a6817%D7%AA%D7%95%D7%9E%D7%A8-%D7%90%D7%95%D7%A8%D7%99%D7%A0%D7%95%D7%91', 'https://judgescv.court.gov.il/d18884ba-645e-e811-8105-0050568a6817%D7%90%D7%99%D7%9C%D7%94-%D7%90%D7%95%D7%A8%D7%9F', 'https://judgescv.court.gov.il/38f732d6-52db-e811-810e-0050568a574c%D7%90%D7%94%D7%A8%D7%9F-%D7%90%D7%95%D7%A8%D7%A0%D7%A9%D7%98%D7%99%D7%99%D7%9F', 'https://judgescv.court.gov.il/378684ba-645e-e811-8105-0050568a6817%D7%92-%D7%95%D7%A8%D7%92--%D7%90%D7%96%D7%95%D7%9C%D7%90%D7%99', 'https://judgescv.court.gov.il/c38b84ba-645e-e811-8105-0050568a6817%D7%99%D7%A2%D7%A7%D7%91-%D7%90%D7%96%D7%95%D7%9C%D7%90%D7%99', 'https://judgescv.court.gov.il/af8984ba-645e-e811-8105-0050568a6817%D7%A7%D7%A8%D7%9F-%D7%90%D7%96%D7%95%D7%9C%D7%90%D7%99', 'https://judgescv.court.gov.il/eb8584ba-645e-e811-8105-0050568a6817%D7%90%D7%9C%D7%9B%D7%A1-%D7%90%D7%97%D7%98%D7%A8', 'https://judgescv.court.gov.il/fb8584ba-645e-e811-8105-0050568a6817%D7%99%D7%95%D7%A0%D7%94-%D7%90%D7%98%D7%93%D7%92%D7%99', 'https://judgescv.court.gov.il/f98584ba-645e-e811-8105-0050568a6817%D7%A8%D7%95%D7%AA-%D7%90%D7%98%D7%93%D7%92%D7%99-%D7%A4%D7%A8%D7%99%D7%90%D7%A0%D7%98%D7%94', 'https://judgescv.court.gov.il/bb8884ba-645e-e811-8105-0050568a6817%D7%A2%D7%A4%D7%A8%D7%94-%D7%90%D7%98%D7%99%D7%90%D7%A1', 'https://judgescv.court.gov.il/918c84ba-645e-e811-8105-0050568a6817%D7%A9%D7%90%D7%94%D7%A8-%D7%90%D7%98%D7%A8%D7%A9', 'https://judgescv.court.gov.il/8b8884ba-645e-e811-8105-0050568a6817%D7%A8%D7%91%D7%A7%D7%94-%D7%90%D7%99%D7%96%D7%A0%D7%91%D7%A8%D7%92', 'https://judgescv.court.gov.il/ef8d84ba-645e-e811-8105-0050568a6817%D7%90%D7%99%D7%9C%D7%9F-%D7%90%D7%99%D7%98%D7%97', 'https://judgescv.court.gov.il/0d8a84ba-645e-e811-8105-0050568a6817%D7%A8%D7%A2%D7%95%D7%AA-%D7%90%D7%99%D7%99%D7%93-%D7%91%D7%96%D7%99%D7%A0%D7%99', 'https://judgescv.court.gov.il/8d8984ba-645e-e811-8105-0050568a6817%D7%A2%D7%93%D7%99-%D7%90%D7%99%D7%99%D7%96%D7%93%D7%95%D7%A8%D7%A4%D7%A8', 'https://judgescv.court.gov.il/bf8784ba-645e-e811-8105-0050568a6817%D7%A9%D7%9C%D7%99-%D7%90%D7%99%D7%99%D7%96%D7%A0%D7%91%D7%A8%D7%92', 'https://judgescv.court.gov.il/078684ba-645e-e811-8105-0050568a6817%D7%90%D7%A4%D7%A8%D7%AA-%D7%90%D7%99%D7%99%D7%9B%D7%A0%D7%A9%D7%98%D7%99%D7%99%D7%9F-%D7%A9%D7%9E%D7%9C%D7%94', 'https://judgescv.court.gov.il/078984ba-645e-e811-8105-0050568a6817%D7%90%D7%99%D7%A8%D7%99%D7%A1-%D7%90%D7%99%D7%9C%D7%95%D7%98%D7%95%D7%91%D7%99%D7%A5--%D7%A1%D7%92%D7%9C', 'https://judgescv.court.gov.il/a98684ba-645e-e811-8105-0050568a6817%D7%99%D7%A2%D7%9C-%D7%90%D7%99%D7%9C%D7%A0%D7%99', 'https://judgescv.court.gov.il/0b8684ba-645e-e811-8105-0050568a6817%D7%9E%D7%A8%D7%99%D7%9D-%D7%90%D7%99%D7%9C%D7%A0%D7%99', 'https://judgescv.court.gov.il/c18684ba-645e-e811-8105-0050568a6817%D7%90%D7%99%D7%9C%D7%A0%D7%99%D7%AA-%D7%90%D7%99%D7%9E%D7%91%D7%A8', 'https://judgescv.court.gov.il/3f8d84ba-645e-e811-8105-0050568a6817%D7%90%D7%9C%D7%95%D7%9F-%D7%90%D7%99%D7%A0%D7%A4%D7%9C%D7%93', 'https://judgescv.court.gov.il/558e84ba-645e-e811-8105-0050568a6817%D7%A2%D7%99%D7%93%D7%99%D7%AA-%D7%90%D7%99%D7%A6%D7%A7%D7%95%D7%91%D7%99%D7%A5-%D7%A9%D7%97%D7%A8', 'https://judgescv.court.gov.il/f58984ba-645e-e811-8105-0050568a6817%D7%A2%D7%9E%D7%99%D7%A6%D7%95%D7%A8-%D7%90%D7%99%D7%AA%D7%9D', 'https://judgescv.court.gov.il/838784ba-645e-e811-8105-0050568a6817%D7%90%D7%A8%D7%A0%D7%95%D7%9F-%D7%90%D7%99%D7%AA%D7%9F', 'https://judgescv.court.gov.il/3f8784ba-645e-e811-8105-0050568a6817%D7%A1%D7%99%D7%92%D7%9C-%D7%90%D7%9C%D7%91%D7%95', 'https://judgescv.court.gov.il/8df97e7b-64a4-e811-810b-0050568a574c%D7%96%D7%94%D7%91%D7%99%D7%AA-%D7%90%D7%9C%D7%93%D7%A8', 'https://judgescv.court.gov.il/ed8c84ba-645e-e811-8105-0050568a6817%D7%90%D7%A1%D7%A4%D7%A8%D7%A0%D7%A6%D7%94-%D7%90%D7%9C%D7%95%D7%9F', 'https://judgescv.court.gov.il/7b8b84ba-645e-e811-8105-0050568a6817%D7%9E%D7%92%D7%9F-%D7%90%D7%9C%D7%98%D7%95%D7%91%D7%99%D7%94', 'https://judgescv.court.gov.il/b58684ba-645e-e811-8105-0050568a6817%D7%A2%D7%95%D7%91%D7%93-%D7%90%D7%9C%D7%99%D7%90%D7%A1', 'https://judgescv.court.gov.il/758784ba-645e-e811-8105-0050568a6817%D7%99%D7%97%D7%96%D7%A7%D7%90%D7%9C-%D7%90%D7%9C%D7%99%D7%94%D7%95', 'https://judgescv.court.gov.il/af8784ba-645e-e811-8105-0050568a6817%D7%9E%D7%99%D7%A8%D7%91-%D7%90%D7%9C%D7%99%D7%94%D7%95', 'https://judgescv.court.gov.il/f259a2c7-f44f-eb11-8125-0050568a574c%D7%96%D7%99%D7%95%D7%95%D7%9F-%D7%90%D7%9C%D7%99%D7%9E%D7%99', 'https://judgescv.court.gov.il/118984ba-645e-e811-8105-0050568a6817%D7%90%D7%95%D7%A8%D7%9F-%D7%90%D7%9C%D7%99%D7%A2%D7%96', 'https://judgescv.court.gov.il/c78b84ba-645e-e811-8105-0050568a6817%D7%90%D7%91%D7%A8%D7%94%D7%9D-%D7%90%D7%9C%D7%99%D7%A7%D7%99%D7%9D', 'https://judgescv.court.gov.il/898684ba-645e-e811-8105-0050568a6817%D7%A6%D7%97%D7%99-%D7%90%D7%9C%D7%9E%D7%95%D7%92', 'https://judgescv.court.gov.il/0c038020-6f12-e911-8113-0050568a574c%D7%91%D7%99%D7%90%D7%9C%D7%99%D7%9F--%D7%91%D7%A0%D7%99--%D7%90%D7%9C%D7%A2%D7%96%D7%A8', 'https://judgescv.court.gov.il/178784ba-645e-e811-8105-0050568a6817%D7%A2%D7%A0%D7%AA-%D7%90%D7%9C%D7%A4%D7%A1%D7%99', 'https://judgescv.court.gov.il/4e1c43fc-e372-e811-8109-0050568a574c%D7%A1%D7%90%D7%95%D7%A1%D7%9F-%D7%90%D7%9C%D7%A7%D7%90%D7%A1%D7%9D', 'https://judgescv.court.gov.il/4b8884ba-645e-e811-8105-0050568a6817%D7%A9%D7%A8%D7%95%D7%9F-%D7%90%D7%9C%D7%A7%D7%99%D7%99%D7%9D', 'https://judgescv.court.gov.il/1d8b84ba-645e-e811-8105-0050568a6817%D7%A2%D7%96%D7%A8%D7%99%D7%94-%D7%90%D7%9C%D7%A7%D7%9C%D7%A2%D7%99', 'https://judgescv.court.gov.il/618b84ba-645e-e811-8105-0050568a6817%D7%99%D7%95%D7%A1%D7%A3-%D7%90%D7%9C%D7%A8%D7%95%D7%9F', 'https://judgescv.court.gov.il/2b8784ba-645e-e811-8105-0050568a6817%D7%93%D7%A0%D7%94-%D7%90%D7%9E%D7%99%D7%A8', 'https://judgescv.court.gov.il/238c84ba-645e-e811-8105-0050568a6817%D7%A8%D7%9E%D7%99-%D7%90%D7%9E%D7%99%D7%A8', 'https://judgescv.court.gov.il/1eb6e6e2-fc99-ec11-812c-0050568a574c%D7%90%D7%99%D7%AA%D7%9F-%D7%90%D7%9E%D7%A0%D7%95', 'https://judgescv.court.gov.il/aca13026-1950-eb11-8125-0050568a574c%D7%90%D7%91%D7%99%D7%98%D7%9C-%D7%90%D7%9E%D7%A1%D7%9C%D7%9D--%D7%92%D7%9C%D7%91%D7%95%D7%A2', 'https://judgescv.court.gov.il/1d8684ba-645e-e811-8105-0050568a6817%D7%99%D7%A2%D7%9C-%D7%90%D7%A0%D7%92%D7%9C%D7%91%D7%A8%D7%92-%D7%A9%D7%94%D7%9D', 'https://judgescv.court.gov.il/d78684ba-645e-e811-8105-0050568a6817%D7%93-%D7%A8-%D7%A7%D7%A8%D7%9F-%D7%90%D7%A0%D7%99%D7%A1%D7%A4%D7%9C%D7%93', 'https://judgescv.court.gov.il/f6ce93d0-f54f-eb11-8125-0050568a574c%D7%97%D7%99%D7%99%D7%9D-%D7%99%D7%A2%D7%A7%D7%91-%D7%90%D7%A1%D7%95%D7%9C%D7%99%D7%9F', 'https://judgescv.court.gov.il/ad8984ba-645e-e811-8105-0050568a6817%D7%93%D7%9C%D7%99%D7%94-%D7%90%D7%A1%D7%98%D7%A8%D7%99%D7%99%D7%9B%D7%A8', 'https://judgescv.court.gov.il/1d8d84ba-645e-e811-8105-0050568a6817%D7%94%D7%93%D7%A1%D7%94-%D7%90%D7%A1%D7%99%D7%A3', 'https://judgescv.court.gov.il/2ca55092-74cb-ec11-a979-005056ad7925%D7%A0%D7%99%D7%A1%D7%A8%D7%99%D7%9F-%D7%90%D7%A1%D7%9B%D7%A0%D7%93%D7%A8-%D7%9E%D7%95%D7%A1%D7%90', 'https://judgescv.court.gov.il/3b8884ba-645e-e811-8105-0050568a6817%D7%90%D7%99%D7%A8%D7%99%D7%A1-%D7%90%D7%A1%D7%9C', 'https://judgescv.court.gov.il/a6b77452-6599-ec11-812c-0050568a574c%D7%9C%D7%95%D7%A8%D7%9F-%D7%90%D7%A7%D7%95%D7%A7%D7%94', 'https://judgescv.court.gov.il/898b84ba-645e-e811-8105-0050568a6817%D7%A4%D7%A0%D7%99%D7%A0%D7%94-%D7%90%D7%A8%D7%92%D7%9E%D7%9F', 'https://judgescv.court.gov.il/058a84ba-645e-e811-8105-0050568a6817%D7%A8%D7%91%D7%A7%D7%94-%D7%90%D7%A8%D7%93', 'https://judgescv.court.gov.il/212288ba-87cb-ec11-a979-005056ad7925%D7%93%D7%A8%D7%95%D7%A8-%D7%90%D7%A8%D7%93-%D7%90%D7%99%D7%9C%D7%95%D7%9F', 'https://judgescv.court.gov.il/4f8784ba-645e-e811-8105-0050568a6817%D7%A9%D7%9C%D7%9E%D7%94-%D7%9E%D7%99%D7%9B%D7%90%D7%9C-%D7%90%D7%A8%D7%93%D7%9E%D7%9F', 'https://judgescv.court.gov.il/62997d08-53db-e811-810e-0050568a574c%D7%98%D7%93%D7%99-%D7%90%D7%A8%D7%96', 'https://judgescv.court.gov.il/cd8884ba-645e-e811-8105-0050568a6817%D7%96%D7%99%D7%95-%D7%90%D7%A8%D7%99%D7%90%D7%9C%D7%99', 'https://judgescv.court.gov.il/e18b84ba-645e-e811-8105-0050568a6817%D7%92%D7%93-%D7%90%D7%A8%D7%A0%D7%91%D7%A8%D7%92', 'https://judgescv.court.gov.il/cc366882-09d5-e811-810c-0050568a574c%D7%A8%D7%9F-%D7%90%D7%A8%D7%A0%D7%95%D7%9F', 'https://judgescv.court.gov.il/018684ba-645e-e811-8105-0050568a6817%D7%A8%D7%A4%D7%99-%D7%90%D7%A8%D7%A0%D7%99%D7%94', 'https://judgescv.court.gov.il/f18a84ba-645e-e811-8105-0050568a6817%D7%A0%D7%9E%D7%A8%D7%95%D7%93-%D7%90%D7%A9%D7%9B%D7%95%D7%9C', 'https://judgescv.court.gov.il/bb8b84ba-645e-e811-8105-0050568a6817%D7%90%D7%91%D7%99%D7%A8%D7%94-%D7%90%D7%A9%D7%A7%D7%9C%D7%95%D7%A0%D7%99', 'https://judgescv.court.gov.il/2f8884ba-645e-e811-8105-0050568a6817%D7%A8%D7%95%D7%99%D7%98%D7%9C-%D7%91%D7%90%D7%95%D7%9D', 'https://judgescv.court.gov.il/338d84ba-645e-e811-8105-0050568a6817%D7%90%D7%99%D7%9C-%D7%91%D7%90%D7%95%D7%9E%D7%92%D7%A8%D7%98', 'https://judgescv.court.gov.il/fd8784ba-645e-e811-8105-0050568a6817%D7%A8%D7%A2%D7%95%D7%AA-%D7%91%D7%92%D7%A1', 'https://judgescv.court.gov.il/ed8684ba-645e-e811-8105-0050568a6817%D7%90%D7%91%D7%A8%D7%94%D7%99%D7%9D-%D7%91%D7%95%D7%9C%D7%95%D7%A1', 'https://judgescv.court.gov.il/15614433-86cb-ec11-a979-005056ad7925%D7%9C%D7%99%D7%A0%D7%90-%D7%91%D7%95%D7%9C%D7%95%D7%A1-%D7%A2%D7%95%D7%90%D7%93', 'https://judgescv.court.gov.il/9d40edea-1ad5-e811-810c-0050568a574c%D7%97%D7%92%D7%99%D7%AA-%D7%91%D7%95%D7%9C%D7%9E%D7%A9', 'https://judgescv.court.gov.il/218984ba-645e-e811-8105-0050568a6817%D7%93%D7%95%D7%A8%D7%99%D7%AA-%D7%91%D7%95%D7%A0%D7%93%D7%94', 'https://judgescv.court.gov.il/178d84ba-645e-e811-8105-0050568a6817%D7%90%D7%A4%D7%A8%D7%AA-%D7%91%D7%95%D7%A1%D7%A0%D7%99', 'https://judgescv.court.gov.il/b18684ba-645e-e811-8105-0050568a6817%D7%90%D7%95%D7%A8%D7%9F-%D7%91%D7%95%D7%A2%D7%96', 'https://judgescv.court.gov.il/f38784ba-645e-e811-8105-0050568a6817%D7%99%D7%A0%D7%99%D7%91-%D7%91%D7%95%D7%A7%D7%A8', 'https://judgescv.court.gov.il/7d8c84ba-645e-e811-8105-0050568a6817%D7%A9%D7%9E%D7%95%D7%90%D7%9C-%D7%91%D7%95%D7%A8%D7%A0%D7%A9%D7%98%D7%99%D7%9F', 'https://judgescv.court.gov.il/ed8784ba-645e-e811-8105-0050568a6817%D7%9E%D7%A8%D7%93%D7%9B%D7%99-%D7%91%D7%95%D7%A8%D7%A9%D7%98%D7%99%D7%9F', 'https://judgescv.court.gov.il/96ea3171-079a-ec11-812c-0050568a574c%D7%A8%D7%9E%D7%99-%D7%91%D7%96-%D7%94', 'https://judgescv.court.gov.il/778d84ba-645e-e811-8105-0050568a6817%D7%AA%D7%9E%D7%A8-%D7%91%D7%96%D7%A7-%D7%A8%D7%A4%D7%A4%D7%95%D7%A8%D7%98', 'https://judgescv.court.gov.il/c9bc1a35-0d50-eb11-8125-0050568a574c%D7%93%D7%A0%D7%94-%D7%91%D7%99%D7%90%D7%9C%D7%A8', 'https://judgescv.court.gov.il/278784ba-645e-e811-8105-0050568a6817%D7%9C%D7%99%D7%9E%D7%95%D7%A8-%D7%96%D7%94%D7%91%D7%94-%D7%91%D7%99%D7%91%D7%99', 'https://judgescv.court.gov.il/278784ba-645e-e811-8105-0050568a6817%D7%9C%D7%99%D7%9E%D7%95%D7%A8-%D7%96%D7%94%D7%91%D7%94-%D7%91%D7%99%D7%91%D7%99', 'https://judgescv.court.gov.il/c58884ba-645e-e811-8105-0050568a6817%D7%90%D7%A8%D7%99%D7%94-%D7%91%D7%99%D7%98%D7%95%D7%9F', 'https://judgescv.court.gov.il/b78984ba-645e-e811-8105-0050568a6817%D7%90%D7%99%D7%99%D7%9C%D7%AA-%D7%94%D7%A9%D7%97%D7%A8-%D7%91%D7%99%D7%98%D7%95%D7%9F-%D7%A4%D7%A8%D7%9C%D7%94', 'https://judgescv.court.gov.il/998d84ba-645e-e811-8105-0050568a6817%D7%90%D7%9C%D7%99%D7%94%D7%95-%D7%91%D7%99%D7%AA%D7%9F', 'https://judgescv.court.gov.il/5d8c84ba-645e-e811-8105-0050568a6817%D7%90%D7%9C%D7%99%D7%94%D7%95-%D7%91%D7%9B%D7%A8', 'https://judgescv.court.gov.il/f18584ba-645e-e811-8105-0050568a6817%D7%99%D7%A2%D7%A7%D7%91-%D7%91%D7%9B%D7%A8', 'https://judgescv.court.gov.il/b881251c-a3ce-ec11-a979-005056ad7925%D7%9E%D7%90%D7%99%D7%94-%D7%91%D7%9C%D7%90%D7%95', 'https://judgescv.court.gov.il/568c67b0-f34f-eb11-8125-0050568a574c%D7%95%D7%A8%D7%93-%D7%91%D7%9C%D7%95%D7%9A--%D7%A9%D7%9B%D7%98%D7%9E%D7%9F', 'https://judgescv.court.gov.il/658c84ba-645e-e811-8105-0050568a6817%D7%93%D7%A4%D7%A0%D7%94-%D7%91%D7%9C%D7%98%D7%9E%D7%9F-%D7%A7%D7%93%D7%A8%D7%90%D7%99', 'https://judgescv.court.gov.il/538784ba-645e-e811-8105-0050568a6817%D7%99%D7%A2%D7%9C-%D7%91%D7%9C%D7%9B%D7%A8', 'https://judgescv.court.gov.il/e78584ba-645e-e811-8105-0050568a6817%D7%90%D7%99%D7%93%D7%99%D7%AA-%D7%91%D7%9C%D7%A7', 'https://judgescv.court.gov.il/8d8784ba-645e-e811-8105-0050568a6817%D7%A2%D7%93%D7%99-%D7%91%D7%9E%D7%91%D7%99%D7%9C%D7%99%D7%94--%D7%90%D7%99%D7%A0%D7%A9%D7%98%D7%99%D7%99%D7%9F', 'https://judgescv.court.gov.il/a78984ba-645e-e811-8105-0050568a6817%D7%9B%D7%A8%D7%9E%D7%99%D7%AA-%D7%91%D7%9F-%D7%90%D7%9C%D7%99%D7%A2%D7%96%D7%A8', 'https://judgescv.court.gov.il/dd8684ba-645e-e811-8105-0050568a6817%D7%9E%D7%A2%D7%99%D7%9F-%D7%91%D7%9F-%D7%90%D7%A8%D7%99', 'https://judgescv.court.gov.il/6f37d06d-22d5-e811-810c-0050568a574c%D7%99%D7%A8%D7%99%D7%91-%D7%91%D7%9F-%D7%93%D7%95%D7%93', 'https://judgescv.court.gov.il/70bf2a07-fd99-ec11-812c-0050568a574c%D7%99%D7%A0%D7%99%D7%91-%D7%91%D7%9F-%D7%94%D7%A8%D7%95%D7%A9', 'https://judgescv.court.gov.il/018984ba-645e-e811-8105-0050568a6817%D7%A9%D7%9C%D7%95%D7%9E%D7%99%D7%AA-%D7%91%D7%9F-%D7%99%D7%A6%D7%97%D7%A7', 'https://judgescv.court.gov.il/7d8b84ba-645e-e811-8105-0050568a6817%D7%A2%D7%93%D7%A0%D7%94-%D7%91%D7%9F-%D7%9C%D7%95%D7%99', 'https://judgescv.court.gov.il/478c84ba-645e-e811-8105-0050568a6817%D7%91%D7%A0%D7%99%D7%9E%D7%99%D7%9F-%D7%91%D7%9F-%D7%A1%D7%99%D7%9E%D7%95%D7%9F', 'https://judgescv.court.gov.il/d98684ba-645e-e811-8105-0050568a6817%D7%9E%D7%A8%D7%91-%D7%91%D7%9F-%D7%90%D7%A8%D7%99', 'https://judgescv.court.gov.il/238d84ba-645e-e811-8105-0050568a6817%D7%A9%D7%9C%D7%9E%D7%94-%D7%91%D7%A0%D7%92-%D7%95', 'https://judgescv.court.gov.il/258a84ba-645e-e811-8105-0050568a6817%D7%A2%D7%99%D7%93%D7%99%D7%AA-%D7%91%D7%9F-%D7%93%D7%91-%D7%92-%D7%95%D7%9C%D7%99%D7%90%D7%9F', 'https://judgescv.court.gov.il/6d8d84ba-645e-e811-8105-0050568a6817%D7%90%D7%99%D7%9C%D7%9F-%D7%91%D7%9F-%D7%93%D7%95%D7%A8', 'https://judgescv.court.gov.il/718984ba-645e-e811-8105-0050568a6817%D7%90%D7%95%D7%A8%D7%99%D7%AA-%D7%91%D7%9F-%D7%93%D7%95%D7%A8-%D7%9C%D7%99%D7%91%D7%9C', 'https://judgescv.court.gov.il/198984ba-645e-e811-8105-0050568a6817%D7%93%D7%A0%D7%99%D7%90%D7%9C-%D7%91%D7%9F-%D7%98%D7%95%D7%9C%D7%99%D7%9C%D7%94', 'https://judgescv.court.gov.il/0b8b84ba-645e-e811-8105-0050568a6817%D7%A8%D7%A2%D7%A0%D7%9F-%D7%91%D7%9F-%D7%99%D7%95%D7%A1%D7%A3', 'https://judgescv.court.gov.il/158a84ba-645e-e811-8105-0050568a6817%D7%9C%D7%99%D7%90%D7%AA-%D7%91%D7%A0%D7%9E%D7%9C%D7%9A', 'https://judgescv.court.gov.il/46124257-e73d-eb11-8125-0050568a574c%D7%A2%D7%93%D7%95-%D7%91%D7%9F-%D7%A6%D7%95%D7%A8', 'https://judgescv.court.gov.il/db8884ba-645e-e811-8105-0050568a6817%D7%9E%D7%99%D7%A7%D7%94-%D7%91%D7%A0%D7%A7%D7%99', 'https://judgescv.court.gov.il/5d8d84ba-645e-e811-8105-0050568a6817%D7%92-%D7%90%D7%93%D7%94-%D7%91%D7%A1%D7%95%D7%9C', 'https://judgescv.court.gov.il/298784ba-645e-e811-8105-0050568a6817%D7%A9%D7%9E%D7%90%D7%99-%D7%91%D7%A7%D7%A8', 'https://judgescv.court.gov.il/500fe0ac-e84f-eb11-8125-0050568a574c%D7%90%D7%95%D7%A9%D7%A8%D7%AA-%D7%97%D7%A0%D7%94-%D7%91%D7%A8', 'https://judgescv.court.gov.il/b58984ba-645e-e811-8105-0050568a6817%D7%9E%D7%99%D7%9B%D7%9C-%D7%91%D7%A8', 'https://judgescv.court.gov.il/3091f1e9-0050-eb11-8125-0050568a574c%D7%A2%D7%9E%D7%99%D7%AA-%D7%91%D7%A8', 'https://judgescv.court.gov.il/318884ba-645e-e811-8105-0050568a6817%D7%A2%D7%93%D7%99-%D7%91%D7%A8-%D7%98%D7%9C', 'https://judgescv.court.gov.il/bd8684ba-645e-e811-8105-0050568a6817%D7%A9%D7%9E%D7%95%D7%90%D7%9C-%D7%91%D7%A8-%D7%99%D7%95%D7%A1%D7%A3', 'https://judgescv.court.gov.il/9b8784ba-645e-e811-8105-0050568a6817%D7%A8%D7%97%D7%9C-%D7%91%D7%A8-%D7%92-%D7%94%D7%99%D7%A8%D7%A9%D7%91%D7%A8%D7%92', 'https://judgescv.court.gov.il/514a78c6-4599-ec11-812c-0050568a574c%D7%A8%D7%99%D7%9D-%D7%91%D7%A8%D7%90%D7%A0%D7%A1%D7%94', 'https://judgescv.court.gov.il/758d84ba-645e-e811-8105-0050568a6817%D7%AA%D7%9E%D7%A8-%D7%91%D7%A8-%D7%90%D7%A9%D7%A8', 'https://judgescv.court.gov.il/858684ba-645e-e811-8105-0050568a6817%D7%90%D7%A8%D7%99%D7%90%D7%9C-%D7%91%D7%A8%D7%92%D7%A0%D7%A8', 'https://judgescv.court.gov.il/ef8c84ba-645e-e811-8105-0050568a6817%D7%91%D7%9F-%D7%A6%D7%99%D7%95%D7%9F-%D7%91%D7%A8%D7%92%D7%A8', 'https://judgescv.court.gov.il/e78c84ba-645e-e811-8105-0050568a6817%D7%A9%D7%95%D7%A9%D7%A0%D7%94-%D7%91%D7%A8%D7%92%D7%A8', 'https://judgescv.court.gov.il/c0735e41-7012-e911-8113-0050568a574c%D7%A9%D7%99-%D7%91%D7%A8%D7%92%D7%A8', 'https://judgescv.court.gov.il/b0c897e4-6599-ec11-812c-0050568a574c%D7%9E%D7%99%D7%9B%D7%9C-%D7%91%D7%A8%D7%92%D7%A8-%D7%91%D7%9C%D7%95%D7%9D', 'https://judgescv.court.gov.il/e585e321-1cd5-e811-810c-0050568a574c%D7%9E%D7%99%D7%9B%D7%9C-%D7%91%D7%A8%D7%93%D7%A0%D7%A9%D7%98%D7%99%D7%99%D7%9F', 'https://judgescv.court.gov.il/858b84ba-645e-e811-8105-0050568a6817%D7%9C%D7%99%D7%90%D7%95%D7%A8%D7%94-%D7%91%D7%A8%D7%95%D7%93%D7%99', 'https://judgescv.court.gov.il/838884ba-645e-e811-8105-0050568a6817%D7%99%D7%95%D7%A8%D7%9D-%D7%91%D7%A8%D7%95%D7%96%D7%94', 'https://judgescv.court.gov.il/258784ba-645e-e811-8105-0050568a6817%D7%A9%D7%A8%D7%94-%D7%91%D7%A8%D7%95%D7%99%D7%A0%D7%A8-%D7%99%D7%A9%D7%A8%D7%96%D7%93%D7%94', 'https://judgescv.court.gov.il/43c3300a-a45f-eb11-8125-0050568a574c%D7%97%D7%A0%D7%99-%D7%91%D7%A8%D7%95%D7%9A-%D7%90%D7%9C%D7%95%D7%9F', 'https://judgescv.court.gov.il/1b8b84ba-645e-e811-8105-0050568a6817%D7%A2%D7%A0%D7%AA-%D7%91%D7%A8%D7%95%D7%9F', 'https://judgescv.court.gov.il/878d84ba-645e-e811-8105-0050568a6817%D7%A0%D7%90%D7%95%D7%94-%D7%91%D7%A8%D7%95%D7%A8%D7%9E%D7%9F', 'https://judgescv.court.gov.il/998b84ba-645e-e811-8105-0050568a6817%D7%9C%D7%99%D7%90%D7%95%D7%A8-%D7%91%D7%A8%D7%99%D7%A0%D7%92%D7%A8', 'https://judgescv.court.gov.il/818784ba-645e-e811-8105-0050568a6817%D7%99%D7%95%D7%A1%D7%A3-%D7%91%D7%A8%D7%9B%D7%99%D7%94', 'https://judgescv.court.gov.il/2a8f28e3-3515-ec11-812a-0050568a574c%D7%94%D7%99%D7%9C%D7%94-%D7%91%D7%A8%D7%9B%D7%99%D7%94-%D7%A9%D7%95%D7%A8', 'https://judgescv.court.gov.il/b98884ba-645e-e811-8105-0050568a6817%D7%9E%D7%99%D7%9B%D7%9C-%D7%91%D7%A8%D7%9C%D7%99%D7%A0%D7%A8-%D7%9C%D7%95%D7%99', 'https://judgescv.court.gov.il/d18684ba-645e-e811-8105-0050568a6817%D7%90%D7%9C%D7%99-%D7%91%D7%A8%D7%A0%D7%93', 'https://judgescv.court.gov.il/118c84ba-645e-e811-8105-0050568a6817%D7%9E%D7%99%D7%9B%D7%9C-%D7%91%D7%A8%D7%A0%D7%98', 'https://judgescv.court.gov.il/0d8d84ba-645e-e811-8105-0050568a6817%D7%97%D7%92%D7%99-%D7%91%D7%A8%D7%A0%D7%A8', 'https://judgescv.court.gov.il/2b8d84ba-645e-e811-8105-0050568a6817%D7%A9%D7%95%D7%9C%D7%9E%D7%99%D7%AA-%D7%91%D7%A8%D7%A1%D7%9C%D7%91', 'https://judgescv.court.gov.il/1b8784ba-645e-e811-8105-0050568a6817%D7%90%D7%99%D7%AA%D7%99-%D7%91%D7%A8%D7%A1%D7%9C%D7%A8-%D7%92%D7%95%D7%A0%D7%9F', 'https://judgescv.court.gov.il/678c84ba-645e-e811-8105-0050568a6817%D7%9E%D7%A9%D7%94-%D7%91%D7%A8-%D7%A2%D7%9D', 'https://judgescv.court.gov.il/b38c84ba-645e-e811-8105-0050568a6817%D7%9E%D7%99%D7%9B%D7%9C-%D7%91%D7%A8%D7%A7-%D7%A0%D7%91%D7%95', 'https://judgescv.court.gov.il/e412f0ec-3dce-ec11-a979-005056ad7925%D7%99%D7%92%D7%90%D7%9C-%D7%91%D7%A8%D7%A7--%D7%A2%D7%95%D7%A4%D7%A8', 'https://judgescv.court.gov.il/918684ba-645e-e811-8105-0050568a6817%D7%90%D7%91%D7%99%D7%99%D7%9D-%D7%91%D7%A8%D7%A7%D7%90%D7%99', 'https://judgescv.court.gov.il/f58d84ba-645e-e811-8105-0050568a6817%D7%93%D7%A4%D7%A0%D7%94-%D7%91%D7%A8%D7%A7-%D7%90%D7%A8%D7%96', 'https://judgescv.court.gov.il/518d84ba-645e-e811-8105-0050568a6817%D7%A2%D7%99%D7%93%D7%99%D7%AA-%D7%91%D7%A8%D7%A7%D7%95%D7%91%D7%99%D7%A5', 'https://judgescv.court.gov.il/3b8d84ba-645e-e811-8105-0050568a6817%D7%A8%D7%95%D7%A0%D7%99%D7%AA-%D7%91%D7%A9', 'https://judgescv.court.gov.il/d1595331-aece-ec11-a979-005056ad7925%D7%92%D7%99%D7%9C-%D7%92%D7%91%D7%90%D7%99', 'https://judgescv.court.gov.il/fd8b84ba-645e-e811-8105-0050568a6817%D7%99%D7%95%D7%97%D7%A0%D7%9F-%D7%92%D7%91%D7%90%D7%99', 'https://judgescv.court.gov.il/f38884ba-645e-e811-8105-0050568a6817%D7%93%D7%95%D7%93-%D7%A9%D7%90%D7%95%D7%9C-%D7%92%D7%91%D7%90%D7%99-%D7%A8%D7%99%D7%9B%D7%98%D7%A8', 'https://judgescv.court.gov.il/198884ba-645e-e811-8105-0050568a6817%D7%A8%D7%91%D7%99%D7%A2-%D7%92-%D7%91%D7%90%D7%9C%D7%99', 'https://judgescv.court.gov.il/438884ba-645e-e811-8105-0050568a6817%D7%92-%D7%9E%D7%99%D7%9C%D7%94-%D7%92-%D7%91%D7%90%D7%A8%D7%99%D7%9F', 'https://judgescv.court.gov.il/738884ba-645e-e811-8105-0050568a6817%D7%90%D7%9C%D7%95%D7%9F-%D7%92%D7%91%D7%99%D7%96%D7%95%D7%9F', 'https://judgescv.court.gov.il/158884ba-645e-e811-8105-0050568a6817%D7%A2%D7%91%D7%99%D7%A8-%D7%92%D7%91%D7%A8%D7%99%D7%A1', 'https://judgescv.court.gov.il/7b8884ba-645e-e811-8105-0050568a6817%D7%A0%D7%90%D7%95%D7%94-%D7%92%D7%93%D7%99%D7%A9', 'https://judgescv.court.gov.il/318784ba-645e-e811-8105-0050568a6817%D7%92%D7%93-%D7%92%D7%93%D7%A2%D7%95%D7%9F', 'https://judgescv.court.gov.il/8d8c84ba-645e-e811-8105-0050568a6817%D7%9B%D7%90%D7%9E%D7%9C%D7%94-%D7%92-%D7%93%D7%A2%D7%95%D7%9F', 'https://judgescv.court.gov.il/fb8884ba-645e-e811-8105-0050568a6817%D7%93%D7%95%D7%93-%D7%92%D7%93%D7%A2%D7%95%D7%A0%D7%99', 'https://judgescv.court.gov.il/958884ba-645e-e811-8105-0050568a6817%D7%A0%D7%90%D7%A1%D7%A8-%D7%92-%D7%94%D7%A9%D7%90%D7%9F', 'https://judgescv.court.gov.il/7a83bb48-a54d-eb11-8125-0050568a574c%D7%A4%D7%A8%D7%97%D7%94-%D7%92-%D7%95%D7%91%D7%A8%D7%90%D7%9F-%D7%9E%D7%99%D7%9C%D7%A8', 'https://judgescv.court.gov.il/098884ba-645e-e811-8105-0050568a6817%D7%9E%D7%90%D7%92-%D7%93%D7%94-%D7%92-%D7%95%D7%91%D7%A8%D7%90%D7%9F-%D7%9E%D7%95%D7%A8%D7%A7%D7%95%D7%A1', 'https://judgescv.court.gov.il/b18984ba-645e-e811-8105-0050568a6817%D7%93%D7%91-%D7%92%D7%95%D7%98%D7%9C%D7%99%D7%91', 'https://judgescv.court.gov.il/871d8d63-a973-e811-8109-0050568a574c%D7%91%D7%95%D7%A2%D7%96-%D7%92%D7%95%D7%9C%D7%93%D7%91%D7%A8%D7%92', 'https://judgescv.court.gov.il/178684ba-645e-e811-8105-0050568a6817%D7%93%D7%A0%D7%99%D7%90%D7%9C-%D7%92%D7%95%D7%9C%D7%93%D7%91%D7%A8%D7%92', 'https://judgescv.court.gov.il/c98884ba-645e-e811-8105-0050568a6817%D7%99%D7%A2%D7%A7%D7%91-%D7%92%D7%95%D7%9C%D7%93%D7%91%D7%A8%D7%92', 'https://judgescv.court.gov.il/28e19847-0050-eb11-8125-0050568a574c%D7%9E%D7%99%D7%A8%D7%91-%D7%92%D7%95%D7%9C%D7%93%D7%A0%D7%A8', 'https://judgescv.court.gov.il/738b84ba-645e-e811-8105-0050568a6817%D7%90%D7%95%D7%A8%D7%99-%D7%92%D7%95%D7%9C%D7%93%D7%A7%D7%95%D7%A8%D7%9F', 'https://judgescv.court.gov.il/b98c84ba-645e-e811-8105-0050568a6817%D7%94%D7%93%D7%A1-%D7%92%D7%95%D7%9C%D7%93%D7%A7%D7%95%D7%A8%D7%9F', 'https://judgescv.court.gov.il/638ba306-21d5-e811-810c-0050568a574c%D7%A8%D7%95%D7%9F-%D7%92%D7%95%D7%9C%D7%93%D7%A9%D7%98%D7%99%D7%99%D7%9F', 'https://judgescv.court.gov.il/3d8784ba-645e-e811-8105-0050568a6817%D7%A2%D7%99%D7%A0%D7%91-%D7%92%D7%95%D7%9C%D7%95%D7%9E%D7%91', 'https://judgescv.court.gov.il/7b8984ba-645e-e811-8105-0050568a6817%D7%98%D7%9C-%D7%92%D7%95%D7%9C%D7%9F', 'https://judgescv.court.gov.il/2f727d8c-9dce-ec11-a979-005056ad7925%D7%99%D7%A8%D7%95%D7%9F-%D7%92%D7%95%D7%9C%D7%9F', 'https://judgescv.court.gov.il/4d8684ba-645e-e811-8105-0050568a6817%D7%92%D7%A8%D7%A9%D7%95%D7%9F-%D7%92%D7%95%D7%A0%D7%98%D7%95%D7%91%D7%A0%D7%99%D7%A7', 'https://judgescv.court.gov.il/518884ba-645e-e811-8105-0050568a6817%D7%A8%D7%95%D7%A0%D7%99%D7%AA-%D7%92%D7%95%D7%A8%D7%91%D7%99%D7%A5', 'https://judgescv.court.gov.il/c38884ba-645e-e811-8105-0050568a6817%D7%94%D7%99%D7%9C%D7%94-%D7%92%D7%95%D7%A8%D7%91%D7%99%D7%A5-%D7%A2%D7%95%D7%91%D7%93%D7%99%D7%94', 'https://judgescv.court.gov.il/138a84ba-645e-e811-8105-0050568a6817%D7%90%D7%94%D7%93-%D7%92%D7%95%D7%A8%D7%93%D7%95%D7%9F', 'https://judgescv.court.gov.il/5d8e84ba-645e-e811-8105-0050568a6817%D7%A4%D7%9C%D7%99%D7%A7%D7%A1-%D7%92%D7%95%D7%A8%D7%95%D7%93%D7%A6%D7%A7%D7%99', 'https://judgescv.court.gov.il/9f8784ba-645e-e811-8105-0050568a6817%D7%90%D7%91%D7%A8%D7%94%D7%9D--%D7%90%D7%91%D7%99--%D7%92%D7%95%D7%A8%D7%9E%D7%9F', 'https://judgescv.court.gov.il/7d8784ba-645e-e811-8105-0050568a6817%D7%99%D7%95%D7%91%D7%9C-%D7%92%D7%96%D7%99%D7%AA', 'https://judgescv.court.gov.il/d78884ba-645e-e811-8105-0050568a6817%D7%A2%D7%A4%D7%A8%D7%94-%D7%92%D7%99%D7%90', 'https://judgescv.court.gov.il/f38684ba-645e-e811-8105-0050568a6817%D7%A1%D7%90%D7%A8%D7%99-%D7%92-%D7%99%D7%95%D7%A1%D7%99', 'https://judgescv.court.gov.il/af8b84ba-645e-e811-8105-0050568a6817%D7%99%D7%94%D7%95%D7%A9%D7%A2-%D7%92%D7%99%D7%99%D7%A4%D7%9E%D7%9F', 'https://judgescv.court.gov.il/178a84ba-645e-e811-8105-0050568a6817%D7%A7%D7%A8%D7%9F-%D7%92%D7%99%D7%9C', 'https://judgescv.court.gov.il/349d35c0-3fce-ec11-a979-005056ad7925%D7%A6%D7%99%D7%A4%D7%95%D7%A8%D7%94-%D7%92%D7%99%D7%9C%D7%95%D7%A0%D7%99--%D7%92%D7%96-', 'https://judgescv.court.gov.il/798d84ba-645e-e811-8105-0050568a6817%D7%90%D7%A8%D7%99%D7%90%D7%9C%D7%94-%D7%92%D7%99%D7%9C%D7%A6%D7%A8-%D7%9B%D7%A5', 'https://judgescv.court.gov.il/118b84ba-645e-e811-8105-0050568a6817%D7%9E%D7%A9%D7%94-%D7%92%D7%99%D7%A0%D7%95%D7%AA', 'https://judgescv.court.gov.il/3a6ac1ab-3dce-ec11-a979-005056ad7925%D7%94%D7%99%D7%9C%D7%94-%D7%92%D7%9C%D7%91%D7%95%D7%A2', 'https://judgescv.court.gov.il/fb487382-a2ce-ec11-a979-005056ad7925%D7%9C%D7%99%D7%90%D7%95%D7%A8-%D7%A0%D7%AA%D7%9F-%D7%92%D7%9C%D7%91%D7%A8%D7%93', 'https://judgescv.court.gov.il/cd8684ba-645e-e811-8105-0050568a6817%D7%A8%D7%91%D7%A7%D7%94-%D7%92%D7%9C%D7%98', 'https://judgescv.court.gov.il/878c84ba-645e-e811-8105-0050568a6817%D7%9C%D7%90%D7%94-%D7%92%D7%9C%D7%99%D7%A7%D7%A1%D7%9E%D7%9F-%D7%9B%D7%95%D7%9B%D7%91%D7%99', 'https://judgescv.court.gov.il/a18984ba-645e-e811-8105-0050568a6817%D7%99%D7%92%D7%90%D7%9C-%D7%92%D7%9C%D7%9D', 'https://judgescv.court.gov.il/2dcea47e-fe99-ec11-812c-0050568a574c%D7%A8%D7%A2%D7%A0%D7%9F-%D7%92%D7%9C%D7%A2%D7%93%D7%99', 'https://judgescv.court.gov.il/d38784ba-645e-e811-8105-0050568a6817%D7%A8%D7%A0%D7%A0%D7%94-%D7%92%D7%9C%D7%A4%D7%96-%D7%9E%D7%95%D7%A7%D7%93%D7%99', 'https://judgescv.court.gov.il/df8684ba-645e-e811-8105-0050568a6817%D7%A9%D7%A8%D7%95%D7%9F-%D7%92%D7%9C%D7%A8', 'https://judgescv.court.gov.il/df8884ba-645e-e811-8105-0050568a6817%D7%99%D7%A4%D7%A2%D7%AA-%D7%92%D7%A4%D7%9F', 'https://judgescv.court.gov.il/958684ba-645e-e811-8105-0050568a6817%D7%A1%D7%99%D7%92%D7%9C%D7%99%D7%AA-%D7%92%D7%A5-%D7%90%D7%95%D7%A4%D7%99%D7%A8', 'https://judgescv.court.gov.il/a58884ba-645e-e811-8105-0050568a6817%D7%9B%D7%95%D7%9B%D7%91%D7%94-%D7%90%D7%99%D7%9C%D7%AA-%D7%92%D7%A8%D7%91%D7%99', 'https://judgescv.court.gov.il/cb8784ba-645e-e811-8105-0050568a6817%D7%A6%D7%91%D7%99%D7%99%D7%94--%D7%98%D7%95%D7%91%D7%94--%D7%92%D7%A8%D7%93%D7%A9%D7%98%D7%99%D7%99%D7%9F-%D7%A4%D7%A4%D7%A7%D7%99%D7%9F', 'https://judgescv.court.gov.il/5b8684ba-645e-e811-8105-0050568a6817%D7%A8%D7%97%D7%9C-%D7%92%D7%A8%D7%95%D7%A1', 'https://judgescv.court.gov.il/e98c84ba-645e-e811-8105-0050568a6817%D7%A0%D7%95%D7%A2%D7%94-%D7%92%D7%A8%D7%95%D7%A1%D7%9E%D7%9F', 'https://judgescv.court.gov.il/8b8784ba-645e-e811-8105-0050568a6817%D7%A2%D7%95%D7%A4%D7%A8-%D7%92%D7%A8%D7%95%D7%A1%D7%A7%D7%95%D7%A4%D7%A3', 'https://judgescv.court.gov.il/93d9c285-3bce-ec11-a979-005056ad7925%D7%A2%D7%A0%D7%AA-%D7%92%D7%A8%D7%99%D7%A0%D7%91%D7%90%D7%95%D7%9D-%D7%A9%D7%9E%D7%A2%D7%95%D7%9F', 'https://judgescv.court.gov.il/578884ba-645e-e811-8105-0050568a6817%D7%9E%D7%A8%D7%91-%D7%92%D7%A8%D7%99%D7%A0%D7%91%D7%A8%D7%92', 'https://judgescv.court.gov.il/798b84ba-645e-e811-8105-0050568a6817%D7%99%D7%95%D7%9B%D7%91%D7%93-%D7%92%D7%A8%D7%99%D7%A0%D7%95%D7%95%D7%9C%D7%93-%D7%A8%D7%A0%D7%93', 'https://judgescv.court.gov.il/bd8784ba-645e-e811-8105-0050568a6817%D7%97%D7%95%D7%A4%D7%99%D7%AA-%D7%92%D7%A8%D7%A9%D7%95%D7%9F-%D7%99%D7%96%D7%A8%D7%A2%D7%90%D7%9C%D7%99', 'https://judgescv.court.gov.il/1b8a84ba-645e-e811-8105-0050568a6817%D7%99%D7%A8%D7%95%D7%9F-%D7%92%D7%AA', 'https://judgescv.court.gov.il/f58684ba-645e-e811-8105-0050568a6817%D7%9E%D7%90%D7%96%D7%9F-%D7%93%D7%90%D7%95%D7%93', 'https://judgescv.court.gov.il/f78684ba-645e-e811-8105-0050568a6817%D7%A1%D7%90%D7%90%D7%91-%D7%93%D7%91%D7%95%D7%A8', 'https://judgescv.court.gov.il/5854e4b9-84cb-ec11-a979-005056ad7925%D7%A1%D7%99%D7%92%D7%9C-%D7%93%D7%91%D7%95%D7%A8%D7%99', 'https://judgescv.court.gov.il/4f8d84ba-645e-e811-8105-0050568a6817%D7%A2%D7%A0%D7%AA-%D7%93%D7%91%D7%99', 'https://judgescv.court.gov.il/b38784ba-645e-e811-8105-0050568a6817%D7%9E%D7%99%D7%9B%D7%9C-%D7%93%D7%91%D7%99%D7%A8%D7%99-%D7%A8%D7%95%D7%96%D7%A0%D7%91%D7%9C%D7%98', 'https://judgescv.court.gov.il/778c84ba-645e-e811-8105-0050568a6817%D7%90%D7%99%D7%9C%D7%AA-%D7%93%D7%92%D7%9F', 'https://judgescv.court.gov.il/898884ba-645e-e811-8105-0050568a6817%D7%90%D7%95%D7%A4%D7%99%D7%A8%D7%94-%D7%93%D7%92%D7%9F-%D7%98%D7%95%D7%9B%D7%9E%D7%9B%D7%A8', 'https://judgescv.court.gov.il/978784ba-645e-e811-8105-0050568a6817%D7%90%D7%9E%D7%99%D7%A8-%D7%93%D7%94%D7%90%D7%9F', 'https://judgescv.court.gov.il/ab8684ba-645e-e811-8105-0050568a6817%D7%9E%D7%99%D7%A8%D7%94-%D7%93%D7%94%D7%9F', 'https://judgescv.court.gov.il/f38984ba-645e-e811-8105-0050568a6817%D7%9C%D7%99%D7%90%D7%AA-%D7%93%D7%94%D7%9F-%D7%97%D7%99%D7%95%D7%9F', 'https://judgescv.court.gov.il/e0a0d9be-a1ce-ec11-a979-005056ad7925%D7%9E%D7%99%D7%9B%D7%9C-%D7%93%D7%95%D7%90%D7%A0%D7%99-%D7%91%D7%94%D7%99%D7%A8%D7%99', 'https://judgescv.court.gov.il/db8684ba-645e-e811-8105-0050568a6817%D7%A1%D7%99%D7%92%D7%9C-%D7%93%D7%95%D7%99%D7%93%D7%95%D7%91-%D7%9E%D7%95%D7%98%D7%95%D7%9C%D7%94', 'https://judgescv.court.gov.il/578984ba-645e-e811-8105-0050568a6817%D7%9E%D7%99%D7%9B%D7%9C-%D7%93%D7%95%D7%99%D7%93%D7%99', 'https://judgescv.court.gov.il/538684ba-645e-e811-8105-0050568a6817%D7%96%D7%94%D7%A8-%D7%93%D7%95%D7%9C%D7%91-%D7%9C%D7%94%D7%9E%D7%9F', 'https://judgescv.court.gov.il/6f8884ba-645e-e811-8105-0050568a6817%D7%A1%D7%99%D7%92%D7%9C-%D7%93%D7%95%D7%9E%D7%A0%D7%99%D7%A5-%D7%A1%D7%95%D7%9E%D7%9A', 'https://judgescv.court.gov.il/df8b84ba-645e-e811-8105-0050568a6817%D7%90%D7%91%D7%99%D7%97%D7%99-%D7%93%D7%95%D7%A8%D7%95%D7%9F', 'https://judgescv.court.gov.il/e38884ba-645e-e811-8105-0050568a6817%D7%90%D7%99%D7%99%D7%9C-%D7%93%D7%95%D7%A8%D7%95%D7%9F', 'https://judgescv.court.gov.il/b98684ba-645e-e811-8105-0050568a6817%D7%90%D7%9E%D7%99%D7%A8-%D7%93%D7%95%D7%A8%D7%95%D7%9F', 'https://judgescv.court.gov.il/9b8684ba-645e-e811-8105-0050568a6817%D7%90%D7%A8%D7%99%D7%94-%D7%93%D7%95%D7%A8%D7%95%D7%9F-%D7%93%D7%95%D7%A8%D7%A0%D7%99', 'https://judgescv.court.gov.il/ed8b84ba-645e-e811-8105-0050568a6817%D7%90%D7%91%D7%99%D7%92%D7%93%D7%95%D7%A8-%D7%93%D7%95%D7%A8%D7%95%D7%AA', 'https://judgescv.court.gov.il/b2d684a8-0050-eb11-8125-0050568a574c%D7%9E%D7%A8%D7%98-%D7%93%D7%95%D7%A8%D7%A4%D7%9E%D7%9F', 'https://judgescv.court.gov.il/0b8a84ba-645e-e811-8105-0050568a6817%D7%96%D7%94%D7%A8-%D7%93%D7%99%D7%91%D7%95%D7%9F-%D7%A1%D7%92%D7%9C', 'https://judgescv.court.gov.il/d19f98a5-7312-e911-8113-0050568a574c%D7%A2%D7%99%D7%A0%D7%AA-%D7%93%D7%99%D7%A0%D7%A8%D7%9E%D7%9F', 'https://judgescv.court.gov.il/638d84ba-645e-e811-8105-0050568a6817%D7%A0%D7%91%D7%99%D7%9C%D7%94-%D7%93%D7%9C%D7%94-%D7%9E%D7%95%D7%A1%D7%90', 'https://judgescv.court.gov.il/538d84ba-645e-e811-8105-0050568a6817%D7%99%D7%90%D7%99%D7%A8-%D7%93%D7%9C%D7%95%D7%92%D7%99%D7%9F', 'https://judgescv.court.gov.il/918984ba-645e-e811-8105-0050568a6817%D7%93%D7%A0%D7%99%D7%90%D7%9C-%D7%9E%D7%A8%D7%93%D7%9B%D7%99-%D7%93%D7%9E%D7%91%D7%99%D7%A5', 'https://judgescv.court.gov.il/058784ba-645e-e811-8105-0050568a6817%D7%92%D7%99%D7%9C-%D7%93%D7%A0%D7%99%D7%90%D7%9C', 'https://judgescv.court.gov.il/eb8884ba-645e-e811-8105-0050568a6817%D7%90%D7%9C%D7%99%D7%90%D7%A0%D7%90-%D7%93%D7%A0%D7%99%D7%90%D7%9C%D7%99', 'https://judgescv.court.gov.il/157019ef-0250-eb11-8125-0050568a574c%D7%A9%D7%A8%D7%95%D7%9F-%D7%93%D7%A0%D7%99%D7%90%D7%9C%D7%99', 'https://judgescv.court.gov.il/2d8984ba-645e-e811-8105-0050568a6817%D7%99%D7%A2%D7%A7%D7%91-%D7%93%D7%A0%D7%99%D7%A0%D7%95', 'https://judgescv.court.gov.il/ff8c84ba-645e-e811-8105-0050568a6817%D7%90%D7%99%D7%9C%D7%9F-%D7%93%D7%A4%D7%93%D7%99', 'https://judgescv.court.gov.il/df8c84ba-645e-e811-8105-0050568a6817%D7%A9%D7%99%D7%A8%D7%9C%D7%99-%D7%93%D7%A7%D7%9C-%D7%A0%D7%95%D7%94', 'https://judgescv.court.gov.il/978684ba-645e-e811-8105-0050568a6817%D7%90%D7%A8%D7%A0%D7%95%D7%9F-%D7%93%D7%A8%D7%90%D7%9C', 'https://judgescv.court.gov.il/7f8684ba-645e-e811-8105-0050568a6817%D7%A2%D7%99%D7%93%D7%95-%D7%93%D7%A8%D7%95%D7%99%D7%90%D7%9F-%D7%92%D7%9E%D7%9C%D7%99%D7%90%D7%9C', 'https://judgescv.court.gov.il/cf8884ba-645e-e811-8105-0050568a6817%D7%A9%D7%92%D7%99%D7%AA-%D7%93%D7%A8%D7%95%D7%A7%D7%A8', 'https://judgescv.court.gov.il/bf8684ba-645e-e811-8105-0050568a6817%D7%93%D7%A0%D7%99%D7%94-%D7%93%D7%A8%D7%95%D7%A8%D7%99', 'https://judgescv.court.gov.il/ff8684ba-645e-e811-8105-0050568a6817%D7%90%D7%94%D7%A8%D7%9F-%D7%94%D7%90%D7%95%D7%96%D7%A8%D7%9E%D7%9F', 'https://judgescv.court.gov.il/d98d84ba-645e-e811-8105-0050568a6817%D7%9B%D7%A8%D7%9E%D7%9C%D7%94-%D7%94%D7%90%D7%A4%D7%98', 'https://judgescv.court.gov.il/b78884ba-645e-e811-8105-0050568a6817%D7%99%D7%95%D7%A0%D7%AA-%D7%94%D7%91%D7%A8%D7%A4%D7%9C%D7%93', 'https://judgescv.court.gov.il/5b8784ba-645e-e811-8105-0050568a6817%D7%90%D7%95%D7%A8%D7%99-%D7%94%D7%93%D7%A8', 'https://judgescv.court.gov.il/6ea9aa5c-7412-e911-8113-0050568a574c%D7%90%D7%99%D7%9C%D7%A0%D7%94-%D7%94%D7%93%D7%A8', 'https://judgescv.court.gov.il/e38d84ba-645e-e811-8105-0050568a6817%D7%A2%D7%93%D7%99-%D7%94%D7%93%D7%A8', 'https://judgescv.court.gov.il/ef8984ba-645e-e811-8105-0050568a6817%D7%90%D7%95%D7%A9%D7%A8%D7%99%D7%AA-%D7%94%D7%95%D7%91%D7%A8-%D7%94%D7%99%D7%99%D7%9E%D7%9F', 'https://judgescv.court.gov.il/3b8784ba-645e-e811-8105-0050568a6817%D7%A2%D7%99%D7%A8%D7%99%D7%AA-%D7%98%D7%95%D7%91%D7%94-%D7%94%D7%95%D7%93', 'https://judgescv.court.gov.il/158984ba-645e-e811-8105-0050568a6817%D7%90%D7%99%D7%99%D7%9C%D7%AA-%D7%94%D7%95%D7%9A-%D7%98%D7%9C', 'https://judgescv.court.gov.il/bd8b84ba-645e-e811-8105-0050568a6817%D7%9E%D7%A9%D7%94-%D7%94%D7%95%D7%9C%D7%A6%D7%9E%D7%9F', 'https://judgescv.court.gov.il/7b8784ba-645e-e811-8105-0050568a6817%D7%93%D7%A0%D7%99%D7%90%D7%9C-%D7%94%D7%95%D7%A8%D7%95%D7%91%D7%99%D7%A5', 'https://judgescv.court.gov.il/2d8d84ba-645e-e811-8105-0050568a6817%D7%A9%D7%99%D7%A8%D7%99-%D7%94%D7%99%D7%99%D7%9E%D7%9F', 'https://judgescv.court.gov.il/918d84ba-645e-e811-8105-0050568a6817%D7%90%D7%91%D7%A8%D7%94%D7%9D-%D7%94%D7%99%D7%9E%D7%9F', 'https://judgescv.court.gov.il/298984ba-645e-e811-8105-0050568a6817%D7%92%D7%99%D7%90-%D7%94%D7%99%D7%9E%D7%9F', 'https://judgescv.court.gov.il/ef8884ba-645e-e811-8105-0050568a6817%D7%A9%D7%A8%D7%95%D7%9F-%D7%94%D7%99%D7%A0%D7%93%D7%94', 'https://judgescv.court.gov.il/f78c84ba-645e-e811-8105-0050568a6817%D7%A8%D7%A0%D7%94-%D7%94%D7%99%D7%A8%D7%A9', 'https://judgescv.court.gov.il/a43b6079-1950-eb11-8125-0050568a574c%D7%91%D7%A0%D7%99%D7%9E%D7%99%D7%9F-%D7%94%D7%99%D7%A8%D7%A9%D7%9C-%D7%93%D7%95%D7%A8%D7%95%D7%9F', 'https://judgescv.court.gov.il/8d8d84ba-645e-e811-8105-0050568a6817%D7%9E%D7%99%D7%9B%D7%9C-%D7%94%D7%99%D7%A8%D7%A9%D7%A4%D7%9C%D7%93', 'https://judgescv.court.gov.il/8b8c84ba-645e-e811-8105-0050568a6817%D7%90%D7%A1%D7%AA%D7%A8-%D7%94%D7%9C%D7%9E%D7%9F-%D7%A0%D7%95%D7%A1%D7%91%D7%95%D7%99%D7%9D', 'https://judgescv.court.gov.il/118a84ba-645e-e811-8105-0050568a6817%D7%90%D7%A4%D7%A8%D7%AA-%D7%94%D7%9C%D7%A8', 'https://judgescv.court.gov.il/bd8984ba-645e-e811-8105-0050568a6817%D7%99%D7%A0%D7%99%D7%91-%D7%94%D7%9C%D7%A8', 'https://judgescv.court.gov.il/f18984ba-645e-e811-8105-0050568a6817%D7%A2%D7%A0%D7%AA-%D7%94%D7%9C%D7%A8-%D7%9B%D7%A8%D7%99%D7%A9', 'https://judgescv.court.gov.il/4b8784ba-645e-e811-8105-0050568a6817%D7%92%D7%9C%D7%A2%D7%93-%D7%94%D7%A1', 'https://judgescv.court.gov.il/bb8784ba-645e-e811-8105-0050568a6817%D7%99%D7%94%D7%95%D7%93%D7%94--%D7%90%D7%95%D7%93%D7%99--%D7%94%D7%A7%D7%A8', 'https://judgescv.court.gov.il/2b8684ba-645e-e811-8105-0050568a6817%D7%90%D7%A1%D7%A3-%D7%94%D7%A8%D7%90%D7%9C', 'https://judgescv.court.gov.il/c58784ba-645e-e811-8105-0050568a6817%D7%A9%D7%9E%D7%95%D7%90%D7%9C-%D7%94%D7%A8%D7%91%D7%A1%D7%98', 'https://judgescv.court.gov.il/f6b781a9-1950-eb11-8125-0050568a574c%D7%9E%D7%99%D7%A8%D7%99-%D7%94%D7%A8%D7%98--%D7%A8%D7%99%D7%A5', 'https://judgescv.court.gov.il/fd8984ba-645e-e811-8105-0050568a6817%D7%90%D7%99%D7%A8%D7%99%D7%AA-%D7%94%D7%A8%D7%9E%D7%9C', 'https://judgescv.court.gov.il/1f8984ba-645e-e811-8105-0050568a6817%D7%90%D7%99%D7%AA%D7%99-%D7%94%D7%A8%D7%9E%D7%9C%D7%99%D7%9F', 'https://judgescv.court.gov.il/2c413a60-6a12-e911-8113-0050568a574c%D7%90%D7%99%D7%9C%D7%AA-%D7%94%D7%A8%D7%A0%D7%95%D7%A3', 'https://judgescv.court.gov.il/818984ba-645e-e811-8105-0050568a6817%D7%90%D7%99%D7%99%D7%9C%D7%AA-%D7%94%D7%A8%D7%A5-%D7%98%D7%95%D7%A4%D7%96-%D7%90%D7%97%D7%99%D7%A2%D7%96%D7%A8', 'https://judgescv.court.gov.il/678984ba-645e-e811-8105-0050568a6817%D7%9C%D7%99%D7%90%D7%AA-%D7%94%D7%A8-%D7%A6%D7%99%D7%95%D7%9F', 'https://judgescv.court.gov.il/203aec58-5e99-ec11-812c-0050568a574c%D7%A0%D7%95%D7%A8%D7%99%D7%AA-%D7%94%D7%A8%D7%A6%D7%9E%D7%9F-%D7%90%D7%91%D7%99-%D7%99%D7%A6%D7%97%D7%A7', 'https://judgescv.court.gov.il/b98d84ba-645e-e811-8105-0050568a6817%D7%90%D7%A8%D7%99%D7%90%D7%9C-%D7%95%D7%90%D7%92%D7%95', 'https://judgescv.court.gov.il/6cc5be8d-6599-ec11-812c-0050568a574c%D7%9E%D7%95%D7%A8%D7%9F-%D7%95%D7%90%D7%9C%D7%9A-%D7%A0%D7%99%D7%A1%D7%9F', 'https://judgescv.court.gov.il/ba45ae90-acce-ec11-a979-005056ad7925%D7%9E%D7%A8%D7%93%D7%9B%D7%99-%D7%95%D7%97%D7%93%D7%99', 'https://judgescv.court.gov.il/578c84ba-645e-e811-8105-0050568a6817%D7%99%D7%A2%D7%9C-%D7%95%D7%99%D7%9C%D7%A0%D7%A8', 'https://judgescv.court.gov.il/958c84ba-645e-e811-8105-0050568a6817%D7%97%D7%93%D7%95%D7%94-%D7%95%D7%99%D7%A0%D7%91%D7%90%D7%95%D7%9D-%D7%95%D7%95%D7%9C%D7%A6%D7%A7%D7%99', 'https://judgescv.court.gov.il/778b84ba-645e-e811-8105-0050568a6817%D7%A2%D7%99%D7%A8%D7%99%D7%AA-%D7%95%D7%99%D7%A0%D7%91%D7%A8%D7%92-%D7%A0%D7%95%D7%98%D7%95%D7%91%D7%99%D7%A5', 'https://judgescv.court.gov.il/ed8d84ba-645e-e811-8105-0050568a6817%D7%A8%D7%9D-%D7%95%D7%99%D7%A0%D7%95%D7%92%D7%A8%D7%93', 'https://judgescv.court.gov.il/7f8884ba-645e-e811-8105-0050568a6817%D7%90%D7%95%D7%A8%D7%99%D7%AA-%D7%95%D7%99%D7%A0%D7%A9%D7%98%D7%99%D7%99%D7%9F', 'https://judgescv.court.gov.il/c4c685c2-6f12-e911-8113-0050568a574c%D7%90%D7%9C%D7%99%D7%A2%D7%93-%D7%95%D7%99%D7%A0%D7%A9%D7%9C', 'https://judgescv.court.gov.il/778884ba-645e-e811-8105-0050568a6817%D7%98%D7%9C-%D7%95%D7%99%D7%A1%D7%9E%D7%9F-%D7%91%D7%9F-%D7%A9%D7%97%D7%A8', 'https://judgescv.court.gov.il/6f8d84ba-645e-e811-8105-0050568a6817%D7%A6%D7%91%D7%99-%D7%95%D7%99%D7%A6%D7%9E%D7%9F', 'https://judgescv.court.gov.il/ff8984ba-645e-e811-8105-0050568a6817%D7%90%D7%9E%D7%99%D7%A8-%D7%95%D7%99%D7%A6%D7%A0%D7%91%D7%9C%D7%99%D7%98', 'https://judgescv.court.gov.il/8f8b84ba-645e-e811-8105-0050568a6817%D7%95%D7%A8%D7%93%D7%94-%D7%95%D7%99%D7%A8%D7%98-%D7%9C%D7%91%D7%A0%D7%94', 'https://judgescv.court.gov.il/7ff3cf51-0350-eb11-8125-0050568a574c%D7%A7%D7%A8%D7%99%D7%9F-%D7%95%D7%99%D7%A9%D7%99%D7%A0%D7%A1%D7%A7%D7%99', 'https://judgescv.court.gov.il/538b84ba-645e-e811-8105-0050568a6817%D7%90%D7%98%D7%9C%D7%99%D7%90-%D7%95%D7%99%D7%A9%D7%A7%D7%99%D7%9F-%D7%A4%D7%9C%D7%95%D7%A8%D7%A0%D7%98%D7%9C', 'https://judgescv.court.gov.il/f58884ba-645e-e811-8105-0050568a6817%D7%90%D7%91%D7%99%D7%92%D7%99%D7%9C-%D7%95%D7%9F-%D7%A7%D7%A8%D7%A4%D7%9C%D7%93', 'https://judgescv.court.gov.il/58499f6b-1cd5-e811-810c-0050568a574c%D7%90%D7%A4%D7%A8%D7%AA-%D7%95%D7%A0%D7%A7%D7%A8%D7%98', 'https://judgescv.court.gov.il/b857f10f-aece-ec11-a979-005056ad7925%D7%90%D7%91%D7%99-%D7%95%D7%A1%D7%98%D7%A8%D7%9E%D7%9F', 'https://judgescv.court.gov.il/298a7c6c-a54d-eb11-8125-0050568a574c%D7%99%D7%95%D7%91%D7%9C-%D7%95%D7%A1%D7%A8%D7%A7%D7%A8%D7%95%D7%92', 'https://judgescv.court.gov.il/3a395308-0450-eb11-8125-0050568a574c%D7%A7%D7%A8%D7%9F-%D7%95%D7%A7%D7%A1%D7%9C%D7%A8', 'https://judgescv.court.gov.il/818b84ba-645e-e811-8105-0050568a6817%D7%A8%D7%95%D7%AA-%D7%95%D7%A7%D7%A1%D7%9E%D7%9F', 'https://judgescv.court.gov.il/138d84ba-645e-e811-8105-0050568a6817%D7%A2%D7%A4%D7%A8%D7%94-%D7%95%D7%A8%D7%91%D7%A0%D7%A8', 'https://judgescv.court.gov.il/e38b84ba-645e-e811-8105-0050568a6817%D7%93%D7%9C%D7%99%D7%AA-%D7%95%D7%A8%D7%93', 'https://judgescv.court.gov.il/998c84ba-645e-e811-8105-0050568a6817%D7%90%D7%91%D7%99%D7%A9%D7%99-%D7%96%D7%91%D7%95%D7%9C%D7%95%D7%9F', 'https://judgescv.court.gov.il/378884ba-645e-e811-8105-0050568a6817%D7%90%D7%A1%D7%A3-%D7%96%D7%92%D7%95%D7%A8%D7%99', 'https://judgescv.court.gov.il/ad8884ba-645e-e811-8105-0050568a6817%D7%A9%D7%A8%D7%99%D7%AA-%D7%96%D7%95%D7%9B%D7%95%D7%91%D7%99%D7%A6%D7%A7%D7%99-%D7%90%D7%95%D7%A8%D7%99', 'https://judgescv.court.gov.il/c2d455c4-4699-ec11-812c-0050568a574c%D7%9E%D7%99%D7%A1%D7%90-%D7%96%D7%95%D7%A2%D7%91%D7%99', 'https://judgescv.court.gov.il/cd8984ba-645e-e811-8105-0050568a6817%D7%A8%D7%92%D7%93-%D7%96%D7%95%D7%A2%D7%91%D7%99', 'https://judgescv.court.gov.il/6b6aeb59-3c5e-eb11-8125-0050568a574c%D7%A8%D7%A2%D7%95%D7%AA-%D7%96%D7%99%D7%95', 'https://judgescv.court.gov.il/485a7e6f-acce-ec11-a979-005056ad7925%D7%93%D7%95%D7%A8%D7%95%D7%9F-%D7%96%D7%99%D7%95-%D7%90%D7%91', 'https://judgescv.court.gov.il/058c84ba-645e-e811-8105-0050568a6817%D7%90%D7%A1%D7%AA%D7%A8-%D7%96-%D7%99%D7%98%D7%A0%D7%99%D7%A6%D7%A7%D7%99--%D7%A8%D7%A7%D7%95%D7%91%D7%A8-', 'https://judgescv.court.gov.il/774ab985-7212-e911-8113-0050568a574c%D7%9E%D7%99%D7%9B%D7%9C-%D7%96%D7%99%D7%A0%D7%92%D7%A8', 'https://judgescv.court.gov.il/8f8684ba-645e-e811-8105-0050568a6817%D7%A2%D7%A0%D7%AA-%D7%96%D7%99%D7%A0%D7%92%D7%A8', 'https://judgescv.court.gov.il/178984ba-645e-e811-8105-0050568a6817%D7%A0%D7%99%D7%A8-%D7%96%D7%99%D7%AA%D7%95%D7%A0%D7%99', 'https://judgescv.court.gov.il/a78684ba-645e-e811-8105-0050568a6817%D7%A1%D7%99%D7%92%D7%9C-%D7%96%D7%9B%D7%90%D7%99-%D7%A8%D7%A1%D7%9C%D7%A8', 'https://judgescv.court.gov.il/eb8784ba-645e-e811-8105-0050568a6817%D7%90%D7%91%D7%99%D7%92%D7%99%D7%9C-%D7%96%D7%9B%D7%A8%D7%99%D7%94', 'https://judgescv.court.gov.il/f98d84ba-645e-e811-8105-0050568a6817%D7%A0%D7%AA%D7%9F-%D7%96%D7%9C%D7%95%D7%A6-%D7%95%D7%91%D7%A8', 'https://judgescv.court.gov.il/a18784ba-645e-e811-8105-0050568a6817%D7%A9%D7%A8%D7%99%D7%AA-%D7%96%D7%9E%D7%99%D7%A8', 'https://judgescv.court.gov.il/d50ea8e4-73cb-ec11-a979-005056ad7925%D7%A2%D7%9E%D7%99-%D7%96%D7%A0%D7%90%D7%98%D7%99', 'https://judgescv.court.gov.il/c78684ba-645e-e811-8105-0050568a6817%D7%97%D7%99%D7%94-%D7%96%D7%A0%D7%93%D7%91%D7%A8%D7%92', 'https://judgescv.court.gov.il/8d8884ba-645e-e811-8105-0050568a6817%D7%A0%D7%99%D7%A8-%D7%9E%D7%A9%D7%94-%D7%96%D7%A0%D7%95', 'https://judgescv.court.gov.il/958984ba-645e-e811-8105-0050568a6817%D7%90%D7%9C%D7%95%D7%90%D7%96-%D7%96%D7%A2%D7%A8%D7%95%D7%A8%D7%94-%D7%A2%D7%91%D7%93%D7%90%D7%9C%D7%97%D7%9C%D7%99%D7%9D', 'https://judgescv.court.gov.il/8b4d9363-6099-ec11-812c-0050568a574c%D7%9C%D7%99%D7%A8%D7%95%D7%9F-%D7%96%D7%A8%D7%91%D7%9C--%D7%A7%D7%93%D7%A9%D7%90%D7%99', 'https://judgescv.court.gov.il/ed8984ba-645e-e811-8105-0050568a6817%D7%9E%D7%95%D7%97%D7%9E%D7%93-%D7%97%D7%90%D7%92--%D7%99%D7%97%D7%99%D7%90', 'https://judgescv.court.gov.il/498884ba-645e-e811-8105-0050568a6817%D7%95%D7%95%D7%99%D7%9C%D7%99%D7%90%D7%9D-%D7%97%D7%90%D7%9E%D7%93', 'https://judgescv.court.gov.il/c58984ba-645e-e811-8105-0050568a6817%D7%98%D7%9C-%D7%97%D7%91%D7%A7%D7%99%D7%9F', 'https://judgescv.court.gov.il/c98784ba-645e-e811-8105-0050568a6817%D7%9E%D7%A8%D7%91-%D7%97%D7%91%D7%A7%D7%99%D7%9F', 'https://judgescv.court.gov.il/6c6ebc2b-3615-ec11-812a-0050568a574c%D7%A9%D7%A8%D7%95%D7%9F-%D7%97%D7%92-%D7%92-', 'https://judgescv.court.gov.il/97fd2b30-52db-e811-810e-0050568a574c%D7%97%D7%99%D7%9C%D7%9E%D7%99-%D7%97%D7%92-%D7%95%D7%92-', 'https://judgescv.court.gov.il/558884ba-645e-e811-8105-0050568a6817%D7%90%D7%95%D7%A8%D7%99%D7%AA--%D7%91%D7%AA-%D7%90%D7%9C-%D7%97%D7%93%D7%93', 'https://judgescv.court.gov.il/698984ba-645e-e811-8105-0050568a6817%D7%9B%D7%A8%D7%9E%D7%99%D7%AA-%D7%97%D7%93%D7%93', 'https://judgescv.court.gov.il/5f8d84ba-645e-e811-8105-0050568a6817%D7%A8%D7%9E%D7%96%D7%99-%D7%97%D7%93%D7%99%D7%93', 'https://judgescv.court.gov.il/3f8884ba-645e-e811-8105-0050568a6817%D7%A2%D7%A0%D7%AA-%D7%97%D7%95%D7%9C%D7%AA%D7%90', 'https://judgescv.court.gov.il/bd8c84ba-645e-e811-8105-0050568a6817%D7%90%D7%A8%D7%99%D7%90%D7%9C-%D7%97%D7%96%D7%A7', 'https://judgescv.court.gov.il/998884ba-645e-e811-8105-0050568a6817%D7%A1%D7%90%D7%9E%D7%A8-%D7%97-%D7%98%D7%99%D7%91', 'https://judgescv.court.gov.il/1f8b84ba-645e-e811-8105-0050568a6817%D7%90%D7%A1%D7%AA%D7%A8-%D7%97%D7%99%D7%95%D7%AA', 'https://judgescv.court.gov.il/61347f26-5f99-ec11-812c-0050568a574c%D7%9C%D7%99%D7%A8%D7%9F-%D7%97%D7%99%D7%99%D7%9D', 'https://judgescv.court.gov.il/8f8784ba-645e-e811-8105-0050568a6817%D7%A8%D7%9E%D7%99-%D7%97%D7%99%D7%99%D7%9E%D7%95%D7%91%D7%99%D7%A5-', 'https://judgescv.court.gov.il/ad8c84ba-645e-e811-8105-0050568a6817%D7%98%D7%9C%D7%99-%D7%97%D7%99%D7%99%D7%9E%D7%95%D7%91%D7%99%D7%A5-%D7%9C%D7%91%D7%A0%D7%AA', 'https://judgescv.court.gov.il/a646b9db-1950-eb11-8125-0050568a574c%D7%9B%D7%A8%D7%99%D7%A1%D7%98%D7%99%D7%A0%D7%94-%D7%97%D7%99%D7%9C%D7%95-%D7%90%D7%A1%D7%A2%D7%93', 'https://judgescv.court.gov.il/178884ba-645e-e811-8105-0050568a6817%D7%95%D7%99%D7%A1%D7%90%D7%9D-%D7%97%D7%99%D7%A8', 'https://judgescv.court.gov.il/e98684ba-645e-e811-8105-0050568a6817%D7%9E%D7%95%D7%94%D7%A0%D7%93-%D7%97%D7%9C%D7%90%D7%99%D7%9C%D7%94', 'https://judgescv.court.gov.il/c96729b8-82cb-ec11-a979-005056ad7925%D7%90%D7%97%D7%A1%D7%90%D7%9F-%D7%97%D7%9C%D7%91%D7%99', 'https://judgescv.court.gov.il/5e7bffe8-adce-ec11-a979-005056ad7925%D7%9C%D7%99%D7%9E%D7%95%D7%A8-%D7%97%D7%9C%D7%93-%D7%A8%D7%95%D7%9F', 'https://judgescv.court.gov.il/86f31b05-a990-e811-8109-0050568a574c%D7%95%D7%99%D7%92-%D7%93%D7%90%D7%9F-%D7%97%D7%9C%D7%99%D7%97%D7%9C', 'https://judgescv.court.gov.il/ff8884ba-645e-e811-8105-0050568a6817%D7%9E%D7%A0%D7%90%D7%9C-%D7%97%D7%9C%D7%99%D7%97%D7%9C-%D7%93%D7%99%D7%90%D7%91', 'https://judgescv.court.gov.il/e78984ba-645e-e811-8105-0050568a6817%D7%9E%D7%99%D7%98%D7%9C-%D7%97%D7%9C%D7%A4%D7%95%D7%9F-%D7%A0%D7%96%D7%A8%D7%99%D7%90%D7%9F', 'https://judgescv.court.gov.il/2066dfa5-52db-e811-810e-0050568a574c%D7%96%D7%94%D7%91%D7%99%D7%AA-%D7%97%D7%9E%D7%95', 'https://judgescv.court.gov.il/e78b84ba-645e-e811-8105-0050568a6817%D7%90%D7%91%D7%99%D7%98%D7%9C-%D7%97%D7%9F', 'https://judgescv.court.gov.il/578784ba-645e-e811-8105-0050568a6817%D7%A2%D7%93%D7%99-%D7%97%D7%9F-%D7%91%D7%A8%D7%A7', 'https://judgescv.court.gov.il/218c84ba-645e-e811-8105-0050568a6817%D7%93%D7%95%D7%A8%D7%95%D7%9F-%D7%97%D7%A1%D7%93%D7%90%D7%99', 'https://judgescv.court.gov.il/b18884ba-645e-e811-8105-0050568a6817%D7%99%D7%90%D7%99%D7%A8-%D7%97%D7%A1%D7%93%D7%99%D7%90%D7%9C', 'https://judgescv.court.gov.il/8b8984ba-645e-e811-8105-0050568a6817%D7%93%D7%A4%D7%A0%D7%94-%D7%97%D7%A1%D7%95%D7%9F-%D7%96%D7%9B%D7%A8%D7%99%D7%94', 'https://judgescv.court.gov.il/8f8d84ba-645e-e811-8105-0050568a6817%D7%A0%D7%95%D7%94%D7%90%D7%93-%D7%97%D7%A1%D7%9F', 'https://judgescv.court.gov.il/89fed597-83cb-ec11-a979-005056ad7925%D7%91%D7%93%D7%A8%D7%99%D7%94-%D7%97%D7%A1%D7%9F-%D7%97%D7%A1%D7%A0%D7%99%D7%99%D7%9F', 'https://judgescv.court.gov.il/0b8884ba-645e-e811-8105-0050568a6817%D7%98%D7%90%D7%A8%D7%A7-%D7%97%D7%A1%D7%A0%D7%99%D7%99%D7%9F', 'https://judgescv.court.gov.il/a78784ba-645e-e811-8105-0050568a6817%D7%A0%D7%95%D7%A2%D7%94-%D7%97%D7%A7%D7%9C%D7%90%D7%99', 'https://judgescv.court.gov.il/d18c84ba-645e-e811-8105-0050568a6817%D7%A0%D7%A2%D7%9D-%D7%97%D7%AA-%D7%9E%D7%A7%D7%95%D7%91', 'https://judgescv.court.gov.il/478884ba-645e-e811-8105-0050568a6817%D7%A2%D7%A8%D7%A4%D7%90%D7%AA-%D7%98%D7%90%D7%94%D7%90', 'https://judgescv.court.gov.il/ab8c84ba-645e-e811-8105-0050568a6817%D7%91%D7%98%D7%99%D7%A0%D7%94-%D7%98%D7%90%D7%95%D7%91%D7%A8', 'https://judgescv.court.gov.il/643ec0c9-f799-ec11-812c-0050568a574c%D7%A2%D7%A8%D7%9F-%D7%98%D7%90%D7%95%D7%A1%D7%99%D7%92', 'https://judgescv.court.gov.il/3deb3dd8-3415-ec11-812a-0050568a574c%D7%91%D7%A0%D7%99%D7%9E%D7%99%D7%9F-%D7%98%D7%95%D7%90%D7%A3', 'https://judgescv.court.gov.il/3d8c84ba-645e-e811-8105-0050568a6817%D7%90%D7%9E%D7%99%D7%A8-%D7%98%D7%95%D7%91%D7%99', 'https://judgescv.court.gov.il/c38c84ba-645e-e811-8105-0050568a6817%D7%99%D7%A2%D7%9C-%D7%98%D7%95%D7%99%D7%A1%D7%98%D7%A8-%D7%99%D7%A9%D7%A8%D7%90%D7%9C%D7%99', 'https://judgescv.court.gov.il/478d84ba-645e-e811-8105-0050568a6817%D7%91%D7%9C%D7%94%D7%94-%D7%98%D7%95%D7%9C%D7%A7%D7%95%D7%91%D7%A1%D7%A7%D7%99', 'https://judgescv.court.gov.il/d58884ba-645e-e811-8105-0050568a6817%D7%99%D7%95%D7%A1%D7%99-%D7%98%D7%95%D7%A4%D7%A3', 'https://judgescv.court.gov.il/3b8e84ba-645e-e811-8105-0050568a6817%D7%97%D7%95%D7%99-%D7%98%D7%95%D7%A7%D7%A8', 'https://judgescv.court.gov.il/738784ba-645e-e811-8105-0050568a6817%D7%99%D7%95%D7%A1%D7%A3-%D7%98%D7%95%D7%A8%D7%A1', 'https://judgescv.court.gov.il/cf8784ba-645e-e811-8105-0050568a6817%D7%92%D7%9C-%D7%A9%D7%9C%D7%9E%D7%94-%D7%98%D7%99%D7%99%D7%91', 'https://judgescv.court.gov.il/a38884ba-645e-e811-8105-0050568a6817%D7%A8%D7%97%D7%9C-%D7%98%D7%99%D7%A7%D7%98%D7%99%D7%9F-%D7%A2%D7%93%D7%95%D7%9C%D7%9D', 'https://judgescv.court.gov.il/138784ba-645e-e811-8105-0050568a6817%D7%90%D7%9C%D7%A2%D7%93-%D7%98%D7%9C', 'https://judgescv.court.gov.il/0e64fc04-a85f-eb11-8125-0050568a574c%D7%A0%D7%A2%D7%9E%D7%94-%D7%98%D7%9C%D7%9E%D7%9F-%D7%91%D7%95%D7%9C%D7%98%D7%99%D7%9F', 'https://judgescv.court.gov.il/878684ba-645e-e811-8105-0050568a6817%D7%92-%D7%A0%D7%99-%D7%98%D7%A0%D7%95%D7%A1', 'https://judgescv.court.gov.il/598e84ba-645e-e811-8105-0050568a6817%D7%90%D7%A1%D7%AA%D7%A8-%D7%98%D7%A4%D7%98%D7%94-%D7%92%D7%A8%D7%93%D7%99', 'https://judgescv.court.gov.il/0f8a84ba-645e-e811-8105-0050568a6817%D7%A8%D7%95%D7%99%D7%98%D7%9C-%D7%98%D7%A8%D7%A0%D7%A8', 'https://judgescv.court.gov.il/1d8784ba-645e-e811-8105-0050568a6817%D7%97%D7%92%D7%99-%D7%98%D7%A8%D7%A1%D7%99', 'https://judgescv.court.gov.il/c38684ba-645e-e811-8105-0050568a6817%D7%A2%D7%A0%D7%AA-%D7%99%D7%94%D7%91', 'https://judgescv.court.gov.il/e38984ba-645e-e811-8105-0050568a6817%D7%91%D7%9C%D7%94%D7%94-%D7%99%D7%94%D7%9C%D7%95%D7%9D', 'https://judgescv.court.gov.il/8b8684ba-645e-e811-8105-0050568a6817%D7%94%D7%93%D7%A1-%D7%99%D7%94%D7%9C%D7%95%D7%9D', 'https://judgescv.court.gov.il/458684ba-645e-e811-8105-0050568a6817%D7%90%D7%95%D7%A8%D7%99%D7%AA-%D7%90%D7%91%D7%99%D7%92%D7%99%D7%9C-%D7%99%D7%94%D7%9C%D7%95%D7%9E%D7%99', 'https://judgescv.court.gov.il/598984ba-645e-e811-8105-0050568a6817%D7%95%D7%93%D7%90%D7%93-%D7%99%D7%95%D7%A0%D7%A1-%D7%92%D7%A0%D7%90%D7%99%D7%9D', 'https://judgescv.court.gov.il/418c84ba-645e-e811-8105-0050568a6817%D7%A1%D7%95%D7%94%D7%99%D7%9C-%D7%99%D7%95%D7%A1%D7%A3', 'https://judgescv.court.gov.il/d98c84ba-645e-e811-8105-0050568a6817%D7%99%D7%95%D7%A1%D7%A3-%D7%99%D7%95%D7%A1%D7%A4%D7%99', 'https://judgescv.court.gov.il/938684ba-645e-e811-8105-0050568a6817%D7%A2%D7%93%D7%A0%D7%94-%D7%99%D7%95%D7%A1%D7%A3-%D7%A7%D7%95%D7%96%D7%99%D7%9F', 'https://judgescv.court.gov.il/258d84ba-645e-e811-8105-0050568a6817%D7%91%D7%A0%D7%99%D7%9E%D7%99%D7%9F-%D7%99%D7%96%D7%A8%D7%A2%D7%90%D7%9C%D7%99', 'https://judgescv.court.gov.il/cf8984ba-645e-e811-8105-0050568a6817%D7%90%D7%95%D7%A4%D7%99%D7%A8-%D7%99%D7%97%D7%96%D7%A7%D7%90%D7%9C', 'https://judgescv.court.gov.il/c38984ba-645e-e811-8105-0050568a6817%D7%AA%D7%9E%D7%99-%D7%99%D7%98%D7%97', 'https://judgescv.court.gov.il/898c84ba-645e-e811-8105-0050568a6817%D7%99%D7%A2%D7%9C-%D7%99%D7%99%D7%98%D7%91', 'https://judgescv.court.gov.il/158b84ba-645e-e811-8105-0050568a6817%D7%96%D7%9B%D7%A8%D7%99%D7%94-%D7%99%D7%9E%D7%99%D7%A0%D7%99', 'https://judgescv.court.gov.il/b7a3f778-029a-ec11-812c-0050568a574c%D7%A8%D7%A4%D7%90%D7%9C-%D7%99%D7%9E%D7%99%D7%A0%D7%99', 'https://judgescv.court.gov.il/7f8c84ba-645e-e811-8105-0050568a6817%D7%A9%D7%99-%D7%99%D7%A0%D7%99%D7%91', 'https://judgescv.court.gov.il/44075a6f-6299-ec11-812c-0050568a574c%D7%A1%D7%99%D7%92%D7%9C-%D7%99%D7%A2%D7%A7%D7%91%D7%99', 'https://judgescv.court.gov.il/a98884ba-645e-e811-8105-0050568a6817%D7%90%D7%95%D7%A8%D7%99%D7%AA-%D7%A4%D7%96%D7%99-%D7%99%D7%A2%D7%A7%D7%91%D7%A1', 'https://judgescv.court.gov.il/f98784ba-645e-e811-8105-0050568a6817%D7%A2%D7%93%D7%99-%D7%99%D7%A2%D7%A7%D7%95%D7%91%D7%95%D7%91%D7%99%D7%A5', 'https://judgescv.court.gov.il/058d84ba-645e-e811-8105-0050568a6817%D7%A9%D7%9C%D7%95%D7%9E%D7%99%D7%AA-%D7%99%D7%A2%D7%A7%D7%95%D7%91%D7%95%D7%91%D7%99%D7%A5', 'https://judgescv.court.gov.il/158784ba-645e-e811-8105-0050568a6817%D7%93%D7%95%D7%A8%D7%95%D7%9F-%D7%99%D7%A2%D7%A7%D7%95%D7%91%D7%99', 'https://judgescv.court.gov.il/9f8b84ba-645e-e811-8105-0050568a6817%D7%A8%D7%95%D7%99%D7%98%D7%9C-%D7%99%D7%A4%D7%94-%D7%9B-%D7%A5', 'https://judgescv.court.gov.il/778784ba-645e-e811-8105-0050568a6817%D7%9E%D7%A8%D7%99%D7%9D-%D7%99%D7%A4%D7%A2%D7%AA%D7%99---%D7%97%D7%9C%D7%90%D7%95%D7%99', 'https://judgescv.court.gov.il/d09f187f-d390-e811-8109-0050568a574c%D7%90%D7%91%D7%A0%D7%A8-%D7%99%D7%A4%D7%A8%D7%97', 'https://judgescv.court.gov.il/16f50d75-5712-e911-8113-0050568a574c%D7%93%D7%95%D7%A8%D7%95%D7%9F-%D7%99%D7%A4%D7%AA', 'https://judgescv.court.gov.il/7e41e232-41ce-ec11-a979-005056ad7925%D7%93%D7%95%D7%93-%D7%99%D7%A6%D7%97%D7%A7', 'https://judgescv.court.gov.il/838684ba-645e-e811-8105-0050568a6817%D7%90%D7%A8%D7%96-%D7%99%D7%A7%D7%95%D7%90%D7%9C', 'https://judgescv.court.gov.il/238a84ba-645e-e811-8105-0050568a6817%D7%9C%D7%99%D7%90%D7%AA-%D7%99%D7%A8%D7%95%D7%9F', 'https://judgescv.court.gov.il/198a84ba-645e-e811-8105-0050568a6817%D7%A2%D7%9E%D7%99%D7%AA-%D7%99%D7%A8%D7%99%D7%91', 'https://judgescv.court.gov.il/b38984ba-645e-e811-8105-0050568a6817%D7%99%D7%A0%D7%99%D7%91-%D7%90%D7%9C%D7%A2%D7%93-%D7%99%D7%A8%D7%9E%D7%99%D7%94%D7%95', 'https://judgescv.court.gov.il/cb8b84ba-645e-e811-8105-0050568a6817%D7%97%D7%90%D7%9C%D7%93-%D7%9B%D7%91%D7%95%D7%91', 'https://judgescv.court.gov.il/198d84ba-645e-e811-8105-0050568a6817%D7%9E%D7%A8%D7%93%D7%9B%D7%99-%D7%9B%D7%93%D7%95%D7%A8%D7%99', 'https://judgescv.court.gov.il/818684ba-645e-e811-8105-0050568a6817%D7%90%D7%91%D7%99%D7%92%D7%99%D7%9C-%D7%9B%D7%94%D7%9F', 'https://judgescv.court.gov.il/a98784ba-645e-e811-8105-0050568a6817%D7%90%D7%91%D7%99%D7%A9%D7%99-%D7%9B%D7%94%D7%9F', 'https://judgescv.court.gov.il/678d84ba-645e-e811-8105-0050568a6817%D7%90%D7%91%D7%A8%D7%94%D7%9D--%D7%90%D7%91%D7%99--%D7%9B%D7%94%D7%9F', 'https://judgescv.court.gov.il/118784ba-645e-e811-8105-0050568a6817%D7%90%D7%99%D7%99%D7%9C-%D7%9B%D7%94%D7%9F', 'https://judgescv.court.gov.il/818d84ba-645e-e811-8105-0050568a6817%D7%90%D7%99%D7%AA%D7%9F-%D7%9B%D7%94%D7%9F', 'https://judgescv.court.gov.il/2b8884ba-645e-e811-8105-0050568a6817%D7%93%D7%99%D7%A0%D7%94-%D7%9B%D7%94%D7%9F', 'https://judgescv.court.gov.il/058b84ba-645e-e811-8105-0050568a6817%D7%99%D7%A6%D7%97%D7%A7-%D7%9B%D7%94%D7%9F', 'https://judgescv.court.gov.il/538e84ba-645e-e811-8105-0050568a6817%D7%9E%D7%92%D7%99-%D7%9B%D7%94%D7%9F', 'https://judgescv.court.gov.il/ebb10d2d-84cb-ec11-a979-005056ad7925%D7%9E%D7%95%D7%98%D7%99-%D7%9E%D7%A8%D7%93%D7%9B%D7%99-%D7%9B%D7%94%D7%9F', 'https://judgescv.court.gov.il/858884ba-645e-e811-8105-0050568a6817%D7%A1%D7%91%D7%99%D7%9F-%D7%9B%D7%94%D7%9F', 'https://judgescv.court.gov.il/d38b84ba-645e-e811-8105-0050568a6817%D7%A2%D7%99%D7%A8%D7%99%D7%AA-%D7%9B%D7%94%D7%9F', 'https://judgescv.court.gov.il/358c84ba-645e-e811-8105-0050568a6817%D7%A2%D7%9E%D7%99%D7%AA-%D7%9B%D7%94%D7%9F', 'https://judgescv.court.gov.il/e58884ba-645e-e811-8105-0050568a6817%D7%A4%D7%90%D7%A0%D7%99-%D7%92%D7%99%D7%9C%D7%AA-%D7%9B%D7%94%D7%9F', 'https://judgescv.court.gov.il/038a84ba-645e-e811-8105-0050568a6817%D7%A7%D7%A8%D7%9F-%D7%9B%D7%94%D7%9F', 'https://judgescv.court.gov.il/bb8984ba-645e-e811-8105-0050568a6817%D7%98%D7%9C-%D7%9B%D7%94%D7%9F-%D7%90%D7%9C%D7%99%D7%9E%D7%9C%D7%9A', 'https://judgescv.court.gov.il/ff207245-53db-e811-810e-0050568a574c%D7%A6%D7%99%D7%A4%D7%99-%D7%9B%D7%94%D7%9F-%D7%90%D7%91%D7%99%D7%98%D7%9F', 'https://judgescv.court.gov.il/6f8984ba-645e-e811-8105-0050568a6817%D7%93%D7%A0%D7%94-%D7%9B%D7%94%D7%9F-%D7%9C%D7%A7%D7%97', 'https://judgescv.court.gov.il/aada107c-5f99-ec11-812c-0050568a574c%D7%A6%D7%91%D7%99-%D7%9B%D7%95%D7%97%D7%9F', 'https://judgescv.court.gov.il/638984ba-645e-e811-8105-0050568a6817%D7%A2%D7%99%D7%93%D7%99%D7%AA-%D7%9B%D7%9C%D7%A4%D7%94', 'https://judgescv.court.gov.il/9b8884ba-645e-e811-8105-0050568a6817%D7%90%D7%97%D7%A1%D7%90%D7%9F-%D7%9B%D7%A0%D7%A2%D7%90%D7%9F', 'https://judgescv.court.gov.il/0d8c84ba-645e-e811-8105-0050568a6817%D7%92%D7%99%D7%9C%D7%94-%D7%9B%D7%A0%D7%A4%D7%99-%D7%A9%D7%98%D7%99%D7%99%D7%A0%D7%99%D7%A5', 'https://judgescv.court.gov.il/d78784ba-645e-e811-8105-0050568a6817%D7%9E%D7%99%D7%A8%D7%91-%D7%9B%D7%A4%D7%99%D7%A8', 'https://judgescv.court.gov.il/5d8884ba-645e-e811-8105-0050568a6817%D7%A2%D7%93%D7%95-%D7%9B%D7%A4%D7%9B%D7%A4%D7%99', 'https://judgescv.court.gov.il/0b8c84ba-645e-e811-8105-0050568a6817%D7%90%D7%99%D7%AA%D7%99-%D7%9B%D7%A5', 'https://judgescv.court.gov.il/518784ba-645e-e811-8105-0050568a6817%D7%A7%D7%A8%D7%9F-%D7%9B%D7%A5', 'https://judgescv.court.gov.il/dbeac382-ff99-ec11-812c-0050568a574c%D7%A9%D7%A0%D7%99-%D7%9B%D7%A5', 'https://judgescv.court.gov.il/755e2855-7312-e911-8113-0050568a574c%D7%90%D7%99%D7%AA%D7%99-%D7%9B%D7%A8%D7%9E%D7%99', 'https://judgescv.court.gov.il/278b84ba-645e-e811-8105-0050568a6817%D7%A8%D7%A4%D7%90%D7%9C-%D7%9B%D7%A8%D7%9E%D7%9C', 'https://judgescv.court.gov.il/278a84ba-645e-e811-8105-0050568a6817%D7%90%D7%95%D7%A8%D7%9F-%D7%9B%D7%A8%D7%9E%D7%9C%D7%99', 'https://judgescv.court.gov.il/b2e496bd-58d4-ec11-a979-005056ad7925%D7%99%D7%97%D7%99%D7%90%D7%9C-%D7%9E%D7%90%D7%99%D7%A8-%D7%9B%D7%A9%D7%A8', 'https://judgescv.court.gov.il/998984ba-645e-e811-8105-0050568a6817%D7%90%D7%95%D7%A4%D7%99%D7%A8-%D7%9B%D7%AA%D7%91%D7%99-%D7%A8%D7%99%D7%91%D7%9C%D7%99%D7%9F', 'https://judgescv.court.gov.il/9d8984ba-645e-e811-8105-0050568a6817%D7%99%D7%A1%D7%9E%D7%99%D7%9F-%D7%9B%D7%AA%D7%99%D7%9C%D7%99', 'https://judgescv.court.gov.il/fd8584ba-645e-e811-8105-0050568a6817%D7%A9%D7%A8%D7%95%D7%9F-%D7%9C%D7%90%D7%A8%D7%99-%D7%91%D7%91%D7%9C%D7%99', 'https://judgescv.court.gov.il/e972fa21-3ece-ec11-a979-005056ad7925%D7%A8%D7%99%D7%91%D7%99-%D7%9C%D7%91-%D7%90%D7%95%D7%97%D7%99%D7%95%D7%9F', 'https://judgescv.court.gov.il/1f8c84ba-645e-e811-8105-0050568a6817%D7%A8%D7%97%D7%9C-%D7%9C%D7%91%D7%99%D7%90-%D7%91%D7%A8%D7%A7%D7%90%D7%99', 'https://judgescv.court.gov.il/122d1c19-fe4f-eb11-8125-0050568a574c%D7%99%D7%95%D7%A0%D7%AA%D7%9F-%D7%9C%D7%91%D7%A0%D7%99', 'https://judgescv.court.gov.il/b5af60cd-7c0b-eb11-8122-0050568a574c%D7%93%D7%A8-%D7%9C%D7%94%D7%91', 'https://judgescv.court.gov.il/391a197c-fd4f-eb11-8125-0050568a574c%D7%98%D7%9C%D7%99-%D7%9C%D7%94%D7%91', 'https://judgescv.court.gov.il/578684ba-645e-e811-8105-0050568a6817%D7%92%D7%9C%D7%A2%D7%93-%D7%9C%D7%95%D7%91%D7%99%D7%A0%D7%A1%D7%A7%D7%99-%D7%96%D7%99%D7%95', 'https://judgescv.court.gov.il/0fc8a87d-a790-e811-8109-0050568a574c%D7%99%D7%A0%D7%99%D7%91-%D7%9C%D7%95%D7%96%D7%95%D7%9F', 'https://judgescv.court.gov.il/7b8d84ba-645e-e811-8105-0050568a6817%D7%90%D7%91%D7%99-%D7%9C%D7%95%D7%99', 'https://judgescv.court.gov.il/098d84ba-645e-e811-8105-0050568a6817%D7%90%D7%A8%D7%A0%D7%94-%D7%9C%D7%95%D7%99', 'https://judgescv.court.gov.il/c18c84ba-645e-e811-8105-0050568a6817%D7%99%D7%A8%D7%95%D7%9F-%D7%9C%D7%95%D7%99', 'https://judgescv.court.gov.il/2f8684ba-645e-e811-8105-0050568a6817%D7%9E%D7%90%D7%99%D7%94-%D7%9C%D7%95%D7%99', 'https://judgescv.court.gov.il/f78584ba-645e-e811-8105-0050568a6817%D7%9E%D7%A8%D7%93%D7%9B%D7%99-%D7%9C%D7%95%D7%99', 'https://judgescv.court.gov.il/678b84ba-645e-e811-8105-0050568a6817%D7%9E%D7%A8%D7%93%D7%9B%D7%99--%D7%9E%D7%95%D7%98%D7%99--%D7%9C%D7%95%D7%99', 'https://judgescv.court.gov.il/a98984ba-645e-e811-8105-0050568a6817%D7%98%D7%9C-%D7%9C%D7%95%D7%99-%D7%9E%D7%99%D7%9B%D7%90%D7%9C%D7%99', 'https://judgescv.court.gov.il/498684ba-645e-e811-8105-0050568a6817%D7%92%D7%90%D7%95%D7%9C%D7%94-%D7%9C%D7%95%D7%99%D7%9F', 'https://judgescv.court.gov.il/058984ba-645e-e811-8105-0050568a6817%D7%97%D7%A0%D7%94-%D7%9E%D7%A8%D7%99%D7%9D-%D7%9C%D7%95%D7%9E%D7%A4', 'https://judgescv.court.gov.il/5f8984ba-645e-e811-8105-0050568a6817%D7%90%D7%9E%D7%99%D7%A8-%D7%9C%D7%95%D7%A7%D7%A9%D7%99%D7%A0%D7%A1%D7%A7%D7%99-%D7%92%D7%9C', 'https://judgescv.court.gov.il/b78b84ba-645e-e811-8105-0050568a6817%D7%A8%D7%95%D7%AA-%D7%9C%D7%95%D7%A8%D7%9A', 'https://judgescv.court.gov.il/318d84ba-645e-e811-8105-0050568a6817%D7%90%D7%99%D7%A8%D7%99%D7%A1-%D7%9C%D7%95%D7%A9%D7%99-%D7%A2%D7%91%D7%95%D7%93%D7%99', 'https://judgescv.court.gov.il/758984ba-645e-e811-8105-0050568a6817%D7%98%D7%9C-%D7%9C%D7%97%D7%99%D7%90%D7%A0%D7%99-%D7%A9%D7%94%D7%9D', 'https://judgescv.court.gov.il/298a84ba-645e-e811-8105-0050568a6817%D7%99%D7%95%D7%91%D7%9C-%D7%9C%D7%99%D7%91%D7%93%D7%A8%D7%95', 'https://judgescv.court.gov.il/9d8684ba-645e-e811-8105-0050568a6817%D7%A9%D7%95%D7%A9%D7%A0%D7%94-%D7%9C%D7%99%D7%91%D7%95%D7%91%D7%99%D7%A5', 'https://judgescv.court.gov.il/4b8d84ba-645e-e811-8105-0050568a6817%D7%99%D7%94%D7%95%D7%93%D7%94-%D7%9C%D7%99%D7%91%D7%9C%D7%99%D7%99%D7%9F', 'https://judgescv.court.gov.il/1f8a84ba-645e-e811-8105-0050568a6817%D7%A7%D7%90%D7%A8%D7%99%D7%9F-%D7%9C%D7%99%D7%91%D7%A8-%D7%9C%D7%95%D7%99%D7%9F', 'https://judgescv.court.gov.il/098784ba-645e-e811-8105-0050568a6817%D7%A9%D7%9E%D7%A2%D7%95%D7%9F-%D7%9C%D7%99%D7%99%D7%91%D7%95', 'https://judgescv.court.gov.il/d58684ba-645e-e811-8105-0050568a6817%D7%90%D7%99%D7%9C%D7%95%D7%A0%D7%94-%D7%9C%D7%99%D7%A0%D7%93%D7%A0%D7%A9%D7%98%D7%A8%D7%90%D7%95%D7%A1-%D7%90%D7%A8%D7%99%D7%90%D7%9C%D7%99', 'https://judgescv.court.gov.il/0d8684ba-645e-e811-8105-0050568a6817%D7%90%D7%95%D7%A8%D7%99%D7%AA-%D7%A7%D7%9C%D7%A8%D7%94-%D7%9C%D7%99%D7%A4%D7%A9%D7%99%D7%A5', 'https://judgescv.court.gov.il/c58684ba-645e-e811-8105-0050568a6817%D7%99%D7%97%D7%99%D7%90%D7%9C-%D7%9C%D7%99%D7%A4%D7%A9%D7%99%D7%A5', 'https://judgescv.court.gov.il/c78d84ba-645e-e811-8105-0050568a6817%D7%9E%D7%A8%D7%99%D7%9D-%D7%9C%D7%99%D7%A4%D7%A9%D7%99%D7%A5', 'https://judgescv.court.gov.il/8d8684ba-645e-e811-8105-0050568a6817%D7%91%D7%A8%D7%9B%D7%94-%D7%9C%D7%9B%D7%9E%D7%9F', 'https://judgescv.court.gov.il/418684ba-645e-e811-8105-0050568a6817%D7%90%D7%93%D7%95%D7%90%D7%A8%D7%93%D7%95-%D7%9C%D7%9B%D7%A0%D7%A8', 'https://judgescv.court.gov.il/586fb337-ea4f-eb11-8125-0050568a574c%D7%90%D7%9C%D7%A2%D7%93-%D7%9C%D7%A0%D7%92', 'https://judgescv.court.gov.il/84a31090-37e8-ea11-8122-0050568a574c%D7%A2%D7%99%D7%A0%D7%AA-%D7%9C%D7%A1%D7%A8%D7%99', 'https://judgescv.court.gov.il/2eb65168-0550-eb11-8125-0050568a574c%D7%A9%D7%9E%D7%A2%D7%95%D7%9F-%D7%A9%D7%99-%D7%9C%D7%A4%D7%99%D7%93', 'https://judgescv.court.gov.il/858984ba-645e-e811-8105-0050568a6817%D7%90%D7%95%D7%A8-%D7%9C%D7%A8%D7%A0%D7%A8', 'https://judgescv.court.gov.il/2f8784ba-645e-e811-8105-0050568a6817%D7%A6%D7%95%D7%A8%D7%99%D7%90%D7%9C-%D7%9C%D7%A8%D7%A0%D7%A8', 'https://judgescv.court.gov.il/858d84ba-645e-e811-8105-0050568a6817%D7%A2%D7%95%D7%93%D7%93-%D7%9E%D7%90%D7%95%D7%A8', 'https://judgescv.court.gov.il/078b84ba-645e-e811-8105-0050568a6817%D7%90%D7%91%D7%A9%D7%9C%D7%95%D7%9D-%D7%9E%D7%90%D7%95%D7%A9%D7%A8', 'https://judgescv.court.gov.il/c78984ba-645e-e811-8105-0050568a6817%D7%97%D7%9F-%D7%9E%D7%90%D7%99%D7%A8%D7%95%D7%91%D7%99%D7%A5-', 'https://judgescv.court.gov.il/d18984ba-645e-e811-8105-0050568a6817%D7%90%D7%A4%D7%A8%D7%AA-%D7%A8%D7%97%D7%9C%D7%99-%D7%9E%D7%90%D7%99%D7%A8%D7%99', 'https://judgescv.court.gov.il/738d84ba-645e-e811-8105-0050568a6817%D7%97%D7%92%D7%99%D7%AA-%D7%9E%D7%90%D7%A7-%D7%A7%D7%9C%D7%9E%D7%A0%D7%95%D7%91%D7%99%D7%A5', 'https://judgescv.court.gov.il/018884ba-645e-e811-8105-0050568a6817%D7%A0%D7%90%D7%99%D7%9C-%D7%9E%D7%94%D7%A0%D7%90', 'https://judgescv.court.gov.il/6b8984ba-645e-e811-8105-0050568a6817%D7%90%D7%91%D7%99%D7%98%D7%9C-%D7%9E%D7%95%D7%9C%D7%93', 'https://judgescv.court.gov.il/cb8684ba-645e-e811-8105-0050568a6817%D7%90%D7%95%D7%A8%D7%9C%D7%99-%D7%9E%D7%95%D7%A8-%D7%90%D7%9C', 'https://judgescv.court.gov.il/9f8984ba-645e-e811-8105-0050568a6817%D7%A2%D7%95%D7%93%D7%93-%D7%9E%D7%95%D7%A8%D7%A0%D7%95', 'https://judgescv.court.gov.il/6b50fa81-8acb-ec11-a979-005056ad7925%D7%99%D7%A2%D7%9C-%D7%9E%D7%95%D7%A9%D7%A7%D7%95%D7%91%D7%99%D7%A5', 'https://judgescv.court.gov.il/998684ba-645e-e811-8105-0050568a6817%D7%9E%D7%A0%D7%97%D7%9D-%D7%9E%D7%96%D7%A8%D7%97%D7%99', 'https://judgescv.court.gov.il/4f8884ba-645e-e811-8105-0050568a6817%D7%A9%D7%99--%D7%9E%D7%A9%D7%94--%D7%9E%D7%96%D7%A8%D7%97%D7%99', 'https://judgescv.court.gov.il/338784ba-645e-e811-8105-0050568a6817%D7%99%D7%A4%D7%99%D7%AA-%D7%9E%D7%96%D7%A8%D7%97%D7%99-%D7%9C%D7%95%D7%99', 'https://judgescv.court.gov.il/0f8d84ba-645e-e811-8105-0050568a6817%D7%97%D7%92%D7%99%D7%AA-%D7%9E%D7%98%D7%9C%D7%99%D7%9F', 'https://judgescv.court.gov.il/f18884ba-645e-e811-8105-0050568a6817%D7%A2%D7%9E%D7%99%D7%AA-%D7%9E%D7%99%D7%9B%D7%9C%D7%A1', 'https://judgescv.court.gov.il/e98984ba-645e-e811-8105-0050568a6817%D7%A7%D7%A8%D7%9F-%D7%9E%D7%99%D7%9C%D7%A8', 'https://judgescv.court.gov.il/a78c84ba-645e-e811-8105-0050568a6817%D7%A0%D7%99%D7%A6%D7%94-%D7%9E%D7%99%D7%9E%D7%95%D7%9F-%D7%A9%D7%A2%D7%A9%D7%95%D7%A2', 'https://judgescv.court.gov.il/83b3a01c-a2ce-ec11-a979-005056ad7925%D7%92%D7%93-%D7%9E%D7%99%D7%A0%D7%90', 'https://judgescv.court.gov.il/498784ba-645e-e811-8105-0050568a6817%D7%99%D7%A8%D7%95%D7%9F-%D7%9E%D7%99%D7%A0%D7%98%D7%A7%D7%91%D7%99%D7%A5', 'https://judgescv.court.gov.il/038684ba-645e-e811-8105-0050568a6817%D7%93%D7%95%D7%93-%D7%9E%D7%99%D7%A0%D7%A5', 'https://judgescv.court.gov.il/7d8684ba-645e-e811-8105-0050568a6817%D7%98%D7%9C-%D7%9E%D7%99%D7%A8%D7%95%D7%9D', 'https://judgescv.court.gov.il/f78784ba-645e-e811-8105-0050568a6817%D7%99%D7%A4%D7%A2%D7%AA-%D7%9E%D7%99%D7%A9%D7%95%D7%A8%D7%99', 'https://judgescv.court.gov.il/b38884ba-645e-e811-8105-0050568a6817%D7%A0%D7%99%D7%A8-%D7%9E%D7%99%D7%A9%D7%95%D7%A8%D7%99-%D7%9C%D7%91-%D7%98%D7%95%D7%91', 'https://judgescv.court.gov.il/2086e238-a0ce-ec11-a979-005056ad7925%D7%A9%D7%9C%D7%99-%D7%A9%D7%9C%D7%9E%D7%94-%D7%9E%D7%9C%D7%9B%D7%94', 'https://judgescv.court.gov.il/598784ba-645e-e811-8105-0050568a6817%D7%90%D7%A8%D7%96-%D7%9E%D7%9C%D7%9E%D7%93', 'https://judgescv.court.gov.il/018784ba-645e-e811-8105-0050568a6817%D7%A9%D7%9E%D7%95%D7%90%D7%9C-%D7%9E%D7%9C%D7%9E%D7%93', 'https://judgescv.court.gov.il/418884ba-645e-e811-8105-0050568a6817%D7%94%D7%99%D7%9C%D7%94-%D7%9E%D7%9C%D7%A8-%D7%A9%D7%9C%D7%95', 'https://judgescv.court.gov.il/14ca4f87-1a50-eb11-8125-0050568a574c%D7%90%D7%95%D7%A8-%D7%A8%D7%90%D7%95%D7%91%D7%9F-%D7%9E%D7%9E%D7%95%D7%9F', 'https://judgescv.court.gov.il/27392ef7-ea4f-eb11-8125-0050568a574c%D7%90%D7%A8%D7%99%D7%90%D7%9C-%D7%9E%D7%9E%D7%9F', 'https://judgescv.court.gov.il/db8c84ba-645e-e811-8105-0050568a6817%D7%A9%D7%9E%D7%95%D7%90%D7%9C-%D7%9E%D7%A0%D7%93%D7%9C%D7%91%D7%95%D7%9D', 'https://judgescv.court.gov.il/2f8c84ba-645e-e811-8105-0050568a6817%D7%90%D7%99%D7%A8%D7%99%D7%AA-%D7%9E%D7%A0%D7%99-%D7%92%D7%95%D7%A8', 'https://judgescv.court.gov.il/338984ba-645e-e811-8105-0050568a6817%D7%A2%D7%9C%D7%90%D7%90-%D7%9E%D7%A1%D7%90%D7%A8%D7%95%D7%95%D7%94', 'https://judgescv.court.gov.il/978d84ba-645e-e811-8105-0050568a6817%D7%A2%D7%A8%D7%9E%D7%95%D7%A0%D7%99%D7%AA-%D7%9E%D7%A2%D7%95%D7%93%D7%93', 'https://judgescv.court.gov.il/298d84ba-645e-e811-8105-0050568a6817%D7%A1%D7%99%D7%92%D7%9C%D7%99%D7%AA-%D7%9E%D7%A6%D7%90', 'https://judgescv.court.gov.il/138684ba-645e-e811-8105-0050568a6817%D7%A8%D7%91%D7%A7%D7%94-%D7%9E%D7%A7%D7%99%D7%99%D7%A1', 'https://judgescv.court.gov.il/b58784ba-645e-e811-8105-0050568a6817%D7%A7%D7%A8%D7%9F-%D7%9E%D7%A8%D7%92%D7%95%D7%9C%D7%99%D7%9F-%D7%A4%D7%9C%D7%93%D7%9E%D7%9F', 'https://judgescv.court.gov.il/cd8784ba-645e-e811-8105-0050568a6817%D7%9E%D7%95%D7%A8%D7%9F-%D7%9E%D7%A8%D7%92%D7%9C%D7%99%D7%AA', 'https://judgescv.court.gov.il/0a64e4c9-0850-eb11-8125-0050568a574c%D7%A9%D7%A8%D7%99%D7%AA-%D7%9E%D7%A8%D7%95%D7%9D', 'https://judgescv.court.gov.il/c98984ba-645e-e811-8105-0050568a6817%D7%99%D7%A2%D7%9C-%D7%9E%D7%A8%D7%9E%D7%95%D7%A8-%D7%93%D7%95%D7%9E%D7%91', 'https://judgescv.court.gov.il/0788b7d7-5f99-ec11-812c-0050568a574c%D7%97%D7%95%D7%94-%D7%9E%D7%A8%D7%A6%D7%A7%D7%99', 'https://judgescv.court.gov.il/158d84ba-645e-e811-8105-0050568a6817%D7%93%D7%A0%D7%94-%D7%9E%D7%A8%D7%A9%D7%A7-%D7%9E%D7%A8%D7%95%D7%9D', 'https://judgescv.court.gov.il/e42da138-fca8-ec11-812c-0050568a574c%D7%9C%D7%99%D7%90%D7%95%D7%A8-%D7%9E%D7%A9%D7%90%D7%9C%D7%99-%D7%A9%D7%9C%D7%95%D7%9E%D7%90%D7%99', 'https://judgescv.court.gov.il/3d8d84ba-645e-e811-8105-0050568a6817%D7%A6%D7%99%D7%A4%D7%95%D7%A8%D7%94-%D7%9E%D7%A9%D7%94', 'https://judgescv.court.gov.il/8bc3f262-517c-e911-8116-0050568a574c%D7%A2%D7%99%D7%A0%D7%AA-%D7%9E%D7%A9%D7%95%D7%9C%D7%9D', 'https://judgescv.court.gov.il/198c84ba-645e-e811-8105-0050568a6817%D7%90%D7%94%D7%A8%D7%95%D7%9F-%D7%9E%D7%A9%D7%A0%D7%99%D7%95%D7%AA', 'https://judgescv.court.gov.il/131dbabe-3c9d-ec11-812c-0050568a574c%D7%93%D7%92%D7%A0%D7%99%D7%AA-%D7%9E%D7%A9%D7%A2%D7%9C%D7%99-%D7%91%D7%99%D7%98%D7%95%D7%9F', 'https://judgescv.court.gov.il/438784ba-645e-e811-8105-0050568a6817%D7%AA%D7%9E%D7%A8-%D7%A0%D7%90%D7%95%D7%AA-%D7%A4%D7%A8%D7%99', 'https://judgescv.court.gov.il/218d84ba-645e-e811-8105-0050568a6817%D7%90%D7%A8%D7%99%D7%94-%D7%A0%D7%90%D7%9E%D7%9F', 'https://judgescv.court.gov.il/358984ba-645e-e811-8105-0050568a6817%D7%A8%D7%90%D7%9E%D7%99-%D7%A0%D7%90%D7%A1%D7%A8', 'https://judgescv.court.gov.il/378984ba-645e-e811-8105-0050568a6817%D7%A7%D7%99%D7%99%D7%A1-%D7%A0%D7%90%D7%A9%D7%A3', 'https://judgescv.court.gov.il/218884ba-645e-e811-8105-0050568a6817%D7%A9%D7%90%D7%93%D7%9F-%D7%A0%D7%90%D7%A9%D7%A3-%D7%90%D7%91%D7%95-%D7%90%D7%97%D7%9E%D7%93', 'https://judgescv.court.gov.il/498d84ba-645e-e811-8105-0050568a6817%D7%90%D7%9C%D7%93%D7%93-%D7%A0%D7%91%D7%95', 'https://judgescv.court.gov.il/5f8784ba-645e-e811-8105-0050568a6817%D7%99%D7%A8%D7%99%D7%91-%D7%A0%D7%91%D7%95%D7%9F', 'https://judgescv.court.gov.il/5b8984ba-645e-e811-8105-0050568a6817%D7%A8%D7%96-%D7%A0%D7%91%D7%95%D7%9F', 'https://judgescv.court.gov.il/138984ba-645e-e811-8105-0050568a6817%D7%9E%D7%99%D7%9B%D7%90%D7%9C-%D7%A0%D7%91%D7%A0%D7%A6%D7%90%D7%9C', 'https://judgescv.court.gov.il/d58b84ba-645e-e811-8105-0050568a6817%D7%9E%D7%99%D7%9B%D7%9C-%D7%A0%D7%93-%D7%91', 'https://judgescv.court.gov.il/e78684ba-645e-e811-8105-0050568a6817%D7%A8%D7%99%D7%9D-%D7%A0%D7%93%D7%90%D7%A3', 'https://judgescv.court.gov.il/7b8c84ba-645e-e811-8105-0050568a6817%D7%A2%D7%95%D7%A4%D7%A8-%D7%A0%D7%94%D7%A8%D7%99', 'https://judgescv.court.gov.il/98784f11-6099-ec11-812c-0050568a574c%D7%A2%D7%99%D7%A0%D7%91-%D7%A0%D7%94%D7%A8%D7%99-%D7%A1%D7%A0%D7%93%D7%9C%D7%A8', 'https://judgescv.court.gov.il/118d84ba-645e-e811-8105-0050568a6817%D7%A2%D7%A8%D7%9F-%D7%A0%D7%95%D7%94', 'https://judgescv.court.gov.il/f58784ba-645e-e811-8105-0050568a6817%D7%A4%D7%A0%D7%99%D7%A0%D7%94-%D7%A0%D7%95%D7%99%D7%91%D7%99%D7%A8%D7%98', 'https://judgescv.court.gov.il/618c84ba-645e-e811-8105-0050568a6817%D7%92%D7%9C%D7%A2%D7%93-%D7%A0%D7%95%D7%99%D7%98%D7%9C', 'https://judgescv.court.gov.il/b98784ba-645e-e811-8105-0050568a6817%D7%90%D7%9C%D7%99%D7%94-%D7%A0%D7%95%D7%A1', 'https://judgescv.court.gov.il/2d8784ba-645e-e811-8105-0050568a6817%D7%90%D7%A8%D7%96-%D7%A0%D7%95%D7%A8%D7%99%D7%90%D7%9C%D7%99', 'https://judgescv.court.gov.il/838984ba-645e-e811-8105-0050568a6817%D7%90%D7%9C%D7%A2%D7%96%D7%A8-%D7%A0%D7%97%D7%9C%D7%95%D7%9F', 'https://judgescv.court.gov.il/198b84ba-645e-e811-8105-0050568a6817%D7%90%D7%A1%D7%AA%D7%A8-%D7%A0%D7%97%D7%9C%D7%99%D7%90%D7%9C%D7%99-%D7%97%D7%99%D7%90%D7%98', 'https://judgescv.court.gov.il/dd8784ba-645e-e811-8105-0050568a6817%D7%90%D7%91%D7%99%D7%91%D7%99%D7%AA-%D7%A0%D7%97%D7%9E%D7%99%D7%90%D7%A1', 'https://judgescv.court.gov.il/b58b84ba-645e-e811-8105-0050568a6817%D7%97%D7%99%D7%99%D7%9D-%D7%A0%D7%97%D7%9E%D7%99%D7%90%D7%A1', 'https://judgescv.court.gov.il/698884ba-645e-e811-8105-0050568a6817%D7%A0%D7%99%D7%A8-%D7%A0%D7%97%D7%A9%D7%95%D7%9F', 'https://judgescv.court.gov.il/473b5bfc-42ce-ec11-a979-005056ad7925%D7%A0%D7%A2%D7%9E%D7%94-%D7%A0%D7%99%D7%A8', 'https://judgescv.court.gov.il/938784ba-645e-e811-8105-0050568a6817%D7%A2%D7%95%D7%96-%D7%A2%D7%96%D7%A8%D7%90-%D7%A0%D7%99%D7%A8', 'https://judgescv.court.gov.il/40fd02b2-40ce-ec11-a979-005056ad7925%D7%A2%D7%93%D7%99-%D7%A0%D7%99%D7%A8-%D7%91%D7%A0%D7%99%D7%9E%D7%99%D7%A0%D7%99', 'https://judgescv.court.gov.il/4a24e8fe-c59f-e811-810b-0050568a574c%D7%9E%D7%99%D7%A8%D7%91-%D7%A0%D7%99%D7%A8-%D7%A9%D7%9C%D7%95', 'https://judgescv.court.gov.il/718884ba-645e-e811-8105-0050568a6817%D7%99%D7%92%D7%90%D7%9C-%D7%A0%D7%9E%D7%A8%D7%95%D7%93%D7%99', 'https://judgescv.court.gov.il/e18984ba-645e-e811-8105-0050568a6817%D7%93%D7%95%D7%A0%D7%99%D7%90-%D7%A0%D7%A1%D7%90%D7%A8', 'https://judgescv.court.gov.il/a38684ba-645e-e811-8105-0050568a6817%D7%AA%D7%9E%D7%A8-%D7%A0%D7%A1%D7%99%D7%9D-%D7%A9%D7%99', 'https://judgescv.court.gov.il/3d5c2cbb-c59f-e811-810b-0050568a574c%D7%90%D7%99%D7%9E%D7%90%D7%9F-%D7%A0%D7%A1%D7%A8%D7%90%D7%9C%D7%93%D7%99%D7%9F', 'https://judgescv.court.gov.il/ad8784ba-645e-e811-8105-0050568a6817%D7%9E%D7%99%D7%9B%D7%9C-%D7%A0%D7%A2%D7%99%D7%9D-%D7%93%D7%99%D7%91%D7%A0%D7%A8', 'https://judgescv.court.gov.il/d38984ba-645e-e811-8105-0050568a6817%D7%A1%D7%9E%D7%90%D7%97-%D7%A1%D7%90%D7%91%D7%A8-%D7%9E%D7%A1%D7%90%D7%A8%D7%95%D7%95%D7%94', 'https://judgescv.court.gov.il/998784ba-645e-e811-8105-0050568a6817%D7%97%D7%A0%D7%90-%D7%A1%D7%91%D7%90%D7%92', 'https://judgescv.court.gov.il/438684ba-645e-e811-8105-0050568a6817%D7%90%D7%93%D7%A0%D7%A7%D7%95-%D7%A1%D7%91%D7%97%D7%AA--%D7%97%D7%99%D7%99%D7%9E%D7%95%D7%91%D7%99%D7%A5', 'https://judgescv.court.gov.il/108187ce-1053-eb11-8125-0050568a574c%D7%93%D7%95%D7%A8%D7%99%D7%AA-%D7%A1%D7%91%D7%9F-%D7%A0%D7%95%D7%99', 'https://judgescv.court.gov.il/b58c84ba-645e-e811-8105-0050568a6817%D7%A8%D7%A7%D7%A4%D7%AA-%D7%A1%D7%92%D7%9C-%D7%9E%D7%95%D7%94%D7%A8', 'https://judgescv.court.gov.il/cfb4c5fe-f799-ec11-812c-0050568a574c%D7%A6%D7%99%D7%95%D7%9F-%D7%A1%D7%94%D7%A8%D7%90%D7%99', 'https://judgescv.court.gov.il/418d84ba-645e-e811-8105-0050568a6817%D7%9E%D7%A9%D7%94-%D7%A1%D7%95%D7%91%D7%9C', 'https://judgescv.court.gov.il/b78c84ba-645e-e811-8105-0050568a6817%D7%A0%D7%A2%D7%9D-%D7%A1%D7%95%D7%9C%D7%91%D7%A8%D7%92', 'https://judgescv.court.gov.il/eb8984ba-645e-e811-8105-0050568a6817%D7%99%D7%A2%D7%A7%D7%91-%D7%A1%D7%95%D7%9C%D7%95%D7%9E%D7%95%D7%9F', 'https://judgescv.court.gov.il/e38784ba-645e-e811-8105-0050568a6817%D7%A8%D7%95%D7%9F-%D7%A1%D7%95%D7%9C%D7%A7%D7%99%D7%9F', 'https://judgescv.court.gov.il/278984ba-645e-e811-8105-0050568a6817%D7%A2%D7%93%D7%99-%D7%A1%D7%95%D7%9E%D7%9A', 'https://judgescv.court.gov.il/cb8c84ba-645e-e811-8105-0050568a6817%D7%90%D7%99%D7%9C%D7%9F-%D7%A1%D7%95%D7%A4%D7%A8', 'https://judgescv.court.gov.il/518c84ba-645e-e811-8105-0050568a6817%D7%A8%D7%95%D7%9F-%D7%A1%D7%95%D7%A7%D7%95%D7%9C', 'https://judgescv.court.gov.il/ef8784ba-645e-e811-8105-0050568a6817%D7%9C%D7%99%D7%A2%D7%93-%D7%A1%D7%97%D7%99%D7%99%D7%A7-%D7%A9%D7%92%D7%91', 'https://judgescv.court.gov.il/63c1a413-1dd5-e811-810c-0050568a574c%D7%90%D7%95%D7%A8%D7%9F-%D7%A1%D7%99%D7%9C%D7%91%D7%A8%D7%9E%D7%9F', 'https://judgescv.court.gov.il/c18784ba-645e-e811-8105-0050568a6817%D7%AA%D7%95%D7%9E%D7%A8-%D7%A1%D7%99%D7%9C%D7%95%D7%A8%D7%94', 'https://judgescv.court.gov.il/678884ba-645e-e811-8105-0050568a6817%D7%A0%D7%99%D7%A6%D7%9F-%D7%A1%D7%99%D7%9C%D7%9E%D7%9F', 'https://judgescv.court.gov.il/898784ba-645e-e811-8105-0050568a6817%D7%94%D7%9C%D7%99%D7%AA-%D7%A1%D7%99%D7%9C%D7%A9', 'https://judgescv.court.gov.il/f18684ba-645e-e811-8105-0050568a6817%D7%90%D7%99%D7%A0%D7%90%D7%A1-%D7%A1%D7%9C%D7%90%D7%9E%D7%94', 'https://judgescv.court.gov.il/078884ba-645e-e811-8105-0050568a6817%D7%90%D7%9E%D7%99%D7%A8-%D7%A1%D7%9C%D7%90%D7%9E%D7%94', 'https://judgescv.court.gov.il/e55d8d01-b1ce-ec11-a979-005056ad7925%D7%90%D7%A8%D7%99%D7%90%D7%9C-%D7%A1%D7%9C%D7%98%D7%95', 'https://judgescv.court.gov.il/8f8884ba-645e-e811-8105-0050568a6817%D7%90%D7%99%D7%9C%D7%9F-%D7%A1%D7%9C%D7%A2', 'https://judgescv.court.gov.il/b58d84ba-645e-e811-8105-0050568a6817%D7%93%D7%99%D7%90%D7%A0%D7%94-%D7%A1%D7%9C%D7%A2', 'https://judgescv.court.gov.il/c439933c-7112-e911-8113-0050568a574c%D7%A8%D7%95%D7%A0%D7%99-%D7%A1%D7%9C%D7%A2', 'https://judgescv.court.gov.il/6b8b84ba-645e-e811-8105-0050568a6817%D7%A0%D7%A6%D7%A8-%D7%A1%D7%9E%D7%90%D7%A8%D7%94', 'https://judgescv.court.gov.il/878784ba-645e-e811-8105-0050568a6817%D7%90%D7%95%D7%A8%D7%A0%D7%94-%D7%A1%D7%A0%D7%93%D7%9C%D7%A8-%D7%90%D7%99%D7%AA%D7%9F', 'https://judgescv.court.gov.il/65dfffc6-240c-e911-8112-0050568a574c%D7%A9%D7%A8%D7%99-%D7%A1%D7%A0%D7%93%D7%A8-%D7%9E%D7%A7%D7%95%D7%91%D7%A8', 'https://judgescv.court.gov.il/6d8984ba-645e-e811-8105-0050568a6817%D7%AA%D7%9E%D7%A8-%D7%A1%D7%A0%D7%95%D7%A0%D7%99%D7%AA-%D7%A4%D7%95%D7%A8%D7%A8', 'https://judgescv.court.gov.il/6d8784ba-645e-e811-8105-0050568a6817%D7%93%D7%9F-%D7%A1%D7%A2%D7%93%D7%95%D7%9F', 'https://judgescv.court.gov.il/5d41bbe3-ff4f-eb11-8125-0050568a574c%D7%9E%D7%99%D7%9B%D7%9C-%D7%A1%D7%A2%D7%A8', 'https://judgescv.court.gov.il/9b8984ba-645e-e811-8105-0050568a6817%D7%90%D7%93%D7%94%D7%9D-%D7%A1%D7%A4%D7%93%D7%99', 'https://judgescv.court.gov.il/558784ba-645e-e811-8105-0050568a6817%D7%93%D7%95%D7%A8%D7%99-%D7%A1%D7%A4%D7%99%D7%91%D7%A7', 'https://judgescv.court.gov.il/378784ba-645e-e811-8105-0050568a6817%D7%9E%D7%9C%D7%9B%D7%94-%D7%A1%D7%A4%D7%99%D7%A0%D7%96%D7%99-%D7%A9%D7%A0%D7%99%D7%90%D7%95%D7%A8', 'https://judgescv.court.gov.il/198784ba-645e-e811-8105-0050568a6817%D7%92%D7%99%D7%9C%D7%94-%D7%A1%D7%A4%D7%A8%D7%90-%D7%91%D7%A8%D7%A0%D7%A2', 'https://judgescv.court.gov.il/8f8984ba-645e-e811-8105-0050568a6817%D7%92-%D7%95%D7%99%D7%94-%D7%A1%D7%A7%D7%A4%D7%94-%D7%A9%D7%A4%D7%99%D7%A8%D7%90', 'https://judgescv.court.gov.il/4d8d84ba-645e-e811-8105-0050568a6817%D7%99%D7%A8%D7%93%D7%A0%D7%94-%D7%A1%D7%A8%D7%95%D7%A1%D7%99', 'https://judgescv.court.gov.il/2b8a84ba-645e-e811-8105-0050568a6817%D7%90%D7%91%D7%A8%D7%94%D7%9D-%D7%A1%D7%AA%D7%99%D7%95', 'https://judgescv.court.gov.il/50b56967-75cb-ec11-a979-005056ad7925%D7%A1%D7%95%D7%9C%D7%99%D7%9E%D7%90%D7%9F-%D7%A2%D7%90%D7%9E%D7%A8', 'https://judgescv.court.gov.il/458884ba-645e-e811-8105-0050568a6817%D7%A2%D7%91%D7%90%D7%A1-%D7%A2%D7%90%D7%A1%D7%99', 'https://judgescv.court.gov.il/6c48cb9a-91a0-e811-810b-0050568a574c%D7%A9%D7%A8%D7%99%D7%AA-%D7%A2%D7%91%D7%93%D7%99%D7%90%D7%9F', 'https://judgescv.court.gov.il/978884ba-645e-e811-8105-0050568a6817%D7%A0%D7%A1%D7%A8%D7%99%D7%9F-%D7%A2%D7%93%D7%95%D7%99-%D7%97-%D7%93%D7%A8', 'https://judgescv.court.gov.il/078d84ba-645e-e811-8105-0050568a6817%D7%99%D7%95%D7%90%D7%9C-%D7%A2%D7%93%D7%9F', 'https://judgescv.court.gov.il/c58c84ba-645e-e811-8105-0050568a6817%D7%94%D7%93%D7%A1-%D7%A2%D7%95%D7%91%D7%93%D7%99%D7%94', 'https://judgescv.court.gov.il/238984ba-645e-e811-8105-0050568a6817%D7%A6%D7%97%D7%99-%D7%A2%D7%95%D7%96%D7%99%D7%90%D7%9C', 'https://judgescv.court.gov.il/ef8684ba-645e-e811-8105-0050568a6817%D7%A8%D7%90%D7%99%D7%93-%D7%A2%D7%95%D7%9E%D7%A8%D7%99', 'https://judgescv.court.gov.il/cb8884ba-645e-e811-8105-0050568a6817%D7%93%D7%A0%D7%94-%D7%A2%D7%95%D7%A4%D7%A8', 'https://judgescv.court.gov.il/758c84ba-645e-e811-8105-0050568a6817%D7%93%D7%91%D7%95%D7%A8%D7%94-%D7%A2%D7%98%D7%A8', 'https://judgescv.court.gov.il/d98884ba-645e-e811-8105-0050568a6817%D7%99%D7%95%D7%90%D7%91-%D7%A2%D7%98%D7%A8', 'https://judgescv.court.gov.il/658d84ba-645e-e811-8105-0050568a6817%D7%A2%D7%90%D7%98%D7%A3-%D7%A2%D7%99%D7%9C%D7%91%D7%95%D7%A0%D7%99', 'https://judgescv.court.gov.il/1b8884ba-645e-e811-8105-0050568a6817%D7%9E%D7%95%D7%97%D7%9E%D7%93-%D7%A2%D7%9C%D7%99', 'https://judgescv.court.gov.il/138c84ba-645e-e811-8105-0050568a6817%D7%99%D7%A6%D7%97%D7%A7-%D7%A2%D7%9E%D7%99%D7%AA', 'https://judgescv.court.gov.il/418784ba-645e-e811-8105-0050568a6817%D7%9E%D7%99%D7%9B%D7%9C-%D7%A2%D7%9E%D7%99%D7%AA-%D7%90%D7%A0%D7%99%D7%A1%D7%9E%D7%9F', 'https://judgescv.court.gov.il/57290ea4-fe99-ec11-812c-0050568a574c%D7%9E%D7%99%D7%A8%D7%91-%D7%A2%D7%9E%D7%A8-%D7%9B%D7%94%D7%9F', 'https://judgescv.court.gov.il/f3d53b45-fd4f-eb11-8125-0050568a574c%D7%98%D7%9C-%D7%A2%D7%A0%D7%A8', 'https://judgescv.court.gov.il/80a63ab2-fe4f-eb11-8125-0050568a574c%D7%99%D7%A2%D7%9C-%D7%A2%D7%A0%D7%AA%D7%91%D7%99-%D7%A9%D7%A8%D7%95%D7%9F', 'https://judgescv.court.gov.il/2beff4d1-ec4f-eb11-8125-0050568a574c%D7%92-%D7%99%D7%93%D7%90-%D7%A2%D7%A1%D7%A4%D7%95%D7%A8-%D7%A9%D7%90%D7%94%D7%99%D7%9F', 'https://judgescv.court.gov.il/fb8984ba-645e-e811-8105-0050568a6817%D7%AA%D7%9E%D7%A8-%D7%A2%D7%A6%D7%99%D7%95%D7%9F-%D7%A4%D7%9C%D7%A5', 'https://judgescv.court.gov.il/e78884ba-645e-e811-8105-0050568a6817%D7%A9%D7%A8%D7%95%D7%9F-%D7%A2%D7%A6%D7%9E%D7%95%D7%9F-%D7%94%D7%9C%D7%95%D7%99', 'https://judgescv.court.gov.il/fb8c84ba-645e-e811-8105-0050568a6817%D7%A8%D7%97%D7%9C-%D7%91%D7%AA-%D7%A2%D7%A8%D7%A7%D7%95%D7%91%D7%99', 'https://judgescv.court.gov.il/af8884ba-645e-e811-8105-0050568a6817%D7%9B%D7%A8%D7%9E%D7%99%D7%AA-%D7%A4%D7%90%D7%A8-%D7%92%D7%99%D7%A0%D7%AA', 'https://judgescv.court.gov.il/418b84ba-645e-e811-8105-0050568a6817%D7%A2%D7%95%D7%96%D7%99-%D7%A4%D7%95%D7%92%D7%9C%D7%9E%D7%9F', 'https://judgescv.court.gov.il/818884ba-645e-e811-8105-0050568a6817%D7%A8%D7%95%D7%A0%D7%99%D7%AA-%D7%A4%D7%95%D7%96%D7%A0%D7%A0%D7%A1%D7%A7%D7%99-%D7%9B%D7%A5', 'https://judgescv.court.gov.il/4b8684ba-645e-e811-8105-0050568a6817%D7%9E%D7%99%D7%A8%D7%99%D7%AA-%D7%A4%D7%95%D7%9C%D7%95%D7%A1', 'https://judgescv.court.gov.il/358684ba-645e-e811-8105-0050568a6817%D7%93%D7%91-%D7%A4%D7%95%D7%9C%D7%95%D7%A7', 'https://judgescv.court.gov.il/ff8b84ba-645e-e811-8105-0050568a6817%D7%A8%D7%95%D7%A2%D7%99-%D7%A4%D7%95%D7%9C%D7%99%D7%90%D7%A7', 'https://judgescv.court.gov.il/ad8684ba-645e-e811-8105-0050568a6817%D7%90%D7%91%D7%99-%D7%A4%D7%95%D7%A8%D7%92', 'https://judgescv.court.gov.il/ab8884ba-645e-e811-8105-0050568a6817%D7%9E%D7%99%D7%A8%D7%99%D7%AA-%D7%A4%D7%95%D7%A8%D7%A8', 'https://judgescv.court.gov.il/798784ba-645e-e811-8105-0050568a6817%D7%A6%D7%91%D7%99-%D7%A4%D7%95%D7%A8%D7%A8', 'https://judgescv.court.gov.il/1f8784ba-645e-e811-8105-0050568a6817%D7%90%D7%A8%D7%96-%D7%A4%D7%95%D7%A8%D7%AA', 'https://judgescv.court.gov.il/1d8c84ba-645e-e811-8105-0050568a6817%D7%93%D7%95%D7%A8%D7%95%D7%9F-%D7%A4%D7%95%D7%A8%D7%AA', 'https://judgescv.court.gov.il/458d84ba-645e-e811-8105-0050568a6817%D7%A8%D7%95%D7%A0%D7%9F-%D7%A4%D7%99%D7%99%D7%9F', 'https://judgescv.court.gov.il/218784ba-645e-e811-8105-0050568a6817%D7%A9%D7%95%D7%A9%D7%A0%D7%94-%D7%A4%D7%99%D7%99%D7%A0%D7%A1%D7%95%D7%93-%D7%9B%D7%94%D7%9F', 'https://judgescv.court.gov.il/598884ba-645e-e811-8105-0050568a6817%D7%93%D7%95%D7%A8%D7%99%D7%AA-%D7%A4%D7%99%D7%99%D7%A0%D7%A9%D7%98%D7%99%D7%99%D7%9F', 'https://judgescv.court.gov.il/278c84ba-645e-e811-8105-0050568a6817%D7%A8%D7%95%D7%A0%D7%99%D7%AA-%D7%A4%D7%99%D7%A0%D7%A6-%D7%95%D7%A7-%D7%90%D7%9C%D7%98', 'https://judgescv.court.gov.il/dd8884ba-645e-e811-8105-0050568a6817%D7%90%D7%A4%D7%A8%D7%AA-%D7%A4%D7%99%D7%A0%D7%A7', 'https://judgescv.court.gov.il/5b8e84ba-645e-e811-8105-0050568a6817%D7%9E%D7%A8%D7%99%D7%94-%D7%A4%D7%99%D7%A7%D7%95%D7%A1-%D7%91%D7%95%D7%92%D7%93%D7%90%D7%A0%D7%95%D7%91', 'https://judgescv.court.gov.il/b78784ba-645e-e811-8105-0050568a6817%D7%9E%D7%A8%D7%93%D7%9B%D7%99-%D7%9E%D7%95%D7%98%D7%99-%D7%A4%D7%99%D7%A8%D7%A8', 'https://judgescv.court.gov.il/158684ba-645e-e811-8105-0050568a6817%D7%93%D7%A0%D7%99%D7%90%D7%9C-%D7%A6%D7%91%D7%99-%D7%A4%D7%99%D7%A9', 'https://judgescv.court.gov.il/a38784ba-645e-e811-8105-0050568a6817%D7%98%D7%9C-%D7%A4%D7%99%D7%A9%D7%9E%D7%9F-%D7%9C%D7%95%D7%99', 'https://judgescv.court.gov.il/d78c84ba-645e-e811-8105-0050568a6817%D7%A0%D7%97%D7%A9%D7%95%D7%9F-%D7%A4%D7%99%D7%A9%D7%A8', 'https://judgescv.court.gov.il/458c84ba-645e-e811-8105-0050568a6817%D7%95%D7%A8%D7%93%D7%94-%D7%A4%D7%9C%D7%90%D7%95%D7%98', 'https://judgescv.court.gov.il/618d84ba-645e-e811-8105-0050568a6817%D7%96%D7%90%D7%99%D7%93-%D7%A4%D7%9C%D7%90%D7%97', 'https://judgescv.court.gov.il/d38884ba-645e-e811-8105-0050568a6817%D7%A8%D7%95%D7%A0%D7%9F-%D7%A4%D7%9C%D7%92', 'https://judgescv.court.gov.il/5d8984ba-645e-e811-8105-0050568a6817%D7%A8%D7%95%D7%99%D7%AA-%D7%A4%D7%9C%D7%92-%D7%91%D7%A8-%D7%93%D7%99%D7%99%D7%9F', 'https://judgescv.court.gov.il/a38c84ba-645e-e811-8105-0050568a6817%D7%A1%D7%99%D7%9E%D7%99-%D7%A4%D7%9C%D7%92-%D7%A7%D7%99%D7%9E%D7%9C%D7%95%D7%91', 'https://judgescv.court.gov.il/638c84ba-645e-e811-8105-0050568a6817%D7%94%D7%93%D7%A1-%D7%A4%D7%9C%D7%93', 'https://judgescv.court.gov.il/3d8884ba-645e-e811-8105-0050568a6817%D7%9B%D7%A8%D7%9E%D7%99%D7%AA-%D7%A4%D7%9C%D7%93', 'https://judgescv.court.gov.il/abfe3538-4fdb-e811-810e-0050568a574c%D7%A2%D7%99%D7%93%D7%99%D7%AA-%D7%A4%D7%9C%D7%93', 'https://judgescv.court.gov.il/b38684ba-645e-e811-8105-0050568a6817%D7%97%D7%A0%D7%94-%D7%A4%D7%9C%D7%99%D7%A0%D7%A8', 'https://judgescv.court.gov.il/5f8884ba-645e-e811-8105-0050568a6817%D7%A0%D7%9E%D7%A8%D7%95%D7%93-%D7%A4%D7%9C%D7%A7%D7%A1', 'https://judgescv.court.gov.il/be08ea4b-fe99-ec11-812c-0050568a574c%D7%99%D7%A8%D7%95%D7%9F-%D7%A4%D7%A0%D7%A9', 'https://judgescv.court.gov.il/738984ba-645e-e811-8105-0050568a6817%D7%97%D7%99%D7%99%D7%9D-%D7%A4%D7%A1', 'https://judgescv.court.gov.il/e38684ba-645e-e811-8105-0050568a6817%D7%98%D7%9C-%D7%A4%D7%A4%D7%A8%D7%A0%D7%99', 'https://judgescv.court.gov.il/93c5a29d-7412-e911-8113-0050568a574c%D7%9E%D7%99%D7%9B%D7%9C-%D7%A4%D7%A8%D7%91%D7%A8', 'https://judgescv.court.gov.il/9b8c84ba-645e-e811-8105-0050568a6817%D7%99%D7%A2%D7%9C-%D7%A4%D7%A8%D7%93%D7%9C%D7%A1%D7%A7%D7%99', 'https://judgescv.court.gov.il/778984ba-645e-e811-8105-0050568a6817%D7%9C%D7%99%D7%96%D7%99-%D7%A4%D7%A8%D7%95%D7%99%D7%A0%D7%93', 'https://judgescv.court.gov.il/498b84ba-645e-e811-8105-0050568a6817%D7%98%D7%95%D7%91%D7%94-%D7%A4%D7%A8%D7%99', 'https://judgescv.court.gov.il/ff8784ba-645e-e811-8105-0050568a6817%D7%98%D7%9C-%D7%A4%D7%A8%D7%99', 'https://judgescv.court.gov.il/0805c459-9ece-ec11-a979-005056ad7925%D7%9E%D7%99%D7%98%D7%9C-%D7%A4%D7%A8%D7%99', 'https://judgescv.court.gov.il/1b8984ba-645e-e811-8105-0050568a6817%D7%A8%D7%95%D7%A2%D7%99-%D7%A4%D7%A8%D7%99', 'https://judgescv.court.gov.il/898d84ba-645e-e811-8105-0050568a6817%D7%99%D7%95%D7%90%D7%91-%D7%A4%D7%A8%D7%99%D7%93%D7%9E%D7%9F', 'https://judgescv.court.gov.il/e58b84ba-645e-e811-8105-0050568a6817%D7%A8%D7%91%D7%A7%D7%94-%D7%A4%D7%A8%D7%99%D7%93%D7%9E%D7%9F-%D7%A4%D7%9C%D7%93%D7%9E%D7%9F', 'https://judgescv.court.gov.il/e58784ba-645e-e811-8105-0050568a6817%D7%90%D7%91%D7%99%D7%92%D7%99%D7%9C-%D7%A4%D7%A8%D7%99%D7%99', 'https://judgescv.court.gov.il/0d8984ba-645e-e811-8105-0050568a6817%D7%A2%D7%9E%D7%99%D7%AA-%D7%A4%D7%A8%D7%99%D7%99%D7%96', 'https://judgescv.court.gov.il/d98784ba-645e-e811-8105-0050568a6817%D7%A6%D7%91%D7%99-%D7%A4%D7%A8%D7%A0%D7%A7%D7%9C', 'https://judgescv.court.gov.il/e18884ba-645e-e811-8105-0050568a6817%D7%98%D7%9C%D7%9E%D7%95%D7%A8-%D7%A4%D7%A8%D7%A1', 'https://judgescv.court.gov.il/c38784ba-645e-e811-8105-0050568a6817%D7%A0%D7%A2%D7%9E%D7%94-%D7%A4%D7%A8%D7%A1', 'https://judgescv.court.gov.il/bd8884ba-645e-e811-8105-0050568a6817%D7%A8%D7%95%D7%A0%D7%94-%D7%A4%D7%A8%D7%A1%D7%95%D7%9F', 'https://judgescv.court.gov.il/2b8984ba-645e-e811-8105-0050568a6817%D7%90%D7%9C%D7%A2%D7%93-%D7%A4%D7%A8%D7%A1%D7%A7%D7%99', 'https://judgescv.court.gov.il/ef8584ba-645e-e811-8105-0050568a6817%D7%99%D7%A2%D7%A7%D7%91-%D7%A4%D7%A8%D7%A1%D7%A7%D7%99', 'https://judgescv.court.gov.il/c18d84ba-645e-e811-8105-0050568a6817%D7%90%D7%94%D7%A8%D7%9F-%D7%A4%D7%A8%D7%A7%D7%A9', 'https://judgescv.court.gov.il/190e988d-9e90-e811-8109-0050568a574c%D7%99%D7%A9%D7%A8%D7%90%D7%9C-%D7%A4%D7%AA', 'https://judgescv.court.gov.il/858784ba-645e-e811-8105-0050568a6817%D7%A8%D7%95%D7%99%D7%AA-%D7%A6%D7%93%D7%99%D7%A7', 'https://judgescv.court.gov.il/ccc5b9f4-fe4f-eb11-8125-0050568a574c%D7%99%D7%A7%D7%98%D7%A8%D7%99%D7%A0%D7%94-%D7%A6%D7%95%D7%95%D7%98%D7%A7%D7%95%D7%91-%D7%93%D7%95%D7%A8%D7%A4%D7%9E%D7%9F', 'https://judgescv.court.gov.il/b78684ba-645e-e811-8105-0050568a6817%D7%90%D7%99%D7%9C%D7%9F-%D7%A6%D7%95%D7%A8', 'https://judgescv.court.gov.il/1d8984ba-645e-e811-8105-0050568a6817%D7%9E%D7%A2%D7%99%D7%9F-%D7%A6%D7%95%D7%A8', 'https://judgescv.court.gov.il/f78884ba-645e-e811-8105-0050568a6817%D7%A9%D7%A8%D7%95%D7%A0%D7%94-%D7%A6%D7%95%D7%A8-%D7%92%D7%99%D7%A0%D7%95%D7%A8', 'https://judgescv.court.gov.il/8d2c64f5-9dce-ec11-a979-005056ad7925%D7%90%D7%97%D7%99%D7%A0%D7%A2%D7%9D-%D7%A6%D7%95%D7%A8%D7%99%D7%90%D7%9C', 'https://judgescv.court.gov.il/a98c84ba-645e-e811-8105-0050568a6817%D7%92%D7%9C%D7%99%D7%AA-%D7%A6%D7%99%D7%92%D7%9C%D7%A8', 'https://judgescv.court.gov.il/258984ba-645e-e811-8105-0050568a6817%D7%90%D7%A4%D7%A8%D7%99%D7%9D-%D7%A6-%D7%99%D7%96%D7%99%D7%A7', 'https://judgescv.court.gov.il/c18884ba-645e-e811-8105-0050568a6817%D7%90%D7%A8%D7%99%D7%90%D7%9C-%D7%A6%D7%99%D7%9E%D7%A8%D7%9E%D7%9F', 'https://judgescv.court.gov.il/6b8d84ba-645e-e811-8105-0050568a6817%D7%99%D7%94%D7%95%D7%A9%D7%A2--%D7%A9%D7%95%D7%A7%D7%99--%D7%A6%D7%99%D7%9E%D7%A8%D7%9E%D7%9F', 'https://judgescv.court.gov.il/ebda41e7-65e5-ec11-a979-005056ad7925%D7%A2%D7%99%D7%93%D7%99%D7%AA-%D7%A6%D7%99%D7%9E%D7%A8%D7%9E%D7%9F', 'https://judgescv.court.gov.il/bb8684ba-645e-e811-8105-0050568a6817%D7%90%D7%9E%D7%99%D7%A8-%D7%A6-%D7%9B%D7%A0%D7%95%D7%91%D7%99%D7%A5', 'https://judgescv.court.gov.il/9f8884ba-645e-e811-8105-0050568a6817%D7%A9%D7%A8%D7%95%D7%9F-%D7%A6%D7%A0%D7%A6%D7%99%D7%A4%D7%A8-%D7%94%D7%9C%D7%A4%D7%9E%D7%9F', 'https://judgescv.court.gov.il/c98c84ba-645e-e811-8105-0050568a6817%D7%92%D7%93%D7%99-%D7%A6%D7%A4%D7%A8%D7%99%D7%A8', 'https://judgescv.court.gov.il/f78d84ba-645e-e811-8105-0050568a6817%D7%93%D7%A0%D7%99-%D7%A6%D7%A8%D7%A4%D7%AA%D7%99', 'https://judgescv.court.gov.il/74698208-bcce-ec11-a979-005056ad7925%D7%A9%D7%99-%D7%A6%D7%A8%D7%A4%D7%AA%D7%99', 'https://judgescv.court.gov.il/838d84ba-645e-e811-8105-0050568a6817%D7%9E%D7%95%D7%A8%D7%99%D7%94-%D7%A6-%D7%A8%D7%A7%D7%94', 'https://judgescv.court.gov.il/598d84ba-645e-e811-8105-0050568a6817%D7%90%D7%91%D7%99%D7%A9%D7%99-%D7%A7%D7%90%D7%95%D7%A4%D7%9E%D7%9F', 'https://judgescv.court.gov.il/c18984ba-645e-e811-8105-0050568a6817%D7%9E%D7%95%D7%A1%D7%98%D7%A4%D7%90-%D7%A7%D7%90%D7%A1%D7%9D', 'https://judgescv.court.gov.il/ac6f7a67-eb4f-eb11-8125-0050568a574c%D7%91%D7%9F-%D7%A6%D7%99%D7%95%D7%9F-%D7%A7%D7%91%D7%9C%D7%A8', 'https://judgescv.court.gov.il/318984ba-645e-e811-8105-0050568a6817%D7%A2%D7%9E%D7%99-%D7%A7%D7%95%D7%91%D7%95', 'https://judgescv.court.gov.il/f78b84ba-645e-e811-8105-0050568a6817%D7%93%D7%95%D7%A8%D7%99%D7%AA-%D7%A7%D7%95%D7%91%D7%A8%D7%A1%D7%A7%D7%99', 'https://judgescv.court.gov.il/2d8684ba-645e-e811-8105-0050568a6817%D7%90%D7%9C%D7%9B%D7%A1%D7%A0%D7%93%D7%A8-%D7%A7%D7%95%D7%92%D7%9F', 'https://judgescv.court.gov.il/e98784ba-645e-e811-8105-0050568a6817%D7%A8%D7%95%D7%AA%D7%9D-%D7%A7%D7%95%D7%93%D7%9C%D7%A8-%D7%A2%D7%99%D7%90%D7%A9', 'https://judgescv.court.gov.il/698b84ba-645e-e811-8105-0050568a6817%D7%A8%D7%99%D7%90%D7%93-%D7%A7%D7%95%D7%93%D7%A1%D7%99', 'https://judgescv.court.gov.il/018d84ba-645e-e811-8105-0050568a6817%D7%A2%D7%A8%D7%9F-%D7%A7%D7%95%D7%98%D7%95%D7%9F', 'https://judgescv.court.gov.il/7b560066-a1ce-ec11-a979-005056ad7925%D7%A9%D7%9C%D7%99-%D7%A7%D7%95%D7%98%D7%99%D7%9F', 'https://judgescv.court.gov.il/a78884ba-645e-e811-8105-0050568a6817%D7%A2%D7%99%D7%A8%D7%99%D7%AA-%D7%A7%D7%95%D7%99%D7%A4%D7%9E%D7%9F', 'https://judgescv.court.gov.il/478b84ba-645e-e811-8105-0050568a6817%D7%90%D7%A9%D7%A8-%D7%A7%D7%95%D7%9C%D7%94', 'https://judgescv.court.gov.il/a58984ba-645e-e811-8105-0050568a6817%D7%90%D7%A4%D7%A8%D7%AA-%D7%A7%D7%95%D7%A7%D7%94', 'https://judgescv.court.gov.il/b18c84ba-645e-e811-8105-0050568a6817%D7%99%D7%A9%D7%99-%D7%A7%D7%95%D7%A8%D7%9F', 'https://judgescv.court.gov.il/658784ba-645e-e811-8105-0050568a6817%D7%90%D7%99%D7%AA%D7%9F-%D7%A7%D7%95%D7%A8%D7%A0%D7%94%D7%90%D7%95%D7%96%D7%A8', 'https://judgescv.court.gov.il/618784ba-645e-e811-8105-0050568a6817%D7%90%D7%A8%D7%A0%D7%95%D7%9F-%D7%A7%D7%99%D7%9E%D7%9C%D7%9E%D7%9F', 'https://judgescv.court.gov.il/318b84ba-645e-e811-8105-0050568a6817%D7%99%D7%97%D7%96%D7%A7%D7%90%D7%9C-%D7%A7%D7%99%D7%A0%D7%A8', 'https://judgescv.court.gov.il/fd8684ba-645e-e811-8105-0050568a6817%D7%97%D7%A0%D7%94-%D7%A7%D7%99%D7%A6%D7%99%D7%A1', 'https://judgescv.court.gov.il/5f8e84ba-645e-e811-8105-0050568a6817%D7%93%D7%A0%D7%99%D7%90%D7%9C-%D7%A7%D7%99%D7%A8%D7%A1', 'https://judgescv.court.gov.il/3d8684ba-645e-e811-8105-0050568a6817%D7%94%D7%A8%D7%99-%D7%A7%D7%99%D7%A8%D7%A9', 'https://judgescv.court.gov.il/0b8784ba-645e-e811-8105-0050568a6817%D7%93%D7%A8%D7%95%D7%A8-%D7%A7%D7%9C%D7%99%D7%99%D7%98%D7%9E%D7%9F', 'https://judgescv.court.gov.il/df8984ba-645e-e811-8105-0050568a6817%D7%9E%D7%99%D7%A8%D7%91-%D7%A7%D7%9C%D7%99%D7%99%D7%9E%D7%9F', 'https://judgescv.court.gov.il/398684ba-645e-e811-8105-0050568a6817%D7%9E%D7%A0%D7%97%D7%9D-%D7%9E%D7%A8%D7%99%D7%95--%D7%A7%D7%9C%D7%99%D7%99%D7%9F', 'https://judgescv.court.gov.il/712654ee-e84f-eb11-8125-0050568a574c%D7%90%D7%95%D7%A8%D7%99%D7%AA-%D7%A7%D7%9C%D7%99%D7%99%D7%A0%D7%A4%D7%9C%D7%93', 'https://judgescv.court.gov.il/158c84ba-645e-e811-8105-0050568a6817%D7%90%D7%99%D7%A8%D7%99%D7%AA-%D7%A7%D7%9C%D7%9E%D7%9F-%D7%91%D7%A8%D7%95%D7%9D', 'https://judgescv.court.gov.il/2f8984ba-645e-e811-8105-0050568a6817%D7%9E%D7%99%D7%A8%D7%91-%D7%A7%D7%9C%D7%9E%D7%A4%D7%A0%D7%A8-%D7%A0%D7%91%D7%95%D7%9F', 'https://judgescv.court.gov.il/6b8884ba-645e-e811-8105-0050568a6817%D7%A9%D7%9C%D7%94%D7%91%D7%AA-%D7%A7%D7%9E%D7%99%D7%A8-%D7%95%D7%99%D7%99%D7%A1', 'https://judgescv.court.gov.il/e98b84ba-645e-e811-8105-0050568a6817%D7%90%D7%95%D7%A8%D7%99%D7%AA-%D7%A7%D7%A0%D7%98%D7%95%D7%A8', 'https://judgescv.court.gov.il/d38c84ba-645e-e811-8105-0050568a6817%D7%9E%D7%A8%D7%99%D7%9D-%D7%A7%D7%A1%D7%9C%D7%A1%D7%99', 'https://judgescv.court.gov.il/db8b84ba-645e-e811-8105-0050568a6817%D7%90%D7%94%D7%95%D7%93-%D7%A7%D7%A4%D7%9C%D7%9F', 'https://judgescv.court.gov.il/cf8684ba-645e-e811-8105-0050568a6817%D7%9E%D7%99%D7%9B%D7%9C-%D7%A7%D7%A4%D7%9C%D7%9F-%D7%A8%D7%95%D7%A7%D7%9E%D7%9F', 'https://judgescv.court.gov.il/1d8a84ba-645e-e811-8105-0050568a6817%D7%A2%D7%99%D7%93%D7%99%D7%AA-%D7%A7%D7%A6%D7%91%D7%95%D7%99', 'https://judgescv.court.gov.il/798984ba-645e-e811-8105-0050568a6817%D7%A2%D7%A0%D7%91%D7%9C-%D7%A7%D7%A6%D7%91-%D7%A7%D7%A8%D7%9F', 'https://judgescv.court.gov.il/8d8b84ba-645e-e811-8105-0050568a6817%D7%9E%D7%A8%D7%99%D7%9D-%D7%A7%D7%A8%D7%90%D7%95%D7%A1', 'https://judgescv.court.gov.il/438c84ba-645e-e811-8105-0050568a6817%D7%99%D7%A9%D7%A8%D7%90%D7%9C%D7%94-%D7%A7%D7%A8%D7%90%D7%99-%D7%92%D7%99%D7%A8%D7%95%D7%9F-%D7%92%D7%A8%D7%99%D7%A0%D7%91%D7%95%D7%99%D7%9D', 'https://judgescv.court.gov.il/f38b84ba-645e-e811-8105-0050568a6817%D7%94%D7%99%D7%90%D7%9D-%D7%A7%D7%A8%D7%95%D7%95%D7%90%D7%A0%D7%99', 'https://judgescv.court.gov.il/e58c84ba-645e-e811-8105-0050568a6817%D7%92%D7%99%D7%9C-%D7%A7%D7%A8%D7%96%D7%91%D7%95%D7%9D', 'https://judgescv.court.gov.il/2bb1e025-5d99-ec11-812c-0050568a574c%D7%90%D7%A4%D7%A8%D7%AA-%D7%A7%D7%A8%D7%99%D7%91', 'https://judgescv.court.gov.il/1b8684ba-645e-e811-8105-0050568a6817%D7%A9%D7%A8%D7%99%D7%AA-%D7%A7%D7%A8%D7%99%D7%A1%D7%A4%D7%99%D7%9F', 'https://judgescv.court.gov.il/838b84ba-645e-e811-8105-0050568a6817%D7%A8%D7%97%D7%9C-%D7%A7%D7%A8%D7%9C%D7%99%D7%A0%D7%A1%D7%A7%D7%99', 'https://judgescv.court.gov.il/1edbc5df-d8ca-e811-810c-0050568a574c%D7%A1%D7%99%D7%9E%D7%94-%D7%A7%D7%A8%D7%9E%D7%A8', 'https://judgescv.court.gov.il/79f8279a-a85f-eb11-8125-0050568a574c%D7%A9%D7%A8%D7%95%D7%9F-%D7%A7%D7%A8%D7%9F', 'https://judgescv.court.gov.il/a353fd15-fe99-ec11-812c-0050568a574c%D7%90%D7%95%D7%A8%D7%99%D7%AA-%D7%A7%D7%A8%D7%A5', 'https://judgescv.court.gov.il/bf8884ba-645e-e811-8105-0050568a6817%D7%9E%D7%99%D7%9B%D7%90%D7%9C-%D7%A7%D7%A8%D7%A9%D7%9F', 'https://judgescv.court.gov.il/358784ba-645e-e811-8105-0050568a6817%D7%90%D7%A4%D7%A8%D7%AA-%D7%A8%D7%91%D7%94%D7%95%D7%9F', 'https://judgescv.court.gov.il/3b8b84ba-645e-e811-8105-0050568a6817%D7%92%D7%99%D7%9C%D7%99%D7%94-%D7%A8%D7%91%D7%99%D7%93', 'https://judgescv.court.gov.il/af8c84ba-645e-e811-8105-0050568a6817%D7%A2%D7%99%D7%A0%D7%AA-%D7%A8%D7%91%D7%99%D7%93', 'https://judgescv.court.gov.il/43c8650c-acce-ec11-a979-005056ad7925%D7%9E%D7%99%D7%9B%D7%9C-%D7%A8%D7%91%D7%99%D7%A0%D7%95%D7%91%D7%99%D7%A5', 'https://judgescv.court.gov.il/7d8d84ba-645e-e811-8105-0050568a6817%D7%90%D7%99%D7%A8%D7%99%D7%A1-%D7%A8%D7%91%D7%99%D7%A0%D7%95%D7%91%D7%99%D7%A5-%D7%91%D7%A8%D7%95%D7%9F', 'https://judgescv.court.gov.il/f98884ba-645e-e811-8105-0050568a6817%D7%90%D7%99%D7%AA%D7%99-%D7%A8%D7%92%D7%91', 'https://judgescv.court.gov.il/6b8784ba-645e-e811-8105-0050568a6817%D7%90%D7%A1%D7%A0%D7%AA-%D7%A8%D7%95%D7%91%D7%95%D7%91%D7%99%D7%A5-%D7%91%D7%A8%D7%9B%D7%A9', 'https://judgescv.court.gov.il/1b8d84ba-645e-e811-8105-0050568a6817%D7%90%D7%91%D7%A8%D7%94%D7%9D-%D7%93%D7%9F--%D7%A8%D7%9E%D7%99--%D7%A8%D7%95%D7%91%D7%99%D7%9F', 'https://judgescv.court.gov.il/918784ba-645e-e811-8105-0050568a6817%D7%90%D7%91%D7%99%D7%A9%D7%99-%D7%A8%D7%95%D7%91%D7%A1', 'https://judgescv.court.gov.il/d38684ba-645e-e811-8105-0050568a6817%D7%A2%D7%99%D7%93%D7%95-%D7%A8%D7%95%D7%96%D7%99%D7%9F', 'https://judgescv.court.gov.il/cf8c84ba-645e-e811-8105-0050568a6817%D7%A2%D7%9E%D7%99%D7%AA-%D7%A8%D7%95%D7%96%D7%99%D7%A0%D7%A1', 'https://judgescv.court.gov.il/e58984ba-645e-e811-8105-0050568a6817%D7%A9%D7%9C%D7%99-%D7%A8%D7%95%D7%96%D7%9E%D7%9F-%D7%A4%D7%A8%D7%A7%D7%A9', 'https://judgescv.court.gov.il/578e84ba-645e-e811-8105-0050568a6817%D7%90%D7%99%D7%A8%D7%A0%D7%94-%D7%A8%D7%95%D7%96%D7%9F', 'https://judgescv.court.gov.il/8da137ae-6299-ec11-812c-0050568a574c%D7%9E%D7%99%D7%9B%D7%9C-%D7%A8%D7%95%D7%96%D7%9F-%D7%A2%D7%95%D7%96%D7%A8', 'https://judgescv.court.gov.il/e98884ba-645e-e811-8105-0050568a6817%D7%94%D7%93%D7%A1-%D7%A8%D7%95%D7%96%D7%A0%D7%91%D7%A8%D7%92-%D7%A9%D7%99%D7%99%D7%A0%D7%A8%D7%98', 'https://judgescv.court.gov.il/71008a60-c59f-e811-810b-0050568a574c%D7%A2%D7%9E%D7%99-%D7%A8%D7%95%D7%98%D7%9E%D7%9F', 'https://judgescv.court.gov.il/5b8c84ba-645e-e811-8105-0050568a6817%D7%99%D7%A1%D7%9B%D7%94-%D7%A8%D7%95%D7%98%D7%A0%D7%91%D7%A8%D7%92', 'https://judgescv.court.gov.il/9f8684ba-645e-e811-8105-0050568a6817%D7%90%D7%A9%D7%A8%D7%99%D7%AA-%D7%A8%D7%95%D7%98%D7%A7%D7%95%D7%A4%D7%A3', 'https://judgescv.court.gov.il/bf8984ba-645e-e811-8105-0050568a6817%D7%9E%D7%99%D7%94-%D7%A8%D7%95%D7%99%D7%96%D7%9E%D7%9F-%D7%90%D7%9C%D7%93%D7%95%D7%A8', 'https://judgescv.court.gov.il/6f8784ba-645e-e811-8105-0050568a6817%D7%9E%D7%99%D7%A8%D7%94-%D7%A8%D7%95%D7%9D-%D7%A4%D7%9C%D7%90%D7%99', 'https://judgescv.court.gov.il/ad8b84ba-645e-e811-8105-0050568a6817%D7%90%D7%A8%D7%99%D7%94-%D7%A8%D7%95%D7%9E%D7%A0%D7%95%D7%91', 'https://judgescv.court.gov.il/098c84ba-645e-e811-8105-0050568a6817%D7%90%D7%9C%D7%9B%D7%A1%D7%A0%D7%93%D7%A8-%D7%A8%D7%95%D7%9F', 'https://judgescv.court.gov.il/5a03b16c-40b6-ec11-a978-005056ad7925%D7%92%D7%9C%D7%99-%D7%A8%D7%95%D7%9F', 'https://judgescv.court.gov.il/438d84ba-645e-e811-8105-0050568a6817%D7%90%D7%99%D7%9C%D7%9F-%D7%A8%D7%95%D7%A0%D7%9F', 'https://judgescv.court.gov.il/e38c84ba-645e-e811-8105-0050568a6817%D7%A8%D7%95%D7%AA-%D7%A8%D7%95%D7%A0%D7%9F', 'https://judgescv.court.gov.il/638884ba-645e-e811-8105-0050568a6817%D7%A2%D7%99%D7%93%D7%99%D7%AA-%D7%A8%D7%96-%D7%95%D7%99%D7%A0%D7%91%D7%A8%D7%92%D7%A8', 'https://judgescv.court.gov.il/098684ba-645e-e811-8105-0050568a6817%D7%99%D7%A2%D7%9C-%D7%A8%D7%96-%D7%9C%D7%95%D7%99', 'https://judgescv.court.gov.il/678784ba-645e-e811-8105-0050568a6817%D7%A2%D7%9E%D7%99%D7%A2%D7%93-%D7%A8%D7%98', 'https://judgescv.court.gov.il/b93a580d-0250-eb11-8125-0050568a574c%D7%A9%D7%A8%D7%95%D7%9F-%D7%A8%D7%99%D7%91%D7%9C%D7%99%D7%9F--%D7%90%D7%97%D7%90%D7%99', 'https://judgescv.court.gov.il/458784ba-645e-e811-8105-0050568a6817%D7%9C%D7%99%D7%9E%D7%95%D7%A8-%D7%A8%D7%99%D7%99%D7%9A', 'https://judgescv.court.gov.il/e18784ba-645e-e811-8105-0050568a6817%D7%95%D7%A8%D7%93-%D7%A8%D7%99%D7%A7%D7%A0%D7%98%D7%99-%D7%A8%D7%95%D7%A1%D7%94%D7%A8', 'https://judgescv.court.gov.il/558b84ba-645e-e811-8105-0050568a6817%D7%9E%D7%A0%D7%97%D7%9D-%D7%A8%D7%A0%D7%99%D7%90%D7%9C', 'https://judgescv.court.gov.il/258c84ba-645e-e811-8105-0050568a6817%D7%A9%D7%99%D7%A8%D7%9C%D7%99-%D7%A8%D7%A0%D7%A8', 'https://judgescv.court.gov.il/5b8884ba-645e-e811-8105-0050568a6817%D7%A0%D7%A2%D7%9D-%D7%A8%D7%A3', 'https://judgescv.court.gov.il/038784ba-645e-e811-8105-0050568a6817%D7%90%D7%99%D7%A8%D7%99%D7%A1-%D7%A8%D7%A9', 'https://judgescv.court.gov.il/dbfd14c6-acce-ec11-a979-005056ad7925%D7%94%D7%99%D7%A9%D7%90%D7%9D-%D7%A9%D7%91%D7%90%D7%99%D7%98%D7%94', 'https://judgescv.court.gov.il/178b84ba-645e-e811-8105-0050568a6817%D7%99%D7%94%D7%95%D7%93%D7%99%D7%AA-%D7%A9%D7%91%D7%97', 'https://judgescv.court.gov.il/6d8884ba-645e-e811-8105-0050568a6817%D7%90%D7%9C%D7%A2%D7%93-%D7%A9%D7%91%D7%99%D7%95%D7%9F', 'https://judgescv.court.gov.il/db8784ba-645e-e811-8105-0050568a6817%D7%9E%D7%99%D7%9B%D7%9C-%D7%A9%D7%91%D7%99%D7%98', 'https://judgescv.court.gov.il/ba3be975-e83d-eb11-8125-0050568a574c%D7%A9%D7%A8%D7%95%D7%9F-%D7%A9%D7%91%D7%99%D7%98-%D7%9B%D7%A4%D7%AA%D7%95%D7%A8%D7%99', 'https://judgescv.court.gov.il/fb8784ba-645e-e811-8105-0050568a6817%D7%95%D7%A8%D7%93-%D7%A9%D7%91%D7%99%D7%98-%D7%A4%D7%99%D7%A0%D7%A7%D7%9C%D7%A9%D7%98%D7%99%D7%99%D7%9F', 'https://judgescv.court.gov.il/1f8d84ba-645e-e811-8105-0050568a6817%D7%90%D7%95%D7%A8%D7%9F-%D7%A9%D7%92%D7%91', 'https://judgescv.court.gov.il/ed8884ba-645e-e811-8105-0050568a6817%D7%91%D7%A0%D7%99-%D7%A9%D7%92%D7%99%D7%90', 'https://judgescv.court.gov.il/fd8884ba-645e-e811-8105-0050568a6817%D7%9E%D7%97%D7%9E%D7%95%D7%93-%D7%A9%D7%93%D7%90%D7%A4%D7%A0%D7%94', 'https://judgescv.court.gov.il/078c84ba-645e-e811-8105-0050568a6817%D7%A9%D7%A8%D7%94-%D7%A9%D7%93%D7%99%D7%90%D7%95%D7%A8', 'https://judgescv.court.gov.il/318c84ba-645e-e811-8105-0050568a6817%D7%93%D7%95%D7%93-%D7%A9%D7%94%D7%9D', 'https://judgescv.court.gov.il/658984ba-645e-e811-8105-0050568a6817%D7%90%D7%A4%D7%A8%D7%AA-%D7%A9%D7%94%D7%9D-%D7%93%D7%9C%D7%99%D7%95%D7%AA', 'https://judgescv.court.gov.il/718b84ba-645e-e811-8105-0050568a6817%D7%90%D7%94%D7%95%D7%93-%D7%A9%D7%9E%D7%A9%D7%95%D7%9F-%D7%A9%D7%95%D7%95%D7%A8%D7%A5', 'https://judgescv.court.gov.il/a18684ba-645e-e811-8105-0050568a6817%D7%90%D7%95%D7%A8%D7%9F-%D7%A9%D7%95%D7%95%D7%A8%D7%A5', 'https://judgescv.court.gov.il/178c84ba-645e-e811-8105-0050568a6817%D7%95%D7%A8%D7%93%D7%94-%D7%A9%D7%95%D7%95%D7%A8%D7%A5', 'https://judgescv.court.gov.il/878884ba-645e-e811-8105-0050568a6817%D7%A8%D7%95%D7%A0%D7%9F-%D7%A9%D7%95%D7%95%D7%A8%D7%A5', 'https://judgescv.court.gov.il/5b8b84ba-645e-e811-8105-0050568a6817%D7%A9%D7%90%D7%95%D7%9C-%D7%A9%D7%95%D7%97%D7%98', 'https://judgescv.court.gov.il/638784ba-645e-e811-8105-0050568a6817%D7%90%D7%99%D7%9C%D7%AA-%D7%A9%D7%95%D7%9E%D7%A8%D7%95%D7%A0%D7%99-%D7%91%D7%A8%D7%A0%D7%A9%D7%98%D7%99%D7%99%D7%9F', 'https://judgescv.court.gov.il/564135c9-25d5-e811-810c-0050568a574c%D7%90%D7%9C%D7%A2%D7%93-%D7%A9%D7%95%D7%A8', 'https://judgescv.court.gov.il/658884ba-645e-e811-8105-0050568a6817%D7%9E%D7%99%D7%A8%D7%95%D7%9F-%D7%A9%D7%95%D7%A8%D7%A5', 'https://judgescv.court.gov.il/2d8c84ba-645e-e811-8105-0050568a6817%D7%A8%D7%91%D7%A7%D7%94-%D7%A9%D7%95%D7%A8%D7%A5', 'https://judgescv.court.gov.il/18603745-3c9d-ec11-812c-0050568a574c%D7%A2%D7%95%D7%A4%D7%A8-%D7%97%D7%99%D7%99%D7%9D-%D7%A9%D7%95%D7%A8%D7%A7', 'https://judgescv.court.gov.il/0782d73b-7212-e911-8113-0050568a574c%D7%9E%D7%A0%D7%97%D7%9D-%D7%A9%D7%97-%D7%A7', 'https://judgescv.court.gov.il/f98984ba-645e-e811-8105-0050568a6817%D7%90%D7%A1%D7%AA%D7%A8-%D7%A9%D7%97%D7%95%D7%A8', 'https://judgescv.court.gov.il/f02c567d-86cb-ec11-a979-005056ad7925%D7%90%D7%A1%D7%AA%D7%99-%D7%A9%D7%97%D7%9C', 'https://judgescv.court.gov.il/398d84ba-645e-e811-8105-0050568a6817%D7%A2%D7%95%D7%93%D7%93-%D7%A9%D7%97%D7%9D', 'https://judgescv.court.gov.il/798c84ba-645e-e811-8105-0050568a6817%D7%AA%D7%A8%D7%A6%D7%94-%D7%A9%D7%97%D7%9D-%D7%A7%D7%99%D7%A0%D7%9F', 'https://judgescv.court.gov.il/6c232327-2763-e811-8109-0050568a574c%D7%90%D7%9C%D7%9B%D7%A1-%D7%A9%D7%98%D7%99%D7%99%D7%9F', 'https://judgescv.court.gov.il/238b84ba-645e-e811-8105-0050568a6817%D7%99%D7%A4%D7%94-%D7%A9%D7%98%D7%99%D7%99%D7%9F', 'https://judgescv.court.gov.il/5d8784ba-645e-e811-8105-0050568a6817%D7%99%D7%A4%D7%A2%D7%AA-%D7%A9%D7%98%D7%A8%D7%99%D7%AA-%D7%97%D7%93%D7%93', 'https://judgescv.court.gov.il/ce962ef6-25d5-e811-810c-0050568a574c%D7%A9%D7%A0%D7%99-%D7%A9%D7%98%D7%A8%D7%9F', 'https://judgescv.court.gov.il/7f8d84ba-645e-e811-8105-0050568a6817%D7%A0%D7%97%D7%95%D7%9D-%D7%A9%D7%98%D7%A8%D7%A0%D7%9C%D7%99%D7%9B%D7%98', 'https://judgescv.court.gov.il/978984ba-645e-e811-8105-0050568a6817%D7%9E%D7%99%D7%A8%D7%99-%D7%A9%D7%99', 'https://judgescv.court.gov.il/312288c4-aece-ec11-a979-005056ad7925%D7%A9%D7%99%D7%A8%D7%9C%D7%99-%D7%A9%D7%99', 'https://judgescv.court.gov.il/2f8d84ba-645e-e811-8105-0050568a6817%D7%A9%D7%95%D7%A9%D7%A0%D7%94-%D7%A9%D7%99%D7%98%D7%A8%D7%99%D7%AA', 'https://judgescv.court.gov.il/698d84ba-645e-e811-8105-0050568a6817%D7%A0%D7%A4%D7%AA%D7%9C%D7%99-%D7%A9%D7%99%D7%9C%D7%94', 'https://judgescv.court.gov.il/ab8984ba-645e-e811-8105-0050568a6817%D7%A2%D7%A8%D7%9F-%D7%A9%D7%99%D7%9C%D7%94', 'https://judgescv.court.gov.il/718c84ba-645e-e811-8105-0050568a6817%D7%A0%D7%A2%D7%9D-%D7%A9%D7%99%D7%9C%D7%95', 'https://judgescv.court.gov.il/d58d84ba-645e-e811-8105-0050568a6817%D7%97%D7%A0%D7%99-%D7%A9%D7%99%D7%A8%D7%94', 'https://judgescv.court.gov.il/b98984ba-645e-e811-8105-0050568a6817%D7%94%D7%93%D7%A1-%D7%A9%D7%9B%D7%98%D7%A8-%D7%99%D7%A9%D7%A8%D7%90%D7%9C%D7%99', 'https://judgescv.court.gov.il/238884ba-645e-e811-8105-0050568a6817%D7%9C%D7%95%D7%91%D7%A0%D7%94-%D7%A9%D7%9C%D7%90%D7%A2%D7%98%D7%94-%D7%97%D7%9C%D7%90%D7%99%D7%9C%D7%94', 'https://judgescv.court.gov.il/7c6da470-42ce-ec11-a979-005056ad7925%D7%A9%D7%99-%D7%A9%D7%9C%D7%94%D7%91%D7%AA', 'https://judgescv.court.gov.il/098a84ba-645e-e811-8105-0050568a6817%D7%91%D7%9F-%D7%A9%D7%9C%D7%95', 'https://judgescv.court.gov.il/538884ba-645e-e811-8105-0050568a6817%D7%92%D7%99%D7%9C%D7%AA-%D7%A9%D7%9C%D7%95', 'https://judgescv.court.gov.il/0f8784ba-645e-e811-8105-0050568a6817%D7%9C%D7%90%D7%94-%D7%A9%D7%9C%D7%96%D7%99%D7%A0%D7%92%D7%A8-%D7%A9%D7%9E%D7%90%D7%99', 'https://judgescv.court.gov.il/758884ba-645e-e811-8105-0050568a6817%D7%90%D7%91%D7%99-%D7%A9%D7%9C%D7%99%D7%95', 'https://judgescv.court.gov.il/af8684ba-645e-e811-8105-0050568a6817%D7%90%D7%95%D7%A8%D7%9C%D7%99-%D7%A9%D7%9E%D7%90%D7%99-%D7%9B%D7%AA%D7%91', 'https://judgescv.court.gov.il/117d9513-019a-ec11-812c-0050568a574c%D7%A9%D7%99-%D7%A9%D7%9E%D7%95%D7%90%D7%9C', 'https://judgescv.court.gov.il/eb8c84ba-645e-e811-8105-0050568a6817%D7%A0%D7%92%D7%94-%D7%A9%D7%9E%D7%95%D7%90%D7%9C%D7%99-%D7%9E%D7%90%D7%99%D7%99%D7%A8', 'https://judgescv.court.gov.il/4f8b84ba-645e-e811-8105-0050568a6817%D7%A8%D7%99%D7%A7%D7%99-%D7%A9%D7%9E%D7%95%D7%9C%D7%91%D7%99%D7%A5', 'https://judgescv.court.gov.il/fb0a71c8-65e5-ec11-a979-005056ad7925%D7%9E%D7%99%D7%A8%D7%91-%D7%A9%D7%9E%D7%97%D7%99%D7%95%D7%A3', 'https://judgescv.court.gov.il/7d8984ba-645e-e811-8105-0050568a6817%D7%9C%D7%99%D7%90%D7%AA-%D7%A9%D7%9E%D7%99%D7%A8-%D7%94%D7%99%D7%A8%D7%A9', 'https://judgescv.court.gov.il/5fbe52f5-1c50-eb11-8125-0050568a574c%D7%9E%D7%99%D7%9B%D7%90%D7%9C-%D7%A9%D7%9E%D7%A4%D7%9C', 'https://judgescv.court.gov.il/01d57dd0-41ce-ec11-a979-005056ad7925%D7%A7%D7%A8%D7%9F-%D7%A9%D7%9E%D7%A9', 'https://judgescv.court.gov.il/5f8c84ba-645e-e811-8105-0050568a6817%D7%90%D7%A8%D7%96-%D7%A9%D7%A0%D7%99', 'https://judgescv.court.gov.il/a38984ba-645e-e811-8105-0050568a6817%D7%92%D7%99%D7%90-%D7%A9%D7%A0%D7%99', 'https://judgescv.court.gov.il/efa8f81f-3dce-ec11-a979-005056ad7925%D7%99%D7%94%D7%95%D7%A0%D7%AA%D7%9F-%D7%A9%D7%A0%D7%99%D7%90%D7%95%D7%A8', 'https://judgescv.court.gov.il/318684ba-645e-e811-8105-0050568a6817%D7%A8%D7%95%D7%AA-%D7%A9%D7%A4%D7%99%D7%9C%D7%91%D7%A8%D7%92-%D7%9B%D7%94%D7%9F', 'https://judgescv.court.gov.il/378b84ba-645e-e811-8105-0050568a6817%D7%9E%D7%99%D7%9B%D7%90%D7%9C-%D7%9E%D7%A8%D7%93%D7%9B%D7%99-%D7%A9%D7%A4%D7%99%D7%A6%D7%A8', 'https://judgescv.court.gov.il/7f8b84ba-645e-e811-8105-0050568a6817%D7%A8%D7%95%D7%9F-%D7%A9%D7%A4%D7%99%D7%A8%D7%90', 'https://judgescv.court.gov.il/d18b84ba-645e-e811-8105-0050568a6817%D7%99%D7%A2%D7%A7%D7%91-%D7%A9%D7%A4%D7%A1%D7%A8', 'https://judgescv.court.gov.il/86667aa8-0550-eb11-8125-0050568a574c%D7%A9%D7%99%D7%A8%D7%99-%D7%A9%D7%A4%D7%A8', 'https://judgescv.court.gov.il/958784ba-645e-e811-8105-0050568a6817%D7%99%D7%94%D7%95%D7%A8%D7%9D-%D7%A9%D7%A7%D7%93', 'https://judgescv.court.gov.il/398784ba-645e-e811-8105-0050568a6817%D7%99%D7%A2%D7%A7%D7%91-%D7%A9%D7%A7%D7%93', 'https://judgescv.court.gov.il/fb119a65-f899-ec11-812c-0050568a574c%D7%A2%D7%9E%D7%99%D7%A8-%D7%A9%D7%A7%D7%93', 'https://judgescv.court.gov.il/fcb5581c-a790-e811-8109-0050568a574c%D7%99%D7%A4%D7%A2%D7%AA-%D7%A9%D7%A7%D7%93%D7%99-%D7%A9%D7%A5', 'https://judgescv.court.gov.il/0601bfdf-6299-ec11-812c-0050568a574c%D7%99%D7%A2%D7%A7%D7%91-%D7%A9%D7%A8%D7%91%D7%99%D7%98', 'https://judgescv.court.gov.il/e78784ba-645e-e811-8105-0050568a6817%D7%9E%D7%99%D7%9B%D7%9C-%D7%A9%D7%A8%D7%91%D7%99%D7%98', 'https://judgescv.court.gov.il/358884ba-645e-e811-8105-0050568a6817%D7%90%D7%91%D7%99%D7%91-%D7%A9%D7%A8%D7%95%D7%9F', 'https://judgescv.court.gov.il/378d84ba-645e-e811-8105-0050568a6817%D7%A8%D7%99%D7%91%D7%94-%D7%A9%D7%A8%D7%95%D7%9F', 'https://judgescv.court.gov.il/2b8b84ba-645e-e811-8105-0050568a6817%D7%AA%D7%9E%D7%A8-%D7%A9%D7%A8%D7%95%D7%9F-%D7%A0%D7%AA%D7%A0%D7%90%D7%9C', 'https://judgescv.court.gov.il/fd8c84ba-645e-e811-8105-0050568a6817%D7%93%D7%9C%D7%99%D7%AA-%D7%A9%D7%A8%D7%95%D7%9F-%D7%92%D7%A8%D7%99%D7%9F', 'https://judgescv.court.gov.il/6d8c84ba-645e-e811-8105-0050568a6817%D7%97%D7%A0%D7%A0%D7%90%D7%9C-%D7%A9%D7%A8%D7%A2%D7%91%D7%99', 'https://judgescv.court.gov.il/b58884ba-645e-e811-8105-0050568a6817%D7%A0%D7%A2%D7%94-%D7%AA%D7%91%D7%95%D7%A8', 'https://judgescv.court.gov.il/4b8b84ba-645e-e811-8105-0050568a6817%D7%9E%D7%A9%D7%94-%D7%AA%D7%93%D7%9E%D7%95%D7%A8-%D7%91%D7%A8%D7%A0%D7%A9%D7%98%D7%99%D7%99%D7%9F', 'https://judgescv.court.gov.il/798884ba-645e-e811-8105-0050568a6817%D7%98%D7%9C-%D7%AA%D7%93%D7%9E%D7%95%D7%A8-%D7%96%D7%9E%D7%99%D7%A8', 'https://judgescv.court.gov.il/887dbaac-f899-ec11-812c-0050568a574c%D7%A8%D7%97%D7%9C-%D7%AA%D7%95%D7%A8%D7%9F', 'https://judgescv.court.gov.il/258884ba-645e-e811-8105-0050568a6817%D7%9C%D7%95%D7%91%D7%A0%D7%90-%D7%AA%D7%9C%D7%97%D7%9E%D7%99-%D7%A1%D7%95%D7%99%D7%93%D7%90%D7%9F', 'https://judgescv.court.gov.il/258684ba-645e-e811-8105-0050568a6817%D7%9E%D7%99%D7%9B%D7%90%D7%9C-%D7%AA%D7%9E%D7%99%D7%A8', 'https://judgescv.court.gov.il/#0']\n"
     ]
    }
   ],
   "source": [
    "print(clean_urls)"
   ]
  },
  {
   "cell_type": "code",
   "execution_count": 20,
   "id": "3b3e5eeb",
   "metadata": {},
   "outputs": [],
   "source": [
    "clean= clean_urls[:-1]"
   ]
  },
  {
   "cell_type": "code",
   "execution_count": 21,
   "id": "c2ff8548",
   "metadata": {},
   "outputs": [
    {
     "data": {
      "text/plain": [
       "866"
      ]
     },
     "execution_count": 21,
     "metadata": {},
     "output_type": "execute_result"
    }
   ],
   "source": [
    "len(clean)"
   ]
  },
  {
   "cell_type": "code",
   "execution_count": 17,
   "id": "fd67f088",
   "metadata": {},
   "outputs": [],
   "source": [
    "#now for old judges - same play\n",
    "#page open now copy all href to list\n",
    "links2 = driver.find_elements(By.TAG_NAME,\"a\")\n",
    "\n",
    "\n",
    "urls2=list()\n",
    "for link in links2:\n",
    "    urls2.append(link.get_attribute(\"href\"))\n",
    "    \n",
    "    \n",
    "    \n",
    "\n"
   ]
  },
  {
   "cell_type": "code",
   "execution_count": 22,
   "id": "9459f4a2",
   "metadata": {},
   "outputs": [],
   "source": [
    "#should be 852\n",
    "#clean by scv in link\n",
    "clean_urls2 = list()\n",
    "for link in urls2:\n",
    "    if \"scv\" in link and \"assets\" not in link and \"department\" not in link and \"Department\" not in link:\n",
    "        clean_urls2.append(link)\n"
   ]
  },
  {
   "cell_type": "code",
   "execution_count": 23,
   "id": "b4bb171d",
   "metadata": {},
   "outputs": [
    {
     "data": {
      "text/plain": [
       "853"
      ]
     },
     "execution_count": 23,
     "metadata": {},
     "output_type": "execute_result"
    }
   ],
   "source": [
    "len(clean_urls2)"
   ]
  },
  {
   "cell_type": "code",
   "execution_count": 25,
   "id": "2e01aa5f",
   "metadata": {},
   "outputs": [],
   "source": [
    "clean_urls2 = clean_urls2[:-1]"
   ]
  },
  {
   "cell_type": "code",
   "execution_count": 27,
   "id": "74cbb1f9",
   "metadata": {},
   "outputs": [],
   "source": [
    "#new judges = clean , old = clean_urls2\n",
    "driver.get(clean[1])"
   ]
  },
  {
   "cell_type": "code",
   "execution_count": null,
   "id": "2d98b573",
   "metadata": {},
   "outputs": [],
   "source": [
    "<div _ngcontent-qin-5=\"\" class=\"lg-mb-30\">\n",
    "          <h1 _ngcontent-qin-5=\"\" class=\"h2  blue-txt reforma-medium\">השופטת  אוסילה אבו אסעד </h1>\n",
    "          <h3 _ngcontent-qin-5=\"\" class=\"description-txt blue-txt bold xs-mb-10\">أسيله أبو أسعد</h3>\n",
    "          <h3 _ngcontent-qin-5=\"\" class=\"description-txt blue-txt bold xs-mb-10\">OSAILA ABU ASSAD</h3>\n",
    "          \n",
    "          <h4 _ngcontent-qin-5=\"\" class=\"h4 txt dark-gray-txt bold\">שופטת בית משפט המחוזי נצרת</h4>\n",
    "          <!--template bindings={}-->\n",
    "       \n",
    "          <br _ngcontent-qin-5=\"\">\n",
    "          <ul _ngcontent-qin-5=\"\" class=\"list-unstyled margin-for-ul  xs-mb-25 lg-mb-30 \">\n",
    "            <!--template bindings={}--><li _ngcontent-qin-5=\"\" class=\"dark-gray-txt txt\">\n",
    "              נולדה בשנת 1973 בישראל.\n",
    "            </li><li _ngcontent-qin-5=\"\" class=\"dark-gray-txt txt\">\n",
    "              בשנת 1991 סיימה את לימודי התיכון בביה\"ס הבפטיסטי בנצרת.\n",
    "            </li><li _ngcontent-qin-5=\"\" class=\"dark-gray-txt txt\">\n",
    "              בשנת 1996 סיימה לימודי תואר ראשון במשפטים באוניברסיטה העברית בירושלים.\n",
    "            </li><li _ngcontent-qin-5=\"\" class=\"dark-gray-txt txt\">\n",
    "              בשנים 1996-1997 התמחתה במשרד עורכי-דין.\n",
    "            </li><li _ngcontent-qin-5=\"\" class=\"dark-gray-txt txt\">\n",
    "              במאי 1997 הוסמכה כעורכת-דין ומאז עסקה במקצוע.\n",
    "            </li><li _ngcontent-qin-5=\"\" class=\"dark-gray-txt txt\">\n",
    "              בנובמבר 2004 מונתה לכהונת רשמת/ראש הוצל\"פ של בתי משפט השלום במחוז הצפון.\n",
    "            </li><li _ngcontent-qin-5=\"\" class=\"dark-gray-txt txt\">\n",
    "              בינואר 2012 מונתה לכהונת שופטת בבתי משפט השלום במחוז הצפון.\n",
    "            </li><li _ngcontent-qin-5=\"\" class=\"dark-gray-txt txt\">\n",
    "              באוגוסט 2016 עברה לכהן בבית משפט השלום נצרת.\n",
    "            </li><li _ngcontent-qin-5=\"\" class=\"dark-gray-txt txt\">\n",
    "              במרץ 2022 מונה לכהונת שופטת בית משפט המחוזי נצרת\n",
    "            </li>\n",
    "          </ul>\n",
    "\n",
    "        </div>"
   ]
  },
  {
   "cell_type": "code",
   "execution_count": 34,
   "id": "4540faf9",
   "metadata": {},
   "outputs": [],
   "source": [
    "jjj = driver.find_elements(By.CLASS_NAME,\"lg-mb-30\")"
   ]
  },
  {
   "cell_type": "code",
   "execution_count": 38,
   "id": "9615c0e5",
   "metadata": {
    "scrolled": true
   },
   "outputs": [
    {
     "name": "stdout",
     "output_type": "stream",
     "text": [
      "[<selenium.webdriver.remote.webelement.WebElement (session=\"d99dec8d6844657366b20b014b2eb4f6\", element=\"EB118D4AF1595995326E12CEAC62D3A1_element_1983\")>, <selenium.webdriver.remote.webelement.WebElement (session=\"d99dec8d6844657366b20b014b2eb4f6\", element=\"EB118D4AF1595995326E12CEAC62D3A1_element_1938\")>, <selenium.webdriver.remote.webelement.WebElement (session=\"d99dec8d6844657366b20b014b2eb4f6\", element=\"EB118D4AF1595995326E12CEAC62D3A1_element_2013\")>]\n",
      "this is\n",
      "this isהשופטת אוסילה אבו אסעד\n",
      "أسيله أبو أسعد\n",
      "OSAILA ABU ASSAD\n",
      "שופטת בית משפט המחוזי נצרת\n",
      "\n",
      "נולדה בשנת 1973 בישראל.\n",
      "בשנת 1991 סיימה את לימודי התיכון בביה\"ס הבפטיסטי בנצרת.\n",
      "בשנת 1996 סיימה לימודי תואר ראשון במשפטים באוניברסיטה העברית בירושלים.\n",
      "בשנים 1996-1997 התמחתה במשרד עורכי-דין.\n",
      "במאי 1997 הוסמכה כעורכת-דין ומאז עסקה במקצוע.\n",
      "בנובמבר 2004 מונתה לכהונת רשמת/ראש הוצל\"פ של בתי משפט השלום במחוז הצפון.\n",
      "בינואר 2012 מונתה לכהונת שופטת בבתי משפט השלום במחוז הצפון.\n",
      "באוגוסט 2016 עברה לכהן בבית משפט השלום נצרת.\n",
      "במרץ 2022 מונה לכהונת שופטת בית משפט המחוזי נצרת\n",
      "this isנולדה בשנת 1973 בישראל.\n",
      "בשנת 1991 סיימה את לימודי התיכון בביה\"ס הבפטיסטי בנצרת.\n",
      "בשנת 1996 סיימה לימודי תואר ראשון במשפטים באוניברסיטה העברית בירושלים.\n",
      "בשנים 1996-1997 התמחתה במשרד עורכי-דין.\n",
      "במאי 1997 הוסמכה כעורכת-דין ומאז עסקה במקצוע.\n",
      "בנובמבר 2004 מונתה לכהונת רשמת/ראש הוצל\"פ של בתי משפט השלום במחוז הצפון.\n",
      "בינואר 2012 מונתה לכהונת שופטת בבתי משפט השלום במחוז הצפון.\n",
      "באוגוסט 2016 עברה לכהן בבית משפט השלום נצרת.\n",
      "במרץ 2022 מונה לכהונת שופטת בית משפט המחוזי נצרת\n"
     ]
    }
   ],
   "source": [
    "print(jjj)\n",
    "for i in jjj:\n",
    "    print(\"this is\"+i.text)"
   ]
  },
  {
   "cell_type": "code",
   "execution_count": 47,
   "id": "03b437a1",
   "metadata": {},
   "outputs": [],
   "source": [
    "juj_list=list()\n",
    "for i in range(len(clean)):\n",
    "    driver.get(clean[i])\n",
    "    time.sleep(2)\n",
    "    jjj = driver.find_elements(By.CLASS_NAME,\"lg-mb-30\")\n",
    "    judj = \"\"\n",
    "    for j in jjj:\n",
    "        judj=judj+\" \"+j.text\n",
    "    juj_list.append(judj)    \n",
    "    "
   ]
  },
  {
   "cell_type": "code",
   "execution_count": null,
   "id": "caf7850f",
   "metadata": {},
   "outputs": [],
   "source": []
  },
  {
   "cell_type": "code",
   "execution_count": 48,
   "id": "fc96642c",
   "metadata": {},
   "outputs": [
    {
     "data": {
      "text/plain": [
       "866"
      ]
     },
     "execution_count": 48,
     "metadata": {},
     "output_type": "execute_result"
    }
   ],
   "source": [
    "len(juj_list)"
   ]
  },
  {
   "cell_type": "code",
   "execution_count": 51,
   "id": "75909a0e",
   "metadata": {},
   "outputs": [],
   "source": [
    "add_list=list()\n",
    "for i in range(len(juj_list)):\n",
    "    if \"ה\" not in juj_list[i]:\n",
    "        add_list.append(i)"
   ]
  },
  {
   "cell_type": "code",
   "execution_count": 53,
   "id": "5f292abb",
   "metadata": {
    "scrolled": false
   },
   "outputs": [],
   "source": [
    "juj_list_reserve = juj_list"
   ]
  },
  {
   "cell_type": "code",
   "execution_count": 54,
   "id": "ee473045",
   "metadata": {},
   "outputs": [],
   "source": [
    "\n",
    "for i in add_list:\n",
    "    driver.get(clean[i])\n",
    "    time.sleep(5)\n",
    "    jjj = driver.find_elements(By.CLASS_NAME,\"lg-mb-30\")\n",
    "    judj = \"\"\n",
    "    for j in jjj:\n",
    "        judj=judj+\" \"+j.text\n",
    "    juj_list[i]=judj  "
   ]
  },
  {
   "cell_type": "code",
   "execution_count": 55,
   "id": "3a68603e",
   "metadata": {},
   "outputs": [],
   "source": [
    "for i in range(len(juj_list)):\n",
    "    if \"ה\" not in juj_list[i]:\n",
    "        print(i)"
   ]
  },
  {
   "cell_type": "code",
   "execution_count": 58,
   "id": "c95df82e",
   "metadata": {},
   "outputs": [],
   "source": [
    "df1 =pd.DataFrame(juj_list )"
   ]
  },
  {
   "cell_type": "code",
   "execution_count": 62,
   "id": "71769375",
   "metadata": {},
   "outputs": [],
   "source": [
    "df1.to_csv(\"currJudge.csv\",index=False)"
   ]
  },
  {
   "cell_type": "code",
   "execution_count": null,
   "id": "4f866d73",
   "metadata": {},
   "outputs": [],
   "source": [
    "#now for old"
   ]
  },
  {
   "cell_type": "code",
   "execution_count": 63,
   "id": "c81f0b28",
   "metadata": {},
   "outputs": [],
   "source": [
    "juj_list2=list()\n",
    "for i in range(len(clean_urls2)):\n",
    "    driver.get(clean_urls2[i])\n",
    "    #time.sleep(2)\n",
    "    jjj = driver.find_elements(By.CLASS_NAME,\"lg-mb-30\")\n",
    "    judj = \"\"\n",
    "    for j in jjj:\n",
    "        judj=judj+\" \"+j.text\n",
    "    juj_list2.append(judj)  "
   ]
  },
  {
   "cell_type": "code",
   "execution_count": 64,
   "id": "388419c3",
   "metadata": {},
   "outputs": [],
   "source": [
    "add_list2=list()\n",
    "for i in range(len(juj_list2)):\n",
    "    if \"ה\" not in juj_list2[i]:\n",
    "        add_list2.append(i)"
   ]
  },
  {
   "cell_type": "code",
   "execution_count": 65,
   "id": "a2df77c7",
   "metadata": {},
   "outputs": [
    {
     "data": {
      "text/plain": [
       "92"
      ]
     },
     "execution_count": 65,
     "metadata": {},
     "output_type": "execute_result"
    }
   ],
   "source": [
    "len(add_list2)"
   ]
  },
  {
   "cell_type": "code",
   "execution_count": 66,
   "id": "acdd18fe",
   "metadata": {},
   "outputs": [],
   "source": [
    "for i in add_list2:\n",
    "    driver.get(clean_urls2[i])\n",
    "    time.sleep(4)\n",
    "    jjj = driver.find_elements(By.CLASS_NAME,\"lg-mb-30\")\n",
    "    judj = \"\"\n",
    "    for j in jjj:\n",
    "        judj=judj+\" \"+j.text\n",
    "    juj_list2[i]=judj "
   ]
  },
  {
   "cell_type": "code",
   "execution_count": 67,
   "id": "2de5216b",
   "metadata": {},
   "outputs": [],
   "source": [
    "add_list2=list()\n",
    "for i in range(len(juj_list2)):\n",
    "    if \"ה\" not in juj_list2[i]:\n",
    "        add_list2.append(i)"
   ]
  },
  {
   "cell_type": "code",
   "execution_count": 68,
   "id": "04c9403d",
   "metadata": {},
   "outputs": [
    {
     "data": {
      "text/plain": [
       "0"
      ]
     },
     "execution_count": 68,
     "metadata": {},
     "output_type": "execute_result"
    }
   ],
   "source": [
    "len(add_list2)"
   ]
  },
  {
   "cell_type": "code",
   "execution_count": 69,
   "id": "3d1c575b",
   "metadata": {},
   "outputs": [],
   "source": [
    "#tofile \n",
    "df2 =pd.DataFrame(juj_list2 )\n",
    "df2.to_csv(\"dimosJudge.csv\",index=False)\n"
   ]
  },
  {
   "cell_type": "code",
   "execution_count": null,
   "id": "1531508d",
   "metadata": {},
   "outputs": [],
   "source": [
    "#check we didnt miss:\n",
    "#for i in len juj_list\n",
    "#if \"ה\" not in juj_list[i]\n",
    "#print(i)\n",
    "\n",
    "\n"
   ]
  },
  {
   "cell_type": "code",
   "execution_count": 70,
   "id": "2d31d27f",
   "metadata": {},
   "outputs": [
    {
     "data": {
      "text/html": [
       "<div>\n",
       "<style scoped>\n",
       "    .dataframe tbody tr th:only-of-type {\n",
       "        vertical-align: middle;\n",
       "    }\n",
       "\n",
       "    .dataframe tbody tr th {\n",
       "        vertical-align: top;\n",
       "    }\n",
       "\n",
       "    .dataframe thead th {\n",
       "        text-align: right;\n",
       "    }\n",
       "</style>\n",
       "<table border=\"1\" class=\"dataframe\">\n",
       "  <thead>\n",
       "    <tr style=\"text-align: right;\">\n",
       "      <th></th>\n",
       "      <th>0</th>\n",
       "    </tr>\n",
       "  </thead>\n",
       "  <tbody>\n",
       "    <tr>\n",
       "      <th>0</th>\n",
       "      <td>השופטת מלכה אביב\\nMALKA AVIV\\nשופטת בית משפט...</td>\n",
       "    </tr>\n",
       "    <tr>\n",
       "      <th>1</th>\n",
       "      <td>השופטת דליה אבי-גיא\\nDELIA AVI-GUY\\nסגנית נש...</td>\n",
       "    </tr>\n",
       "    <tr>\n",
       "      <th>2</th>\n",
       "      <td>השופטת רות אבידע\\nRUTH AVIDA\\nשופטת בכירה בי...</td>\n",
       "    </tr>\n",
       "    <tr>\n",
       "      <th>3</th>\n",
       "      <td>השופט יצחק אבינל ז\"ל\\nשופט של בית משפט שלום ...</td>\n",
       "    </tr>\n",
       "    <tr>\n",
       "      <th>4</th>\n",
       "      <td>נולדה בישראל.\\nבשנת 1967 סיימה את לימודיה ה...</td>\n",
       "    </tr>\n",
       "    <tr>\n",
       "      <th>...</th>\n",
       "      <td>...</td>\n",
       "    </tr>\n",
       "    <tr>\n",
       "      <th>847</th>\n",
       "      <td>השופט צבי שרצקי\\nZVI SHERATZKY\\nשופט בכיר בי...</td>\n",
       "    </tr>\n",
       "    <tr>\n",
       "      <th>848</th>\n",
       "      <td>השופט בן ציון שרשבסקי ז\"ל\\nשופט בית המשפט הע...</td>\n",
       "    </tr>\n",
       "    <tr>\n",
       "      <th>849</th>\n",
       "      <td>השופט אברהם ששון ז\"ל\\nשופט של בימ\"ש שלום אשד...</td>\n",
       "    </tr>\n",
       "    <tr>\n",
       "      <th>850</th>\n",
       "      <td>השופט שלמה תוסיה כהן ז\"ל\\nשופט של בימ\"ש מחוז...</td>\n",
       "    </tr>\n",
       "    <tr>\n",
       "      <th>851</th>\n",
       "      <td>השופט ארי תיבון ז\"ל\\nARI TIBBON\\nשופט בית הד...</td>\n",
       "    </tr>\n",
       "  </tbody>\n",
       "</table>\n",
       "<p>852 rows × 1 columns</p>\n",
       "</div>"
      ],
      "text/plain": [
       "                                                     0\n",
       "0      השופטת מלכה אביב\\nMALKA AVIV\\nשופטת בית משפט...\n",
       "1      השופטת דליה אבי-גיא\\nDELIA AVI-GUY\\nסגנית נש...\n",
       "2      השופטת רות אבידע\\nRUTH AVIDA\\nשופטת בכירה בי...\n",
       "3      השופט יצחק אבינל ז\"ל\\nשופט של בית משפט שלום ...\n",
       "4       נולדה בישראל.\\nבשנת 1967 סיימה את לימודיה ה...\n",
       "..                                                 ...\n",
       "847    השופט צבי שרצקי\\nZVI SHERATZKY\\nשופט בכיר בי...\n",
       "848    השופט בן ציון שרשבסקי ז\"ל\\nשופט בית המשפט הע...\n",
       "849    השופט אברהם ששון ז\"ל\\nשופט של בימ\"ש שלום אשד...\n",
       "850    השופט שלמה תוסיה כהן ז\"ל\\nשופט של בימ\"ש מחוז...\n",
       "851    השופט ארי תיבון ז\"ל\\nARI TIBBON\\nשופט בית הד...\n",
       "\n",
       "[852 rows x 1 columns]"
      ]
     },
     "execution_count": 70,
     "metadata": {},
     "output_type": "execute_result"
    }
   ],
   "source": [
    "df2"
   ]
  },
  {
   "cell_type": "code",
   "execution_count": null,
   "id": "9cff85f8",
   "metadata": {},
   "outputs": [],
   "source": [
    "# for each link in list - enter link get - name - job - koh as list of 3 sections.\n",
    "\n",
    "\n",
    "#split the koh to how many needed\n",
    "\n",
    "#add gender\n",
    "\n",
    "#add age\n",
    "\n",
    "#add where learned\n",
    "\n",
    "#add year\n",
    "\n",
    "#add curr job\n",
    "\n",
    "#"
   ]
  }
 ],
 "metadata": {
  "kernelspec": {
   "display_name": "Python 3 (ipykernel)",
   "language": "python",
   "name": "python3"
  },
  "language_info": {
   "codemirror_mode": {
    "name": "ipython",
    "version": 3
   },
   "file_extension": ".py",
   "mimetype": "text/x-python",
   "name": "python",
   "nbconvert_exporter": "python",
   "pygments_lexer": "ipython3",
   "version": "3.9.6"
  }
 },
 "nbformat": 4,
 "nbformat_minor": 5
}
